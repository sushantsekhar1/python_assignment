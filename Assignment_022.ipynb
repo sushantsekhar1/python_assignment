{
  "nbformat": 4,
  "nbformat_minor": 0,
  "metadata": {
    "colab": {
      "provenance": [],
      "authorship_tag": "ABX9TyP+ftdxyjJdO+NfUjSyZQFp",
      "include_colab_link": true
    },
    "kernelspec": {
      "name": "python3",
      "display_name": "Python 3"
    },
    "language_info": {
      "name": "python"
    }
  },
  "cells": [
    {
      "cell_type": "markdown",
      "metadata": {
        "id": "view-in-github",
        "colab_type": "text"
      },
      "source": [
        "<a href=\"https://colab.research.google.com/github/sushantsekhar1/python_assignment/blob/python_basic/Assignment_022.ipynb\" target=\"_parent\"><img src=\"https://colab.research.google.com/assets/colab-badge.svg\" alt=\"Open In Colab\"/></a>"
      ]
    },
    {
      "cell_type": "markdown",
      "source": [
        "#**PYTHON - 22**"
      ],
      "metadata": {
        "id": "DTrD5Y8S6UPh"
      }
    },
    {
      "cell_type": "markdown",
      "source": [
        "**1. What is the result of the code, and explain?**\n",
        "```\n",
        ">>> X = 'iNeuron'\n",
        ">>> def func():\n",
        "      print(X)\n",
        "\n",
        ">>> func()\n",
        "```"
      ],
      "metadata": {
        "id": "Mr7bsAqp6Zk3"
      }
    },
    {
      "cell_type": "code",
      "execution_count": 2,
      "metadata": {
        "id": "Hg-mmTh86PXZ",
        "colab": {
          "base_uri": "https://localhost:8080/"
        },
        "outputId": "e7db3003-8c7c-4cbc-f69f-9c8b5152d64d"
      },
      "outputs": [
        {
          "output_type": "stream",
          "name": "stdout",
          "text": [
            "iNeuron\n"
          ]
        }
      ],
      "source": [
        "X = 'iNeuron'\n",
        "def func():\n",
        "  print(X)\n",
        "\n",
        "func()\n",
        "\n",
        "# the global variable accessible in side the functions in python.\n",
        "#But we can not access function variable out side function.\n",
        "#Since x is global variable we are able to print it in side the function solution : 'iNeuron'"
      ]
    },
    {
      "cell_type": "markdown",
      "source": [
        "**2. What is the result of the code, and explain?**\n",
        "```\n",
        ">>> X = 'iNeuron'\n",
        ">>> def func():\n",
        "X = 'NI!'\n",
        "\n",
        ">>> func()\n",
        ">>> print(X)\n",
        "```"
      ],
      "metadata": {
        "id": "7wlosD3b8p1i"
      }
    },
    {
      "cell_type": "code",
      "source": [
        "X = 'iNeuron'\n",
        "def func():\n",
        "  X = 'NI!'\n",
        "\n",
        "func()\n",
        "print(X)\n",
        "\n",
        "# The global variables are access in side the functions in python. But we can not access function variable out side the function.\n",
        "# Since x is golbal variable we are able to print it out side of the function solution = 'iNeuron'"
      ],
      "metadata": {
        "id": "NE6pVFQO7KAo",
        "colab": {
          "base_uri": "https://localhost:8080/"
        },
        "outputId": "b7ed314d-c8a7-4e1d-83f3-4f25f1a492a3"
      },
      "execution_count": 4,
      "outputs": [
        {
          "output_type": "stream",
          "name": "stdout",
          "text": [
            "iNeuron\n"
          ]
        }
      ]
    },
    {
      "cell_type": "markdown",
      "source": [
        "**3. What does this code print, and why?**\n",
        "```\n",
        ">>> X = 'iNeuron'\n",
        ">>> def func():\n",
        " X = 'NI'\n",
        " print(X)\n",
        "\n",
        ">>> func()\n",
        ">>> print(X)\n",
        "```"
      ],
      "metadata": {
        "id": "iByfrnLr-69o"
      }
    },
    {
      "cell_type": "code",
      "source": [
        "X = 'iNeuron'\n",
        "def func():\n",
        "  X = 'NI'\n",
        "  print(X)\n",
        "\n",
        "func()\n",
        "print(X)\n",
        "\n",
        "# The global variable are access in side the function in python, but we can not access function variable out side the function.\n",
        "# X is updated with 'NI' which is local to function and its immutable."
      ],
      "metadata": {
        "colab": {
          "base_uri": "https://localhost:8080/"
        },
        "id": "b_tZcu1K-Edk",
        "outputId": "ecbc02d9-924a-4960-f767-b1d00bdf7a15"
      },
      "execution_count": 5,
      "outputs": [
        {
          "output_type": "stream",
          "name": "stdout",
          "text": [
            "NI\n",
            "iNeuron\n"
          ]
        }
      ]
    },
    {
      "cell_type": "markdown",
      "source": [
        "**4. What output does this code produce? Why?**\n",
        "```\n",
        ">>> X = 'iNeuron'\n",
        ">>> def func():\n",
        " global X\n",
        " X = 'NI'\n",
        "\n",
        ">>> func()\n",
        ">>> print(X)\n",
        "```"
      ],
      "metadata": {
        "id": "dnoRSMEpAS_L"
      }
    },
    {
      "cell_type": "code",
      "source": [
        "X = 'iNeuron'\n",
        "def func():\n",
        "  global X\n",
        "  X = 'NI'\n",
        "  print(X)\n",
        "\n",
        "func()\n",
        "print(X)\n",
        "\n",
        "# since the X in side function is made Global, it will be accesible out side of the function too.\n",
        "# now X will have new value."
      ],
      "metadata": {
        "colab": {
          "base_uri": "https://localhost:8080/"
        },
        "id": "q6QKZxpT_bV6",
        "outputId": "48c6874c-5feb-452c-9dbc-180f330003e4"
      },
      "execution_count": 8,
      "outputs": [
        {
          "output_type": "stream",
          "name": "stdout",
          "text": [
            "NI\n",
            "NI\n"
          ]
        }
      ]
    },
    {
      "cell_type": "markdown",
      "source": [
        "**Q. What about this code—what’s the output, and why?**\n",
        "```\n",
        ">>> X = 'iNeuron'\n",
        ">>> def func():\n",
        "       X = 'NI'\n",
        ">>> def nested():\n",
        "     print(X)\n",
        "     nested()\n",
        "\n",
        ">>> func()\n",
        ">>> X\n",
        "```"
      ],
      "metadata": {
        "id": "T0Z1ulA-Bvqy"
      }
    },
    {
      "cell_type": "code",
      "source": [
        "X = 'iNeuron'\n",
        "def func():\n",
        "  X = 'NI'\n",
        "def nested():\n",
        "  print(X)\n",
        "  nested()\n",
        "\n",
        "func()\n",
        "X\n",
        "\n",
        "# the nested() function will print 'iNeuron', Then func() does not display anything,\n",
        "# and x ='NI' is not accessible out side the function."
      ],
      "metadata": {
        "colab": {
          "base_uri": "https://localhost:8080/",
          "height": 35
        },
        "id": "F10gqlIgBFkZ",
        "outputId": "2e5c8c12-4a14-414f-abad-f8930b6900d7"
      },
      "execution_count": 10,
      "outputs": [
        {
          "output_type": "execute_result",
          "data": {
            "text/plain": [
              "'iNeuron'"
            ],
            "application/vnd.google.colaboratory.intrinsic+json": {
              "type": "string"
            }
          },
          "metadata": {},
          "execution_count": 10
        }
      ]
    },
    {
      "cell_type": "markdown",
      "source": [
        "**Q. How about this code: what is its output in Python 3, and explain?**\n",
        "```\n",
        ">>> def func():\n",
        " X = 'NI'\n",
        " def nested():\n",
        "  nonlocal X\n",
        "  X = 'Spam'\n",
        "  nested()\n",
        "  print(X)\n",
        "\n",
        ">>> func()\n",
        "```"
      ],
      "metadata": {
        "id": "l40YrkfZCynn"
      }
    },
    {
      "cell_type": "code",
      "source": [
        "def func():\n",
        "  X = 'NI'\n",
        "  def nested():\n",
        "    nonlocal X\n",
        "    X = 'Spam'\n",
        "  nested ()\n",
        "  print(X)\n",
        "\n",
        "func()\n",
        "\n",
        "#Nonlocal variables are used in nested functions whose local scope is not defined.\n",
        "#This means that the variable can be neither in the local nor the global scope. it print the updated value from nested\n",
        "#function."
      ],
      "metadata": {
        "colab": {
          "base_uri": "https://localhost:8080/"
        },
        "id": "5LPn91lGCeNj",
        "outputId": "321d7494-cfb9-49b5-f259-a2fe970b5204"
      },
      "execution_count": 16,
      "outputs": [
        {
          "output_type": "stream",
          "name": "stdout",
          "text": [
            "Spam\n"
          ]
        }
      ]
    }
  ]
}