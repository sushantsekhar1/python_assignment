{
  "nbformat": 4,
  "nbformat_minor": 0,
  "metadata": {
    "colab": {
      "provenance": [],
      "authorship_tag": "ABX9TyOHzWFU+WAWgAYXJjMryw8M",
      "include_colab_link": true
    },
    "kernelspec": {
      "name": "python3",
      "display_name": "Python 3"
    },
    "language_info": {
      "name": "python"
    }
  },
  "cells": [
    {
      "cell_type": "markdown",
      "metadata": {
        "id": "view-in-github",
        "colab_type": "text"
      },
      "source": [
        "<a href=\"https://colab.research.google.com/github/sushantsekhar1/python_assignment/blob/python_basic/Assignment_001.ipynb\" target=\"_parent\"><img src=\"https://colab.research.google.com/assets/colab-badge.svg\" alt=\"Open In Colab\"/></a>"
      ]
    },
    {
      "cell_type": "markdown",
      "source": [
        "## 1. In the below elements which of them are values or an expression? eg:- values can be integer or string and expressions will be mathematical operators.\n",
        "\n",
        "*  *\n",
        "*  'hello'\n",
        "*   -87.8\n",
        "*   -\n",
        "*   /\n",
        "*   +\n",
        "*   6"
      ],
      "metadata": {
        "id": "B8zUO4kxIK8k"
      }
    },
    {
      "cell_type": "markdown",
      "source": [
        "Elements | Values & Expression\n",
        "- | -\n",
        "* | expression (mathematical operator)\n",
        "'hello' | value (string)\n",
        "-87.8 | value (float)\n",
        "- | expression (mathematical operator)\n",
        "/ | expression (mathematical operator)\n",
        "+ | expression (mathematical operator)\n",
        "6 | value (integer)"
      ],
      "metadata": {
        "id": "Lv2I7rAKI-7b"
      }
    },
    {
      "cell_type": "markdown",
      "source": [
        "## 2. What is the difference between string and variable?"
      ],
      "metadata": {
        "id": "dP0Os9PMLwQZ"
      }
    },
    {
      "cell_type": "markdown",
      "source": [
        "## String\n"
      ],
      "metadata": {
        "id": "1qazDHB3L40k"
      }
    },
    {
      "cell_type": "markdown",
      "source": [
        "*  String in python written in either single quote and double quote.\n",
        "*  A string is a sequence of one or more characters (letters, numbers, symbols) that can be either a constant or a variable.\n",
        "*  In Python, we can join two or more strings i.e.(concatenate) using the + operator.\n",
        "*  We use the == operator to compare two strings. If two string is equal it return TRUE, Otherwise it return FALSE.\n",
        "*  We can also create a multiline string in Python.we use triple double quotes \"\"\" or triple single quotes \"\"\"."
      ],
      "metadata": {
        "id": "NTfoH8A_L9R2"
      }
    },
    {
      "cell_type": "code",
      "source": [
        "a = \"Hello\"\n",
        "b = 'World'\n",
        "print(a,b)"
      ],
      "metadata": {
        "colab": {
          "base_uri": "https://localhost:8080/"
        },
        "id": "oWrRwudmQcnz",
        "outputId": "71da4168-6390-4ab7-fe6a-69a642488db6"
      },
      "execution_count": 4,
      "outputs": [
        {
          "output_type": "stream",
          "name": "stdout",
          "text": [
            "Hello World\n"
          ]
        }
      ]
    },
    {
      "cell_type": "code",
      "source": [
        "a = \"\"\"India, officially the Republic of India is a country in South Asia. It is the seventh-largest country by area, the second-most populous country, and the most populous democracy in the world.\"\"\"\n",
        "print(a)"
      ],
      "metadata": {
        "colab": {
          "base_uri": "https://localhost:8080/"
        },
        "id": "6jlDDeqhQr-y",
        "outputId": "18fec8ae-e558-41f8-9673-a2fbd4d96f3c"
      },
      "execution_count": 6,
      "outputs": [
        {
          "output_type": "stream",
          "name": "stdout",
          "text": [
            "India, officially the Republic of India is a country in South Asia. It is the seventh-largest country by area, the second-most populous country, and the most populous democracy in the world.\n"
          ]
        }
      ]
    },
    {
      "cell_type": "code",
      "source": [
        "# Taking input from user\n",
        "a = \"Hey,I am ram\"\n",
        "b = \"Hello World\"\n",
        "c = \"Hey,I am ram\"\n",
        "\n",
        "# compare a and b\n",
        "print(a == b)\n",
        "\n",
        "# compare a and c\n",
        "print(a == c)\n"
      ],
      "metadata": {
        "colab": {
          "base_uri": "https://localhost:8080/"
        },
        "id": "Mj-oSHYPLSgM",
        "outputId": "e41d1086-5585-4baf-c36d-1e8f28258110"
      },
      "execution_count": 3,
      "outputs": [
        {
          "output_type": "stream",
          "name": "stdout",
          "text": [
            "False\n",
            "True\n"
          ]
        }
      ]
    },
    {
      "cell_type": "markdown",
      "source": [
        "## Variable"
      ],
      "metadata": {
        "id": "RsMkxOr0RHaW"
      }
    },
    {
      "cell_type": "markdown",
      "source": [
        "*  Variables are symbols that you can use to store data in a program.\n",
        "*  It an empty box that we fill with some data or value.Data will be an integer,a string, float,etc.\n",
        "\n",
        "* Ruels and Regulation for naming the variable -\n",
        "\n",
        "  1. The variable name should either start with an Uppercase(A to Z) or Lowercase(a to z) character or an underscore(_). \n",
        "  2. A variable not start with digit or contain any whitespace or any special symbol like *,@,%,&,etc.\n",
        "  3. variable names are case-sensitive(name, Name and NAME are three different variables).\n",
        "  4. you not use any reserved word (keywords) as a variable name."
      ],
      "metadata": {
        "id": "jj4NmvMmRLvA"
      }
    },
    {
      "cell_type": "code",
      "source": [
        "# declaring the variable\n",
        "num = 100\n",
        " \n",
        "# display the data \n",
        "print( num)"
      ],
      "metadata": {
        "colab": {
          "base_uri": "https://localhost:8080/"
        },
        "id": "_uMlxMhvU5fX",
        "outputId": "a57dce58-d980-4e24-ff31-50337cfe2f17"
      },
      "execution_count": 7,
      "outputs": [
        {
          "output_type": "stream",
          "name": "stdout",
          "text": [
            "100\n"
          ]
        }
      ]
    },
    {
      "cell_type": "code",
      "source": [
        "# declaring the variable\n",
        "num = 1112\n",
        " \n",
        "# Before display the variable\n",
        "print(\"Before declare: \", num)\n",
        " \n",
        "# re-declare the var\n",
        "num = 122.4\n",
        " # After display the variable  \n",
        "print(\"After re-declare:\", num)\n"
      ],
      "metadata": {
        "colab": {
          "base_uri": "https://localhost:8080/"
        },
        "id": "5Lo7T2nmVRfz",
        "outputId": "add912e9-1425-4b93-b57c-47f4e2637657"
      },
      "execution_count": 8,
      "outputs": [
        {
          "output_type": "stream",
          "name": "stdout",
          "text": [
            "Before declare:  1112\n",
            "After re-declare: 122.4\n"
          ]
        }
      ]
    },
    {
      "cell_type": "markdown",
      "source": [
        "## 3. Describe three different data types."
      ],
      "metadata": {
        "id": "RZlnF6lcV-a0"
      }
    },
    {
      "cell_type": "markdown",
      "source": [
        "Data Types are used to define the type of a variable.it defines what type of data we are going to store in a variable.\n",
        "\n",
        "For example -  A man age store a numberic value and his name store in string character.\n",
        "\n",
        "In Python, data-types are:-\n",
        "\n",
        "1. Numeric\n",
        "\n",
        "2. Boolean\n",
        "\n",
        "3. Sequence Type\n",
        "\n",
        "4. Set\n",
        "\n",
        "5. Dictionary"
      ],
      "metadata": {
        "id": "byb6GiwOXeNO"
      }
    },
    {
      "cell_type": "markdown",
      "source": [
        "## Numeric"
      ],
      "metadata": {
        "id": "2VdOI_gxZbBx"
      }
    },
    {
      "cell_type": "markdown",
      "source": [
        "In python, Numeric data types repersent numeric value.Numeric Value can be integer,floating number or complex numbers.\n",
        "\n",
        "These values defined as:\n",
        "\n",
        "* Integer -> int\n",
        "* Float -> float\n",
        "* Complex -> complex\n",
        "\n"
      ],
      "metadata": {
        "id": "VT-LrH1MZlC9"
      }
    },
    {
      "cell_type": "markdown",
      "source": [
        "1. Intiger\n",
        "\n",
        "* It value is represent by int class. It can be positive,negative,zero and it can't witten in decimal or fractional value.\n",
        "* In Python there is no limit to how long an integer value can be.\n",
        " \n",
        "  example: 2,-5,0,etc\n",
        "\n",
        "2. Float\n",
        "\n",
        "* It value is reprersent by float class. It can be represent by decimal point and fractional value.\n",
        "\n",
        "  example: 22.4,44.6,55/7,etc\n",
        "\n",
        "3. Complex\n",
        "\n",
        "* It value is represent by complex classs. it is specified by (real part)+(imaginary part)j.\n",
        "\n",
        "  example: (2+3j),(-3+5j),etc"
      ],
      "metadata": {
        "id": "jQ0tCtqObZHQ"
      }
    },
    {
      "cell_type": "code",
      "source": [
        "a = 5 # intiger\n",
        "print(\"Type of a: \", type(a))\n",
        "  \n",
        "b = 5.2 # float\n",
        "print(\"\\nType of b: \", type(b))\n",
        "  \n",
        "c = 2 + 4j # complex\n",
        "print(\"\\nType of c: \", type(c))"
      ],
      "metadata": {
        "colab": {
          "base_uri": "https://localhost:8080/"
        },
        "id": "G9kmnPvyV1nN",
        "outputId": "77ba5fe3-8e5b-42e5-da45-33446f628055"
      },
      "execution_count": 10,
      "outputs": [
        {
          "output_type": "stream",
          "name": "stdout",
          "text": [
            "Type of a:  <class 'int'>\n",
            "\n",
            "Type of b:  <class 'float'>\n",
            "\n",
            "Type of c:  <class 'complex'>\n"
          ]
        }
      ]
    },
    {
      "cell_type": "markdown",
      "source": [
        "## Boolean"
      ],
      "metadata": {
        "id": "fHGMiFScf5gd"
      }
    },
    {
      "cell_type": "markdown",
      "source": [
        "It is denoted by the class bool. In Boolean data types it has two value i.e. True and False.In boolean object is equal to True it return True otherwise it return False.\n"
      ],
      "metadata": {
        "id": "S7VJ62NZf9iA"
      }
    },
    {
      "cell_type": "code",
      "source": [
        "print(type(True)) # it is vaild\n",
        "print(type(False)) # it is valid\n",
        "  \n",
        "print(type(false)) # it is not valid\n"
      ],
      "metadata": {
        "colab": {
          "base_uri": "https://localhost:8080/",
          "height": 240
        },
        "id": "tOa4h97PfWbX",
        "outputId": "dd73f1b6-fef9-4931-cbae-e9151eebbfb2"
      },
      "execution_count": 13,
      "outputs": [
        {
          "output_type": "stream",
          "name": "stdout",
          "text": [
            "<class 'bool'>\n",
            "<class 'bool'>\n"
          ]
        },
        {
          "output_type": "error",
          "ename": "NameError",
          "evalue": "ignored",
          "traceback": [
            "\u001b[0;31m---------------------------------------------------------------------------\u001b[0m",
            "\u001b[0;31mNameError\u001b[0m                                 Traceback (most recent call last)",
            "\u001b[0;32m<ipython-input-13-ab9a6576fcf3>\u001b[0m in \u001b[0;36m<module>\u001b[0;34m\u001b[0m\n\u001b[1;32m      2\u001b[0m \u001b[0mprint\u001b[0m\u001b[0;34m(\u001b[0m\u001b[0mtype\u001b[0m\u001b[0;34m(\u001b[0m\u001b[0;32mFalse\u001b[0m\u001b[0;34m)\u001b[0m\u001b[0;34m)\u001b[0m \u001b[0;31m# it is valid\u001b[0m\u001b[0;34m\u001b[0m\u001b[0;34m\u001b[0m\u001b[0m\n\u001b[1;32m      3\u001b[0m \u001b[0;34m\u001b[0m\u001b[0m\n\u001b[0;32m----> 4\u001b[0;31m \u001b[0mprint\u001b[0m\u001b[0;34m(\u001b[0m\u001b[0mtype\u001b[0m\u001b[0;34m(\u001b[0m\u001b[0mfalse\u001b[0m\u001b[0;34m)\u001b[0m\u001b[0;34m)\u001b[0m\u001b[0;34m\u001b[0m\u001b[0;34m\u001b[0m\u001b[0m\n\u001b[0m",
            "\u001b[0;31mNameError\u001b[0m: name 'false' is not defined"
          ]
        }
      ]
    },
    {
      "cell_type": "markdown",
      "source": [
        "## List"
      ],
      "metadata": {
        "id": "3KEIdMYoiDnk"
      }
    },
    {
      "cell_type": "markdown",
      "source": [
        "List are store multiple item in single variable. Lists are created using square brackets [] and seperate by comma , .\n",
        "\n",
        "\n",
        "\n"
      ],
      "metadata": {
        "id": "_DwoOOdwiFmp"
      }
    },
    {
      "cell_type": "code",
      "source": [
        "# A list with 3 integers\n",
        "num = [1, 2, 5]\n",
        "# A list with 3 String\n",
        "num2 = [\"Hello\",\"Sun\",\"Man\"]\n",
        "# A list with mixed data types\n",
        "num3 = [13, \"Hello\", 7.4]\n",
        "\n",
        "print(num)\n",
        "print(num2)\n",
        "print(num3)"
      ],
      "metadata": {
        "colab": {
          "base_uri": "https://localhost:8080/"
        },
        "id": "gHsfC0IKg35S",
        "outputId": "0271a73d-127c-4f4d-fb80-9db85b28adb1"
      },
      "execution_count": 16,
      "outputs": [
        {
          "output_type": "stream",
          "name": "stdout",
          "text": [
            "[1, 2, 5]\n",
            "['Hello', 'Sun', 'Man']\n",
            "[13, 'Hello', 7.4]\n"
          ]
        }
      ]
    },
    {
      "cell_type": "markdown",
      "source": [
        "## 4. What is an expression made up of? What do all expressions do?"
      ],
      "metadata": {
        "id": "3_I955ydkIEV"
      }
    },
    {
      "cell_type": "markdown",
      "source": [
        "A exression is a combination of operators,costant and variable.An expression is consist of one or more operands.\n",
        "\n",
        "Expression are representation of value.\n",
        "For example any string is also an expressions since it represents the value of the string."
      ],
      "metadata": {
        "id": "2M1OP6RtkXZ0"
      }
    },
    {
      "cell_type": "markdown",
      "source": [
        " ## 5. This assignment statements, like spam = 10. What is the difference between an expression and a statement?"
      ],
      "metadata": {
        "id": "n3Xo0mqLlurN"
      }
    },
    {
      "cell_type": "markdown",
      "source": [
        "A combination of operands and operators is called an expression.The expression in Python produces some value after being interpreted by the Python interpreter\n",
        "\n",
        "An expression in Python is very different from statements in Python. A statement is not evaluated for some results."
      ],
      "metadata": {
        "id": "pkGZ_RwFn3OT"
      }
    },
    {
      "cell_type": "code",
      "source": [
        "spam = 10 # A Statment\n",
        "spam = spam + 12 # An Expression\n",
        "\n",
        "print(spam)\n"
      ],
      "metadata": {
        "colab": {
          "base_uri": "https://localhost:8080/"
        },
        "id": "Bj6r9iTmjWyV",
        "outputId": "1df79002-86e6-46f9-bea3-9ac6eb9336c8"
      },
      "execution_count": 18,
      "outputs": [
        {
          "output_type": "stream",
          "name": "stdout",
          "text": [
            "22\n"
          ]
        }
      ]
    },
    {
      "cell_type": "code",
      "source": [],
      "metadata": {
        "id": "tcoXWc29phQm"
      },
      "execution_count": null,
      "outputs": []
    },
    {
      "cell_type": "markdown",
      "source": [
        "## 6. After running the following code, what does the variable bacon contain?\n",
        "## bacon = 22\n",
        "## bacon + 1"
      ],
      "metadata": {
        "id": "56LvRWz7qF3i"
      }
    },
    {
      "cell_type": "code",
      "source": [
        "bacon = 22\n",
        "bacon+1"
      ],
      "metadata": {
        "colab": {
          "base_uri": "https://localhost:8080/"
        },
        "id": "GefRRvdBqQPV",
        "outputId": "789be584-e785-4c01-caaa-85b7585b95f9"
      },
      "execution_count": 20,
      "outputs": [
        {
          "output_type": "execute_result",
          "data": {
            "text/plain": [
              "23"
            ]
          },
          "metadata": {},
          "execution_count": 20
        }
      ]
    },
    {
      "cell_type": "markdown",
      "source": [
        "## 7. What should the values of the following two terms be?\n",
        "##    'spam' + 'spamspam'\n",
        "##    'spam' * 3"
      ],
      "metadata": {
        "id": "Uzme3kGcqdv6"
      }
    },
    {
      "cell_type": "code",
      "source": [
        "a = 'spam'+'spamspam'\n",
        "b = 'spam'*3\n",
        "print(a)\n",
        "print(b)"
      ],
      "metadata": {
        "colab": {
          "base_uri": "https://localhost:8080/"
        },
        "id": "V-ikugm2qY3t",
        "outputId": "6de36854-a6ea-42a9-d367-632ea9cbb8b1"
      },
      "execution_count": 22,
      "outputs": [
        {
          "output_type": "stream",
          "name": "stdout",
          "text": [
            "spamspamspam\n",
            "spamspamspam\n"
          ]
        }
      ]
    },
    {
      "cell_type": "markdown",
      "source": [
        "## 8. Why is eggs a valid variable name while 100 is invalid?"
      ],
      "metadata": {
        "id": "6JFpUU55sgdY"
      }
    },
    {
      "cell_type": "markdown",
      "source": [
        "100 is a intiger and eggs is variable.\n",
        "\n",
        "It is Ruel and Regulation For Variable.\n",
        " \n",
        "The variable name should either start with an Uppercase(A to Z) or Lowercase(a to z).A variable not start with digit ."
      ],
      "metadata": {
        "id": "SWKEH4qRs87j"
      }
    },
    {
      "cell_type": "markdown",
      "source": [
        "## 9. What three functions can be used to get the integer, floating-point number, or string version of a value?"
      ],
      "metadata": {
        "id": "A0BDd1lkt8sF"
      }
    },
    {
      "cell_type": "markdown",
      "source": [
        "Integer —> int()\n",
        "\n",
        "Floating-point —> float()\n",
        "\n",
        "String —> str()"
      ],
      "metadata": {
        "id": "tHhJl0gguPKJ"
      }
    },
    {
      "cell_type": "markdown",
      "source": [
        "## 10. Why does this expression cause an error? How can you fix it?\n",
        "## 'I have eaten' + 99 + 'burritos.'"
      ],
      "metadata": {
        "id": "ihuYhmMCuY1u"
      }
    },
    {
      "cell_type": "markdown",
      "source": [
        "99 is an integer and not a string.If 99 can convert into string.\n",
        "\n",
        "\"99\" is convert into string."
      ],
      "metadata": {
        "id": "wB0FoOXqwaA_"
      }
    },
    {
      "cell_type": "code",
      "source": [
        "a = 'I have eaten' + 99 + 'burritos.' # 99 is not a string.\n",
        "# we can't concatenate string and intiger.\n",
        "# Only we concatenate string to string.\n",
        "print(a)"
      ],
      "metadata": {
        "colab": {
          "base_uri": "https://localhost:8080/",
          "height": 187
        },
        "id": "nzp6RjpzrefD",
        "outputId": "3f432770-ebe4-42c9-abd4-3e0284537abd"
      },
      "execution_count": 25,
      "outputs": [
        {
          "output_type": "error",
          "ename": "TypeError",
          "evalue": "ignored",
          "traceback": [
            "\u001b[0;31m---------------------------------------------------------------------------\u001b[0m",
            "\u001b[0;31mTypeError\u001b[0m                                 Traceback (most recent call last)",
            "\u001b[0;32m<ipython-input-25-5c470b81b52b>\u001b[0m in \u001b[0;36m<module>\u001b[0;34m\u001b[0m\n\u001b[0;32m----> 1\u001b[0;31m \u001b[0ma\u001b[0m \u001b[0;34m=\u001b[0m \u001b[0;34m'I have eaten'\u001b[0m \u001b[0;34m+\u001b[0m \u001b[0;36m99\u001b[0m \u001b[0;34m+\u001b[0m \u001b[0;34m'burritos.'\u001b[0m\u001b[0;34m\u001b[0m\u001b[0;34m\u001b[0m\u001b[0m\n\u001b[0m\u001b[1;32m      2\u001b[0m \u001b[0mprint\u001b[0m\u001b[0;34m(\u001b[0m\u001b[0ma\u001b[0m\u001b[0;34m)\u001b[0m\u001b[0;34m\u001b[0m\u001b[0;34m\u001b[0m\u001b[0m\n",
            "\u001b[0;31mTypeError\u001b[0m: can only concatenate str (not \"int\") to str"
          ]
        }
      ]
    },
    {
      "cell_type": "code",
      "source": [
        "a = 'I have eaten' + \"99\" + 'burritos.'\n",
        "# if 99 can convert string -> \"99\"\n",
        "print(a)"
      ],
      "metadata": {
        "colab": {
          "base_uri": "https://localhost:8080/"
        },
        "id": "qoLCDoFZv9jL",
        "outputId": "b64d1d7a-6613-496e-a87b-989bbcd183df"
      },
      "execution_count": 27,
      "outputs": [
        {
          "output_type": "stream",
          "name": "stdout",
          "text": [
            "I have eaten99burritos.\n"
          ]
        }
      ]
    }
  ]
}