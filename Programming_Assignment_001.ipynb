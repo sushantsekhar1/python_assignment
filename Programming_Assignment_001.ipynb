{
  "nbformat": 4,
  "nbformat_minor": 0,
  "metadata": {
    "colab": {
      "provenance": [],
      "authorship_tag": "ABX9TyPT4kPmPEW54xQ+wYOdqvFW",
      "include_colab_link": true
    },
    "kernelspec": {
      "name": "python3",
      "display_name": "Python 3"
    },
    "language_info": {
      "name": "python"
    }
  },
  "cells": [
    {
      "cell_type": "markdown",
      "metadata": {
        "id": "view-in-github",
        "colab_type": "text"
      },
      "source": [
        "<a href=\"https://colab.research.google.com/github/sushantsekhar1/python_assignment/blob/python_assignment/Programming_Assignment_001.ipynb\" target=\"_parent\"><img src=\"https://colab.research.google.com/assets/colab-badge.svg\" alt=\"Open In Colab\"/></a>"
      ]
    },
    {
      "cell_type": "markdown",
      "source": [
        "## **Programming Assignment_1**"
      ],
      "metadata": {
        "id": "PHSo9AZrKmWa"
      }
    },
    {
      "cell_type": "markdown",
      "source": [
        "**1. Write a Python program to print \"Hello Python\" ?**"
      ],
      "metadata": {
        "id": "qs4qaoMwC_KH"
      }
    },
    {
      "cell_type": "code",
      "source": [
        "Hello = \"Hello Python\"\n",
        "print(Hello)"
      ],
      "metadata": {
        "colab": {
          "base_uri": "https://localhost:8080/"
        },
        "id": "Qkj6eFC_DFbL",
        "outputId": "32981db9-f4a4-4aed-c4c6-1a80bbc0025f"
      },
      "execution_count": 1,
      "outputs": [
        {
          "output_type": "stream",
          "name": "stdout",
          "text": [
            "Hello Python\n"
          ]
        }
      ]
    },
    {
      "cell_type": "markdown",
      "source": [
        "**2. Write a Python program to do arithmetical operations addition and division.?**"
      ],
      "metadata": {
        "id": "noiU-KiiDuon"
      }
    },
    {
      "cell_type": "code",
      "source": [
        "#For Addition\n",
        "a = 4\n",
        "b = 5\n",
        "print(f\"The Addition is: {a+b}\")"
      ],
      "metadata": {
        "colab": {
          "base_uri": "https://localhost:8080/"
        },
        "id": "b3dhf4zMDXao",
        "outputId": "970fa8d0-433f-46d9-edf9-52d341250d34"
      },
      "execution_count": 5,
      "outputs": [
        {
          "output_type": "stream",
          "name": "stdout",
          "text": [
            "The Addition is: 9\n"
          ]
        }
      ]
    },
    {
      "cell_type": "code",
      "source": [
        "#For Division\n",
        "a = 145\n",
        "b = 5\n",
        "print(f\"The Division is: {a//b}\")"
      ],
      "metadata": {
        "colab": {
          "base_uri": "https://localhost:8080/"
        },
        "id": "22TaQES7ECH1",
        "outputId": "337ecf3c-c2e0-4f90-e0e0-091a179ea722"
      },
      "execution_count": 6,
      "outputs": [
        {
          "output_type": "stream",
          "name": "stdout",
          "text": [
            "The Division is: 29\n"
          ]
        }
      ]
    },
    {
      "cell_type": "markdown",
      "source": [
        "**3. Write a Python program to find the area of a triangle?**"
      ],
      "metadata": {
        "id": "pXc_JNKDEYWI"
      }
    },
    {
      "cell_type": "code",
      "source": [
        "# For finding area of triangle\n",
        "b = float(input(\"Enter the base of triangle: \"))\n",
        "h = float(input(\"Enter the height of the triangle: \"))\n",
        "print(f\"The Area of a tringle: {1/2*b*h} \")"
      ],
      "metadata": {
        "colab": {
          "base_uri": "https://localhost:8080/"
        },
        "id": "QtYdeQupEMQR",
        "outputId": "3820e0e7-6eaa-4bb4-fa4c-1d03de385b85"
      },
      "execution_count": 15,
      "outputs": [
        {
          "output_type": "stream",
          "name": "stdout",
          "text": [
            "Enter the base of triangle: 34\n",
            "Enter the height of the triangle: 5\n",
            "The Area of a tringle: 85.0 \n"
          ]
        }
      ]
    },
    {
      "cell_type": "markdown",
      "source": [
        "**4. Write a Python program to swap two variables?**"
      ],
      "metadata": {
        "id": "wfoOChh0HzHB"
      }
    },
    {
      "cell_type": "code",
      "source": [
        "# Swapping two number\n",
        "a = 4\n",
        "b = 5\n",
        "print(f\"After swapping the Number: A: {a} B: {b}\")\n",
        "temp = a\n",
        "a = b\n",
        "b = temp\n",
        "print(f\"Before swapping the Number: A: {a} B: {b}\")\n",
        "temp = a"
      ],
      "metadata": {
        "colab": {
          "base_uri": "https://localhost:8080/"
        },
        "id": "ytveH5FzFIRx",
        "outputId": "01db8b6a-9538-46e2-9373-5ed3c835492b"
      },
      "execution_count": 16,
      "outputs": [
        {
          "output_type": "stream",
          "name": "stdout",
          "text": [
            "After swapping the Number: A: 4 B: 5\n",
            "Before swapping the Number: A: 5 B: 4\n"
          ]
        }
      ]
    },
    {
      "cell_type": "markdown",
      "source": [
        "**5. Write a Python program to generate a random number?**"
      ],
      "metadata": {
        "id": "Lsli_tOxJmYR"
      }
    },
    {
      "cell_type": "code",
      "source": [
        "import random # To Generate Random Number\n",
        "ran = random.randint(0,100)\n",
        "print(ran)"
      ],
      "metadata": {
        "colab": {
          "base_uri": "https://localhost:8080/"
        },
        "id": "ZT6qNWH8JPtA",
        "outputId": "23dd5422-9c35-400f-ab0e-a6ddea4df160"
      },
      "execution_count": 17,
      "outputs": [
        {
          "output_type": "stream",
          "name": "stdout",
          "text": [
            "37\n"
          ]
        }
      ]
    },
    {
      "cell_type": "code",
      "source": [
        "import random # To Generate Random Number\n",
        "ran = random.randint(0,100)\n",
        "print(ran)"
      ],
      "metadata": {
        "colab": {
          "base_uri": "https://localhost:8080/"
        },
        "id": "MzB9Nm5EKXsd",
        "outputId": "21647833-61cf-495d-d096-8ead799e39c3"
      },
      "execution_count": 18,
      "outputs": [
        {
          "output_type": "stream",
          "name": "stdout",
          "text": [
            "29\n"
          ]
        }
      ]
    },
    {
      "cell_type": "code",
      "source": [],
      "metadata": {
        "id": "mrqGs3GfKkLh"
      },
      "execution_count": null,
      "outputs": []
    }
  ]
}