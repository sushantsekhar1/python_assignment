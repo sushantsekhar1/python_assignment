{
  "nbformat": 4,
  "nbformat_minor": 0,
  "metadata": {
    "colab": {
      "provenance": [],
      "authorship_tag": "ABX9TyNof9yl4u+viY9EuvFKU4Qa",
      "include_colab_link": true
    },
    "kernelspec": {
      "name": "python3",
      "display_name": "Python 3"
    },
    "language_info": {
      "name": "python"
    }
  },
  "cells": [
    {
      "cell_type": "markdown",
      "metadata": {
        "id": "view-in-github",
        "colab_type": "text"
      },
      "source": [
        "<a href=\"https://colab.research.google.com/github/sushantsekhar1/python_assignment/blob/python_assignment/Programming_Assignment_007.ipynb\" target=\"_parent\"><img src=\"https://colab.research.google.com/assets/colab-badge.svg\" alt=\"Open In Colab\"/></a>"
      ]
    },
    {
      "cell_type": "markdown",
      "source": [
        "**1. Write a Python Program to find sum of array?**"
      ],
      "metadata": {
        "id": "q-4719K8BcDw"
      }
    },
    {
      "cell_type": "code",
      "execution_count": 2,
      "metadata": {
        "colab": {
          "base_uri": "https://localhost:8080/"
        },
        "id": "T8Sf4qRFBZ2u",
        "outputId": "10868936-2b8e-41cf-e2fc-b81b0fcfcebe"
      },
      "outputs": [
        {
          "output_type": "stream",
          "name": "stdout",
          "text": [
            "The Sum of array: 14\n"
          ]
        }
      ],
      "source": [
        "arr = [2,3,4,5]\n",
        "sum = 0\n",
        "\n",
        "for i in range(0,len(arr)):\n",
        "  sum += arr[i]\n",
        "\n",
        "print(f\"The Sum of array: {str(sum)}\")"
      ]
    },
    {
      "cell_type": "markdown",
      "source": [
        "**2. Write a Python Program to find largest element in an array?**"
      ],
      "metadata": {
        "id": "mv3XJtLBCPDS"
      }
    },
    {
      "cell_type": "code",
      "source": [
        "arr = [2,3,7,1,4]\n",
        "max = arr[0]\n",
        "\n",
        "for i in range(0,len(arr)):\n",
        "  if(arr[i] > max):\n",
        "    max = arr[i]\n",
        "\n",
        "print(f\"The Largest Element in an Array: {str(max)}\")"
      ],
      "metadata": {
        "colab": {
          "base_uri": "https://localhost:8080/"
        },
        "id": "F4L7X9CXB_uT",
        "outputId": "037913b1-f463-4c74-bbed-18eb71c78d5a"
      },
      "execution_count": 4,
      "outputs": [
        {
          "output_type": "stream",
          "name": "stdout",
          "text": [
            "The Largest Element in an Array: 7\n"
          ]
        }
      ]
    },
    {
      "cell_type": "markdown",
      "source": [
        "**3. Write a Python Program for array rotation?**"
      ],
      "metadata": {
        "id": "X5_GYriTDUmz"
      }
    },
    {
      "cell_type": "code",
      "source": [
        "def rotate_array(arr, k):\n",
        "  n = len(arr)\n",
        "  k = k % n\n",
        "  rotated_arr = [None] * n\n",
        "  for i in range(n):\n",
        "    rotated_arr[i] = arr[(i - k) % n]\n",
        "  return rotated_arr\n",
        "\n",
        "array = [1,2,5,7,3,9]\n",
        "rotation_amount = 2\n",
        "rotated_arr = rotate_array(array, rotation_amount)\n",
        "print(f\"Original Array: {array}\")\n",
        "print(f\"Rotated Array: {rotated_arr}\")"
      ],
      "metadata": {
        "colab": {
          "base_uri": "https://localhost:8080/"
        },
        "id": "-y_204AYDK5W",
        "outputId": "658b1718-91bf-4911-9f78-c96865334953"
      },
      "execution_count": 5,
      "outputs": [
        {
          "output_type": "stream",
          "name": "stdout",
          "text": [
            "Original Array: [1, 2, 5, 7, 3, 9]\n",
            "Rotated Array: [3, 9, 1, 2, 5, 7]\n"
          ]
        }
      ]
    },
    {
      "cell_type": "markdown",
      "source": [
        "**4. Write a Python Program to Split the array and add the first part to the end?**"
      ],
      "metadata": {
        "id": "zwD--sJm8gI5"
      }
    },
    {
      "cell_type": "code",
      "source": [
        "arr = [2,3,4,5,6,7]\n",
        "n = len(arr)\n",
        "position = 3\n",
        "x = arr[:position]\n",
        "y = arr[position:]\n",
        "y.extend(x)\n",
        "for i in y:\n",
        "  print(i,end = \" \")"
      ],
      "metadata": {
        "colab": {
          "base_uri": "https://localhost:8080/"
        },
        "id": "moHFKYXY8RMm",
        "outputId": "7e91c021-c2db-4cca-87fb-e65426ed238c"
      },
      "execution_count": 6,
      "outputs": [
        {
          "output_type": "stream",
          "name": "stdout",
          "text": [
            "5 6 7 2 3 4 "
          ]
        }
      ]
    },
    {
      "cell_type": "markdown",
      "source": [
        "**5. Write a Python Program to check if given array is Monotonic?**"
      ],
      "metadata": {
        "id": "09j-veCGPRVn"
      }
    },
    {
      "cell_type": "code",
      "source": [
        "def isMonotonic(A):\n",
        "  x, y = [], []\n",
        "  x.extend(A)\n",
        "  y.extend(A)\n",
        "  x.sort()\n",
        "  y.sort(reverse = True)\n",
        "  if (x == A or y == A):\n",
        "    return True\n",
        "  return False\n",
        "\n",
        "\n",
        "A = [6,5,4,4]\n",
        "print(f\"Array is Monotonic: {isMonotonic(A)}\")\n"
      ],
      "metadata": {
        "colab": {
          "base_uri": "https://localhost:8080/"
        },
        "id": "CLmbW_X1O0Za",
        "outputId": "2ac54489-97e1-4516-a809-ec27d4626b0c"
      },
      "execution_count": 12,
      "outputs": [
        {
          "output_type": "stream",
          "name": "stdout",
          "text": [
            "Array is Monotonic: True\n"
          ]
        }
      ]
    }
  ]
}