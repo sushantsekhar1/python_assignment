{
  "nbformat": 4,
  "nbformat_minor": 0,
  "metadata": {
    "colab": {
      "provenance": [],
      "authorship_tag": "ABX9TyMQgdYIl1G5ebzOHTNd7EOS",
      "include_colab_link": true
    },
    "kernelspec": {
      "name": "python3",
      "display_name": "Python 3"
    },
    "language_info": {
      "name": "python"
    }
  },
  "cells": [
    {
      "cell_type": "markdown",
      "metadata": {
        "id": "view-in-github",
        "colab_type": "text"
      },
      "source": [
        "<a href=\"https://colab.research.google.com/github/sushantsekhar1/python_assignment/blob/python_basic/Assignment_009.ipynb\" target=\"_parent\"><img src=\"https://colab.research.google.com/assets/colab-badge.svg\" alt=\"Open In Colab\"/></a>"
      ]
    },
    {
      "cell_type": "markdown",
      "source": [
        "# **PYTHON - 9**"
      ],
      "metadata": {
        "id": "EIPqZUNolM7Y"
      }
    },
    {
      "cell_type": "markdown",
      "source": [
        "**1. To what does a relative path refer?**"
      ],
      "metadata": {
        "id": "64FoSyDMlZE6"
      }
    },
    {
      "cell_type": "markdown",
      "source": [
        "```\n",
        "\n",
        "A relative path refers to the location of a file or directory relative to the current working directory.\n",
        "```"
      ],
      "metadata": {
        "id": "4FjUwrwAlpA8"
      }
    },
    {
      "cell_type": "markdown",
      "source": [
        "**2. What does an absolute path start with your operating system?**"
      ],
      "metadata": {
        "id": "z-YpPN4plufP"
      }
    },
    {
      "cell_type": "markdown",
      "source": [
        "```\n",
        "An absolute path is a complete path to a file or directory, starting from the root directory of the file system. The root directory is the top-level directory in the file system, and it is often represented by a forward slash (/)\n",
        "```"
      ],
      "metadata": {
        "id": "JE2uZN2vmDsP"
      }
    },
    {
      "cell_type": "markdown",
      "source": [
        "**3. What do the functions os.getcwd() and os.chdir() do?**"
      ],
      "metadata": {
        "id": "YKG8qRm5mKa7"
      }
    },
    {
      "cell_type": "markdown",
      "source": [
        "```\n",
        "The os.getcwd() function returns the current working directory.\n",
        "The os.chdir() function changes the current working directory.\n",
        "```"
      ],
      "metadata": {
        "id": "y6y3uFdsmZ35"
      }
    },
    {
      "cell_type": "markdown",
      "source": [
        "**4. What are the . and .. folders?**"
      ],
      "metadata": {
        "id": "tS2oYUUemtLJ"
      }
    },
    {
      "cell_type": "markdown",
      "source": [
        "```\n",
        "The . folder refers to the current directory.\n",
        "The .. folder refers to the parent directory.\n",
        "```"
      ],
      "metadata": {
        "id": "VXKO7QbRm0Cs"
      }
    },
    {
      "cell_type": "markdown",
      "source": [
        "**5. In C:\\bacon\\eggs\\spam.txt, which part is the dir name, and which part is the base name?**"
      ],
      "metadata": {
        "id": "-nXfDjoMnHIo"
      }
    },
    {
      "cell_type": "markdown",
      "source": [
        "```\n",
        "The dir name is the part of the path that specifies the directory or directories that the file is located in.\n",
        "i.e. The File Location in the Directories is bacon and eggs.\n",
        "\n",
        "The base name is the part of the path that specifies the name of the file.\n",
        "i.e. The file is named spam.txt.\n",
        "```"
      ],
      "metadata": {
        "id": "rDTQv9ZLneZB"
      }
    },
    {
      "cell_type": "markdown",
      "source": [
        "**6. What are the three “mode” arguments that can be passed to the open() function?**"
      ],
      "metadata": {
        "id": "9j15T5N5oal5"
      }
    },
    {
      "cell_type": "markdown",
      "source": [
        "```\n",
        "The three \"mode\" arguments thst can be passed to open() functions are:\n",
        "\n",
        "\n",
        "1.   r  -> Open the file for Reading.\n",
        "2.   w  -> Create a new file or overwrite an existing file.\n",
        "3.   a  -> Append to an existing file.\n",
        "```\n",
        "\n"
      ],
      "metadata": {
        "id": "iezJfyukoq2u"
      }
    },
    {
      "cell_type": "markdown",
      "source": [
        "**7. What happens if an existing file is opened in write mode?**"
      ],
      "metadata": {
        "id": "qkMluDsOptjJ"
      }
    },
    {
      "cell_type": "markdown",
      "source": [
        "```\n",
        "\n",
        "If an existing file is opened in write mode, the contents of the file will be overwritten. If an existing file is opened in write mode, the contents of the file will be overwritten.\n",
        "```"
      ],
      "metadata": {
        "id": "izJoaXC2p6UU"
      }
    },
    {
      "cell_type": "markdown",
      "source": [
        "**8. How do you tell the difference between read() and readlines()?**"
      ],
      "metadata": {
        "id": "dAPCwEcxqPiR"
      }
    },
    {
      "cell_type": "markdown",
      "source": [
        "```\n",
        "The read() method reads the entire contents of the file into a single string.\n",
        "\n",
        "The readlines() method reads the file line by line, and returns a list of strings.\n",
        "```"
      ],
      "metadata": {
        "id": "sOrztC56qVVC"
      }
    },
    {
      "cell_type": "markdown",
      "source": [
        "**9. What data structure does a shelf value resemble?**"
      ],
      "metadata": {
        "id": "QskogeRkqtUb"
      }
    },
    {
      "cell_type": "markdown",
      "source": [
        "```\n",
        "\n",
        "A shelf value resembles a dictionary value. It has keys and values, along with keys() and values() methods that work similarly to the dictionary methods of the same names.\n",
        "```"
      ],
      "metadata": {
        "id": "JbzgkqdYq-h0"
      }
    },
    {
      "cell_type": "code",
      "source": [],
      "metadata": {
        "id": "jRiag24Wlrcr"
      },
      "execution_count": null,
      "outputs": []
    }
  ]
}