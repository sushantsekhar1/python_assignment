{
  "nbformat": 4,
  "nbformat_minor": 0,
  "metadata": {
    "colab": {
      "provenance": [],
      "authorship_tag": "ABX9TyPS8dBJFI5WcrxdCEibsyEg",
      "include_colab_link": true
    },
    "kernelspec": {
      "name": "python3",
      "display_name": "Python 3"
    },
    "language_info": {
      "name": "python"
    }
  },
  "cells": [
    {
      "cell_type": "markdown",
      "metadata": {
        "id": "view-in-github",
        "colab_type": "text"
      },
      "source": [
        "<a href=\"https://colab.research.google.com/github/sushantsekhar1/python_assignment/blob/python_basic/Assignment_020.ipynb\" target=\"_parent\"><img src=\"https://colab.research.google.com/assets/colab-badge.svg\" alt=\"Open In Colab\"/></a>"
      ]
    },
    {
      "cell_type": "markdown",
      "source": [
        "#**PYTHON - 20**"
      ],
      "metadata": {
        "id": "XDw2S1dCnyDE"
      }
    },
    {
      "cell_type": "markdown",
      "source": [
        "**1. Set the variable test1 to the string &#39;This is a test of the emergency text system,&#39; and save test1 to a\n",
        "file named test.txt.**"
      ],
      "metadata": {
        "id": "Q-vEqdwhn4pi"
      }
    },
    {
      "cell_type": "code",
      "execution_count": 7,
      "metadata": {
        "colab": {
          "base_uri": "https://localhost:8080/"
        },
        "id": "GcKltlBznu6T",
        "outputId": "12d3e952-0ff6-4d2c-cc85-695cc1de2a31"
      },
      "outputs": [
        {
          "output_type": "execute_result",
          "data": {
            "text/plain": [
              "44"
            ]
          },
          "metadata": {},
          "execution_count": 7
        }
      ],
      "source": [
        "test1 = 'This is a test of the emergency text system,'\n",
        "filee = open('test.txt','w')\n",
        "filee.write(test1)"
      ]
    },
    {
      "cell_type": "markdown",
      "source": [
        "**2. Read the contents of the file test.txt into the variable test2. Is there a difference between test 1\n",
        "and test 2?**"
      ],
      "metadata": {
        "id": "dCEsB3AnHVVI"
      }
    },
    {
      "cell_type": "code",
      "source": [
        "file2 = open('test.txt','r')\n",
        "test2 = file2.readline()\n",
        "test2"
      ],
      "metadata": {
        "colab": {
          "base_uri": "https://localhost:8080/",
          "height": 35
        },
        "id": "pfTvVFfzHYvP",
        "outputId": "d86e63bd-b62f-445e-8de0-913c390106f5"
      },
      "execution_count": 8,
      "outputs": [
        {
          "output_type": "execute_result",
          "data": {
            "text/plain": [
              "'This is a test of the emergency text system,'"
            ],
            "application/vnd.google.colaboratory.intrinsic+json": {
              "type": "string"
            }
          },
          "metadata": {},
          "execution_count": 8
        }
      ]
    },
    {
      "cell_type": "code",
      "source": [
        "if test1==test2:\n",
        "    print('Both are same')"
      ],
      "metadata": {
        "colab": {
          "base_uri": "https://localhost:8080/"
        },
        "id": "Mbbj8t61JRSJ",
        "outputId": "48002cd3-6be5-4ab8-894b-767b8defe575"
      },
      "execution_count": 9,
      "outputs": [
        {
          "output_type": "stream",
          "name": "stdout",
          "text": [
            "Both are same\n"
          ]
        }
      ]
    },
    {
      "cell_type": "markdown",
      "source": [
        "**3. Create a CSV file called books.csv by using these lines:\n",
        "title,author,year\n",
        "The Weirdstone of Brisingamen,Alan Garner,1960\n",
        "Perdido Street Station,China Miéville,2000\n",
        "Thud!,Terry Pratchett,2005\n",
        "The Spellman Files,Lisa Lutz,2007\n",
        "Small Gods,Terry Pratchett,1992**"
      ],
      "metadata": {
        "id": "cZMPvGbeaN20"
      }
    },
    {
      "cell_type": "code",
      "source": [
        "import csv\n",
        "rows =[ ['title','author','year'],\n",
        "    ['The Weirdstone of Brisingamen','Alan Garner',1960],\n",
        "    ['Perdido Street Station','China Miéville',2000],\n",
        "    ['Thud!','Terry Pratchett',2005],\n",
        "    ['The Spellman Files','Lisa Lutz',2007],\n",
        "    ['Small Gods','Terry Pratchett',1992]]\n",
        "with open('books.csv','w',newline='') as file:\n",
        "    writer = csv.writer(file)\n",
        "    writer.writerows(rows)"
      ],
      "metadata": {
        "id": "pZvwAYqKZlcY"
      },
      "execution_count": 10,
      "outputs": []
    },
    {
      "cell_type": "markdown",
      "source": [
        "**4. Use the sqlite3 module to create a SQLite database called books.db, and a table called books with\n",
        "these fields: title (text), author (text), and year (integer).**"
      ],
      "metadata": {
        "id": "7rlJih66bDSH"
      }
    },
    {
      "cell_type": "code",
      "source": [
        "import sqlite3\n",
        "conn = sqlite3.connect('books.db')\n",
        "c = conn.cursor()\n",
        "\n",
        "c.execute('create table books(title varchar(20),author varchar(20), year int)')\n",
        "conn.commit()"
      ],
      "metadata": {
        "id": "FfO34_Ck_AtZ"
      },
      "execution_count": null,
      "outputs": []
    },
    {
      "cell_type": "markdown",
      "source": [
        "**5. Read books.csv and insert its data into the book table.**"
      ],
      "metadata": {
        "id": "3knGx3i9bYTx"
      }
    },
    {
      "cell_type": "code",
      "source": [
        "import pandas as pd\n",
        "\n",
        "read_books = pd.read_csv('books.csv',encoding='unicode_escape')\n",
        "read_books.to_sql('books', conn, if_exists='append', index = False)\n"
      ],
      "metadata": {
        "id": "s2xJqkLZbXTk",
        "colab": {
          "base_uri": "https://localhost:8080/"
        },
        "outputId": "33acc9e6-e3de-4785-a719-ed52077624f8"
      },
      "execution_count": 13,
      "outputs": [
        {
          "output_type": "execute_result",
          "data": {
            "text/plain": [
              "5"
            ]
          },
          "metadata": {},
          "execution_count": 13
        }
      ]
    },
    {
      "cell_type": "markdown",
      "source": [
        "**6. Select and print the title column from the book table in alphabetical order.**"
      ],
      "metadata": {
        "id": "arvL0qkM_8tG"
      }
    },
    {
      "cell_type": "code",
      "source": [
        "c.execute('select title from books order by title asc')\n",
        "print(c.fetchall())"
      ],
      "metadata": {
        "colab": {
          "base_uri": "https://localhost:8080/"
        },
        "id": "A9DarDyh_XB0",
        "outputId": "bca514e4-c7ce-453a-dc71-c6dbe430e1bc"
      },
      "execution_count": 14,
      "outputs": [
        {
          "output_type": "stream",
          "name": "stdout",
          "text": [
            "[('Perdido Street Station',), ('Perdido Street Station',), ('Small Gods',), ('Small Gods',), ('The Spellman Files',), ('The Spellman Files',), ('The Weirdstone of Brisingamen',), ('The Weirdstone of Brisingamen',), ('Thud!',), ('Thud!',)]\n"
          ]
        }
      ]
    },
    {
      "cell_type": "markdown",
      "source": [
        "**7. From the book table, select and print all columns in the order of publication.**"
      ],
      "metadata": {
        "id": "wLxzuBESAVv7"
      }
    },
    {
      "cell_type": "code",
      "source": [
        "c.execute('select title, author,year from books order by year')\n",
        "\n",
        "\n",
        "df = pd.DataFrame(c.fetchall(), columns=['title','author','year'])\n",
        "df\n",
        ""
      ],
      "metadata": {
        "colab": {
          "base_uri": "https://localhost:8080/",
          "height": 363
        },
        "id": "kjiVbOAvASjZ",
        "outputId": "10876431-02d5-4ef8-89d0-86ff9399e408"
      },
      "execution_count": 15,
      "outputs": [
        {
          "output_type": "execute_result",
          "data": {
            "text/plain": [
              "                           title           author  year\n",
              "0  The Weirdstone of Brisingamen      Alan Garner  1960\n",
              "1  The Weirdstone of Brisingamen      Alan Garner  1960\n",
              "2                     Small Gods  Terry Pratchett  1992\n",
              "3                     Small Gods  Terry Pratchett  1992\n",
              "4         Perdido Street Station  China MiÃ©ville  2000\n",
              "5         Perdido Street Station  China MiÃ©ville  2000\n",
              "6                          Thud!  Terry Pratchett  2005\n",
              "7                          Thud!  Terry Pratchett  2005\n",
              "8             The Spellman Files        Lisa Lutz  2007\n",
              "9             The Spellman Files        Lisa Lutz  2007"
            ],
            "text/html": [
              "\n",
              "\n",
              "  <div id=\"df-39ced85f-1afc-47c9-95bf-4c9396f5d669\">\n",
              "    <div class=\"colab-df-container\">\n",
              "      <div>\n",
              "<style scoped>\n",
              "    .dataframe tbody tr th:only-of-type {\n",
              "        vertical-align: middle;\n",
              "    }\n",
              "\n",
              "    .dataframe tbody tr th {\n",
              "        vertical-align: top;\n",
              "    }\n",
              "\n",
              "    .dataframe thead th {\n",
              "        text-align: right;\n",
              "    }\n",
              "</style>\n",
              "<table border=\"1\" class=\"dataframe\">\n",
              "  <thead>\n",
              "    <tr style=\"text-align: right;\">\n",
              "      <th></th>\n",
              "      <th>title</th>\n",
              "      <th>author</th>\n",
              "      <th>year</th>\n",
              "    </tr>\n",
              "  </thead>\n",
              "  <tbody>\n",
              "    <tr>\n",
              "      <th>0</th>\n",
              "      <td>The Weirdstone of Brisingamen</td>\n",
              "      <td>Alan Garner</td>\n",
              "      <td>1960</td>\n",
              "    </tr>\n",
              "    <tr>\n",
              "      <th>1</th>\n",
              "      <td>The Weirdstone of Brisingamen</td>\n",
              "      <td>Alan Garner</td>\n",
              "      <td>1960</td>\n",
              "    </tr>\n",
              "    <tr>\n",
              "      <th>2</th>\n",
              "      <td>Small Gods</td>\n",
              "      <td>Terry Pratchett</td>\n",
              "      <td>1992</td>\n",
              "    </tr>\n",
              "    <tr>\n",
              "      <th>3</th>\n",
              "      <td>Small Gods</td>\n",
              "      <td>Terry Pratchett</td>\n",
              "      <td>1992</td>\n",
              "    </tr>\n",
              "    <tr>\n",
              "      <th>4</th>\n",
              "      <td>Perdido Street Station</td>\n",
              "      <td>China MiÃ©ville</td>\n",
              "      <td>2000</td>\n",
              "    </tr>\n",
              "    <tr>\n",
              "      <th>5</th>\n",
              "      <td>Perdido Street Station</td>\n",
              "      <td>China MiÃ©ville</td>\n",
              "      <td>2000</td>\n",
              "    </tr>\n",
              "    <tr>\n",
              "      <th>6</th>\n",
              "      <td>Thud!</td>\n",
              "      <td>Terry Pratchett</td>\n",
              "      <td>2005</td>\n",
              "    </tr>\n",
              "    <tr>\n",
              "      <th>7</th>\n",
              "      <td>Thud!</td>\n",
              "      <td>Terry Pratchett</td>\n",
              "      <td>2005</td>\n",
              "    </tr>\n",
              "    <tr>\n",
              "      <th>8</th>\n",
              "      <td>The Spellman Files</td>\n",
              "      <td>Lisa Lutz</td>\n",
              "      <td>2007</td>\n",
              "    </tr>\n",
              "    <tr>\n",
              "      <th>9</th>\n",
              "      <td>The Spellman Files</td>\n",
              "      <td>Lisa Lutz</td>\n",
              "      <td>2007</td>\n",
              "    </tr>\n",
              "  </tbody>\n",
              "</table>\n",
              "</div>\n",
              "      <button class=\"colab-df-convert\" onclick=\"convertToInteractive('df-39ced85f-1afc-47c9-95bf-4c9396f5d669')\"\n",
              "              title=\"Convert this dataframe to an interactive table.\"\n",
              "              style=\"display:none;\">\n",
              "\n",
              "  <svg xmlns=\"http://www.w3.org/2000/svg\" height=\"24px\"viewBox=\"0 0 24 24\"\n",
              "       width=\"24px\">\n",
              "    <path d=\"M0 0h24v24H0V0z\" fill=\"none\"/>\n",
              "    <path d=\"M18.56 5.44l.94 2.06.94-2.06 2.06-.94-2.06-.94-.94-2.06-.94 2.06-2.06.94zm-11 1L8.5 8.5l.94-2.06 2.06-.94-2.06-.94L8.5 2.5l-.94 2.06-2.06.94zm10 10l.94 2.06.94-2.06 2.06-.94-2.06-.94-.94-2.06-.94 2.06-2.06.94z\"/><path d=\"M17.41 7.96l-1.37-1.37c-.4-.4-.92-.59-1.43-.59-.52 0-1.04.2-1.43.59L10.3 9.45l-7.72 7.72c-.78.78-.78 2.05 0 2.83L4 21.41c.39.39.9.59 1.41.59.51 0 1.02-.2 1.41-.59l7.78-7.78 2.81-2.81c.8-.78.8-2.07 0-2.86zM5.41 20L4 18.59l7.72-7.72 1.47 1.35L5.41 20z\"/>\n",
              "  </svg>\n",
              "      </button>\n",
              "\n",
              "\n",
              "\n",
              "    <div id=\"df-461bc677-74c0-41a1-b899-2dddd1caad68\">\n",
              "      <button class=\"colab-df-quickchart\" onclick=\"quickchart('df-461bc677-74c0-41a1-b899-2dddd1caad68')\"\n",
              "              title=\"Suggest charts.\"\n",
              "              style=\"display:none;\">\n",
              "\n",
              "<svg xmlns=\"http://www.w3.org/2000/svg\" height=\"24px\"viewBox=\"0 0 24 24\"\n",
              "     width=\"24px\">\n",
              "    <g>\n",
              "        <path d=\"M19 3H5c-1.1 0-2 .9-2 2v14c0 1.1.9 2 2 2h14c1.1 0 2-.9 2-2V5c0-1.1-.9-2-2-2zM9 17H7v-7h2v7zm4 0h-2V7h2v10zm4 0h-2v-4h2v4z\"/>\n",
              "    </g>\n",
              "</svg>\n",
              "      </button>\n",
              "    </div>\n",
              "\n",
              "<style>\n",
              "  .colab-df-quickchart {\n",
              "    background-color: #E8F0FE;\n",
              "    border: none;\n",
              "    border-radius: 50%;\n",
              "    cursor: pointer;\n",
              "    display: none;\n",
              "    fill: #1967D2;\n",
              "    height: 32px;\n",
              "    padding: 0 0 0 0;\n",
              "    width: 32px;\n",
              "  }\n",
              "\n",
              "  .colab-df-quickchart:hover {\n",
              "    background-color: #E2EBFA;\n",
              "    box-shadow: 0px 1px 2px rgba(60, 64, 67, 0.3), 0px 1px 3px 1px rgba(60, 64, 67, 0.15);\n",
              "    fill: #174EA6;\n",
              "  }\n",
              "\n",
              "  [theme=dark] .colab-df-quickchart {\n",
              "    background-color: #3B4455;\n",
              "    fill: #D2E3FC;\n",
              "  }\n",
              "\n",
              "  [theme=dark] .colab-df-quickchart:hover {\n",
              "    background-color: #434B5C;\n",
              "    box-shadow: 0px 1px 3px 1px rgba(0, 0, 0, 0.15);\n",
              "    filter: drop-shadow(0px 1px 2px rgba(0, 0, 0, 0.3));\n",
              "    fill: #FFFFFF;\n",
              "  }\n",
              "</style>\n",
              "\n",
              "    <script>\n",
              "      async function quickchart(key) {\n",
              "        const containerElement = document.querySelector('#' + key);\n",
              "        const charts = await google.colab.kernel.invokeFunction(\n",
              "            'suggestCharts', [key], {});\n",
              "      }\n",
              "    </script>\n",
              "\n",
              "      <script>\n",
              "\n",
              "function displayQuickchartButton(domScope) {\n",
              "  let quickchartButtonEl =\n",
              "    domScope.querySelector('#df-461bc677-74c0-41a1-b899-2dddd1caad68 button.colab-df-quickchart');\n",
              "  quickchartButtonEl.style.display =\n",
              "    google.colab.kernel.accessAllowed ? 'block' : 'none';\n",
              "}\n",
              "\n",
              "        displayQuickchartButton(document);\n",
              "      </script>\n",
              "      <style>\n",
              "    .colab-df-container {\n",
              "      display:flex;\n",
              "      flex-wrap:wrap;\n",
              "      gap: 12px;\n",
              "    }\n",
              "\n",
              "    .colab-df-convert {\n",
              "      background-color: #E8F0FE;\n",
              "      border: none;\n",
              "      border-radius: 50%;\n",
              "      cursor: pointer;\n",
              "      display: none;\n",
              "      fill: #1967D2;\n",
              "      height: 32px;\n",
              "      padding: 0 0 0 0;\n",
              "      width: 32px;\n",
              "    }\n",
              "\n",
              "    .colab-df-convert:hover {\n",
              "      background-color: #E2EBFA;\n",
              "      box-shadow: 0px 1px 2px rgba(60, 64, 67, 0.3), 0px 1px 3px 1px rgba(60, 64, 67, 0.15);\n",
              "      fill: #174EA6;\n",
              "    }\n",
              "\n",
              "    [theme=dark] .colab-df-convert {\n",
              "      background-color: #3B4455;\n",
              "      fill: #D2E3FC;\n",
              "    }\n",
              "\n",
              "    [theme=dark] .colab-df-convert:hover {\n",
              "      background-color: #434B5C;\n",
              "      box-shadow: 0px 1px 3px 1px rgba(0, 0, 0, 0.15);\n",
              "      filter: drop-shadow(0px 1px 2px rgba(0, 0, 0, 0.3));\n",
              "      fill: #FFFFFF;\n",
              "    }\n",
              "  </style>\n",
              "\n",
              "      <script>\n",
              "        const buttonEl =\n",
              "          document.querySelector('#df-39ced85f-1afc-47c9-95bf-4c9396f5d669 button.colab-df-convert');\n",
              "        buttonEl.style.display =\n",
              "          google.colab.kernel.accessAllowed ? 'block' : 'none';\n",
              "\n",
              "        async function convertToInteractive(key) {\n",
              "          const element = document.querySelector('#df-39ced85f-1afc-47c9-95bf-4c9396f5d669');\n",
              "          const dataTable =\n",
              "            await google.colab.kernel.invokeFunction('convertToInteractive',\n",
              "                                                     [key], {});\n",
              "          if (!dataTable) return;\n",
              "\n",
              "          const docLinkHtml = 'Like what you see? Visit the ' +\n",
              "            '<a target=\"_blank\" href=https://colab.research.google.com/notebooks/data_table.ipynb>data table notebook</a>'\n",
              "            + ' to learn more about interactive tables.';\n",
              "          element.innerHTML = '';\n",
              "          dataTable['output_type'] = 'display_data';\n",
              "          await google.colab.output.renderOutput(dataTable, element);\n",
              "          const docLink = document.createElement('div');\n",
              "          docLink.innerHTML = docLinkHtml;\n",
              "          element.appendChild(docLink);\n",
              "        }\n",
              "      </script>\n",
              "    </div>\n",
              "  </div>\n"
            ]
          },
          "metadata": {},
          "execution_count": 15
        }
      ]
    },
    {
      "cell_type": "markdown",
      "source": [
        "**8. Use the sqlalchemy module to connect to the sqlite3 database books.db that you just made in exercise 6.**"
      ],
      "metadata": {
        "id": "3e9HwRkXGkyb"
      }
    },
    {
      "cell_type": "code",
      "source": [
        "from sqlalchemy import create_engine\n",
        "\n",
        "# Create a database engine\n",
        "engine = create_engine('sqlite:///books.db', echo=True)\n",
        "\n",
        "with engine.connect() as connection:\n",
        "    result = connection.execute(\"SELECT * FROM books\")\n",
        "    for row in result:\n",
        "        print(row)"
      ],
      "metadata": {
        "id": "ajWqEliX8MzA"
      },
      "execution_count": null,
      "outputs": []
    },
    {
      "cell_type": "markdown",
      "source": [
        "**9. Install the Redis server and the Python redis library (pip install redis) on your computer. Create a Redis hash called test with the fields count (1) and name ('Fester Bestertester'). Print all the fields for test.**"
      ],
      "metadata": {
        "id": "mFah_IS18aBB"
      }
    },
    {
      "cell_type": "code",
      "source": [
        "!pip install redis"
      ],
      "metadata": {
        "colab": {
          "base_uri": "https://localhost:8080/"
        },
        "id": "9bwBPTgA8eoy",
        "outputId": "e67f313c-fa14-47a5-c734-12ccfb65202e"
      },
      "execution_count": 6,
      "outputs": [
        {
          "output_type": "stream",
          "name": "stdout",
          "text": [
            "Collecting redis\n",
            "  Downloading redis-5.0.0-py3-none-any.whl (250 kB)\n",
            "\u001b[?25l     \u001b[90m━━━━━━━━━━━━━━━━━━━━━━━━━━━━━━━━━━━━━━━━\u001b[0m \u001b[32m0.0/250.1 kB\u001b[0m \u001b[31m?\u001b[0m eta \u001b[36m-:--:--\u001b[0m\r\u001b[2K     \u001b[91m━━━━━━━━━━━━━━━━━━━━━━━━━━━\u001b[0m\u001b[90m╺\u001b[0m\u001b[90m━━━━━━━━━━━\u001b[0m \u001b[32m174.1/250.1 kB\u001b[0m \u001b[31m5.3 MB/s\u001b[0m eta \u001b[36m0:00:01\u001b[0m\r\u001b[2K     \u001b[90m━━━━━━━━━━━━━━━━━━━━━━━━━━━━━━━━━━━━━━━\u001b[0m \u001b[32m250.1/250.1 kB\u001b[0m \u001b[31m5.1 MB/s\u001b[0m eta \u001b[36m0:00:00\u001b[0m\n",
            "\u001b[?25hRequirement already satisfied: async-timeout>=4.0.2 in /usr/local/lib/python3.10/dist-packages (from redis) (4.0.2)\n",
            "Installing collected packages: redis\n",
            "Successfully installed redis-5.0.0\n"
          ]
        }
      ]
    },
    {
      "cell_type": "code",
      "source": [
        "import redis\n",
        "conn = redis.Redis()\n",
        "conn.delete('test')\n",
        "conn.hmset('test', {'count': 1, 'name': 'Fester Bestertester'})\n",
        "conn.hgetall('test')"
      ],
      "metadata": {
        "id": "aJfyDjCh8v6k"
      },
      "execution_count": null,
      "outputs": []
    },
    {
      "cell_type": "markdown",
      "source": [
        "**10. Increment the count field of test and print it.**"
      ],
      "metadata": {
        "id": "T1Fvw8Aq84Xw"
      }
    },
    {
      "cell_type": "code",
      "source": [
        "conn.hincrby('test','count', 3)"
      ],
      "metadata": {
        "id": "Rckkb6-a892p"
      },
      "execution_count": null,
      "outputs": []
    }
  ]
}