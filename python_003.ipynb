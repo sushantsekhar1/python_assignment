{
  "nbformat": 4,
  "nbformat_minor": 0,
  "metadata": {
    "colab": {
      "provenance": [],
      "authorship_tag": "ABX9TyNjL8LDz3T8UZzju+qPriXZ",
      "include_colab_link": true
    },
    "kernelspec": {
      "name": "python3",
      "display_name": "Python 3"
    },
    "language_info": {
      "name": "python"
    }
  },
  "cells": [
    {
      "cell_type": "markdown",
      "metadata": {
        "id": "view-in-github",
        "colab_type": "text"
      },
      "source": [
        "<a href=\"https://colab.research.google.com/github/sushantsekhar1/python_assignment/blob/python_assignment/python_003.ipynb\" target=\"_parent\"><img src=\"https://colab.research.google.com/assets/colab-badge.svg\" alt=\"Open In Colab\"/></a>"
      ]
    },
    {
      "cell_type": "markdown",
      "source": [
        "Write a python error handling program division by zero.\n"
      ],
      "metadata": {
        "id": "fF0q8beJUusW"
      }
    },
    {
      "cell_type": "code",
      "execution_count": 4,
      "metadata": {
        "colab": {
          "base_uri": "https://localhost:8080/"
        },
        "id": "sn5QQDgRUptQ",
        "outputId": "b3e77ca6-368d-45b5-d952-3ad9e3c6cf43"
      },
      "outputs": [
        {
          "output_type": "stream",
          "name": "stdout",
          "text": [
            "Enter the number 1: 3\n",
            "Enter the number 2: 4\n",
            "Enter the number 3: 4\n",
            "Division by Zero\n"
          ]
        }
      ],
      "source": [
        "# Taking input through user.\n",
        "n = int(input(\"Enter the number 1: \"))\n",
        "o = int(input(\"Enter the number 2: \"))\n",
        "p = int(input(\"Enter the number 3: \"))\n",
        "try:\n",
        "  a = n/(o-p)\n",
        "\n",
        "except ZeroDivisionError:\n",
        "  print(\"Division by Zero\")"
      ]
    },
    {
      "cell_type": "code",
      "source": [
        "# Making a variable n,o,p and putting its value in it.\n",
        "n = 3\n",
        "o = 5\n",
        "p = 5\n",
        "try:\n",
        "  a = n/(o-p)\n",
        "\n",
        "except ZeroDivisionError:\n",
        "  print(\"Division by Zero\")"
      ],
      "metadata": {
        "colab": {
          "base_uri": "https://localhost:8080/"
        },
        "id": "8WY-dVOUZ24B",
        "outputId": "94035a4b-1696-4974-adac-6abe2dd85a95"
      },
      "execution_count": 5,
      "outputs": [
        {
          "output_type": "stream",
          "name": "stdout",
          "text": [
            "Division by Zero\n"
          ]
        }
      ]
    },
    {
      "cell_type": "code",
      "source": [],
      "metadata": {
        "id": "ACdIfWdEa9NH"
      },
      "execution_count": null,
      "outputs": []
    }
  ]
}