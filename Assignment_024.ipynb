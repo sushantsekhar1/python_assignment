{
  "nbformat": 4,
  "nbformat_minor": 0,
  "metadata": {
    "colab": {
      "provenance": [],
      "authorship_tag": "ABX9TyOuyUKO5j6NCNyuTQKSHwBC",
      "include_colab_link": true
    },
    "kernelspec": {
      "name": "python3",
      "display_name": "Python 3"
    },
    "language_info": {
      "name": "python"
    }
  },
  "cells": [
    {
      "cell_type": "markdown",
      "metadata": {
        "id": "view-in-github",
        "colab_type": "text"
      },
      "source": [
        "<a href=\"https://colab.research.google.com/github/sushantsekhar1/python_assignment/blob/python_basic/Assignment_024.ipynb\" target=\"_parent\"><img src=\"https://colab.research.google.com/assets/colab-badge.svg\" alt=\"Open In Colab\"/></a>"
      ]
    },
    {
      "cell_type": "markdown",
      "source": [
        "#**PYTHON - 24**"
      ],
      "metadata": {
        "id": "WHf3UnVjy4yT"
      }
    },
    {
      "cell_type": "markdown",
      "source": [
        "**1. What is the relationship between def statements and lambda expressions ?**"
      ],
      "metadata": {
        "id": "7aT5INamy-Qx"
      }
    },
    {
      "cell_type": "markdown",
      "source": [
        "```\n",
        "The def statements and lambda expressions both ways to create functions.\n",
        "\n",
        "A def statement is a named function, while a lambda expression is an anonymous function.\n",
        "\n",
        "A def statement can be defined on multiple lines, while a lambda expression must be defined on a single line.\n",
        "\n",
        "A def statement can take any number of arguments, while a lambda expression can only take a limited number of arguments.\n",
        "```"
      ],
      "metadata": {
        "id": "_bPdiXYbzJ6Y"
      }
    },
    {
      "cell_type": "markdown",
      "source": [
        "**2. What is the benefit of lambda?**"
      ],
      "metadata": {
        "id": "y1B_6IMHz5FX"
      }
    },
    {
      "cell_type": "markdown",
      "source": [
        "```\n",
        "Lambda functions can be defined on a single line, which can make your code more readable and less cluttered.\n",
        "\n",
        "Lambda functions do not have a name, which can make them useful for creating functions that are only used once.\n",
        "\n",
        "Lambda functions can be used anywhere where a function is required, including in places like list comprehensions and filter() and map() functions.\n",
        "  ```"
      ],
      "metadata": {
        "id": "qZQrIgXQ0mkY"
      }
    },
    {
      "cell_type": "markdown",
      "source": [
        "**3. Compare and contrast map, filter, and reduce.**"
      ],
      "metadata": {
        "id": "wv9VB-xX08MD"
      }
    },
    {
      "cell_type": "markdown",
      "source": [
        "```\n",
        "Map takes a function and an iterable as input and applies the function to each element of the iterable.\n",
        "\n",
        "Filter takes a function and an iterable as input and returns a new iterable that contains only the elements of the original iterable that satisfy the condition specified by the function.\n",
        "\n",
        "Reduce takes a function and an iterable as input and applies the function to the first two elements of the iterable.\n",
        "```"
      ],
      "metadata": {
        "id": "30nCL4GJ2Z8w"
      }
    },
    {
      "cell_type": "markdown",
      "source": [
        "**4. What are function annotations, and how are they used?**"
      ],
      "metadata": {
        "id": "AoN0mUqL29F3"
      }
    },
    {
      "cell_type": "markdown",
      "source": [
        "```\n",
        "Function annotations are optional metadata that can be attached to function parameters and return values.\n",
        "\n",
        "They are written as expressions in parentheses after the parameter or return value name, separated by a colon.\n",
        "\n",
        "```"
      ],
      "metadata": {
        "id": "bRGHkuQM3XLj"
      }
    },
    {
      "cell_type": "code",
      "execution_count": 9,
      "metadata": {
        "colab": {
          "base_uri": "https://localhost:8080/"
        },
        "id": "cmxse4gPyz-x",
        "outputId": "ae7c860c-74c1-43ec-c016-13e1059d4856"
      },
      "outputs": [
        {
          "output_type": "execute_result",
          "data": {
            "text/plain": [
              "24"
            ]
          },
          "metadata": {},
          "execution_count": 9
        }
      ],
      "source": [
        "def factorial(n: int) -> int:\n",
        " \"\"\"Computes the factorial of a number.\"\"\"\n",
        " if n < 0:\n",
        "  raise ValueError(\"n must be non-negative\")\n",
        " return 1 if n == 0 else n * factorial(n - 1)\n",
        "\n",
        "factorial(4)"
      ]
    },
    {
      "cell_type": "markdown",
      "source": [
        "**5. What are recursive functions, and how are they used?**"
      ],
      "metadata": {
        "id": "9U3cMx-S4bwl"
      }
    },
    {
      "cell_type": "markdown",
      "source": [
        "```\n",
        "A recursive function is a function that calls itself.\n",
        "\n",
        "Recursive functions are often used to solve problems that involve breaking down a problem into smaller and smaller subproblems.\n",
        "\n",
        "For example, the factorial function can be written as a recursive function:\n",
        "```\n"
      ],
      "metadata": {
        "id": "zHeZuI9-4rck"
      }
    },
    {
      "cell_type": "code",
      "source": [
        "def factorial(n):\n",
        " if n == 0:\n",
        "   return 1\n",
        " else:\n",
        "  return n * factorial(n - 1)\n",
        "factorial(5)\n"
      ],
      "metadata": {
        "colab": {
          "base_uri": "https://localhost:8080/"
        },
        "id": "CMaxBM-P3jsR",
        "outputId": "43ee34aa-f385-46d5-e165-464ba4bbb9e6"
      },
      "execution_count": 10,
      "outputs": [
        {
          "output_type": "execute_result",
          "data": {
            "text/plain": [
              "120"
            ]
          },
          "metadata": {},
          "execution_count": 10
        }
      ]
    },
    {
      "cell_type": "markdown",
      "source": [
        "**6. What are some general design guidelines for coding functions?**"
      ],
      "metadata": {
        "id": "DfLA6PTP5b-Z"
      }
    },
    {
      "cell_type": "markdown",
      "source": [
        "```\n",
        "A function should do one thing and do it well. If a function starts to get too long or complex, it's a good sign that it should be broken up into smaller functions.\n",
        "\n",
        "The name of a function should give you a good idea of what the function does.\n",
        "\n",
        "Every function should have a docstring that explains what the function does, what parameters it takes, and what value it returns.\n",
        "\n",
        "Once you've written a function, it's important to test it to make sure it works as expected.\n",
        "```"
      ],
      "metadata": {
        "id": "JKrxSWkf5hpd"
      }
    },
    {
      "cell_type": "markdown",
      "source": [
        "**7. Name three or more ways that functions can communicate results to a caller.**"
      ],
      "metadata": {
        "id": "gpbgrPa36QKd"
      }
    },
    {
      "cell_type": "markdown",
      "source": [
        "```\n",
        "Three ways that functions can communicate results to a caller:\n",
        "\n",
        "Return values:\n",
        "  The return value is the result of the function's computation, and it is typically the only way for the function to communicate its results to the caller.\n",
        "\n",
        "Side effects:\n",
        "  Side effects can be used to communicate results to the caller, but they should be used sparingly, as they can make code more difficult to understand and debug.\n",
        "\n",
        "Exceptions:\n",
        "  Exceptions are raised when a function encounters an error that it cannot handle itself.\n",
        "```"
      ],
      "metadata": {
        "id": "WufExMPk6f3P"
      }
    }
  ]
}