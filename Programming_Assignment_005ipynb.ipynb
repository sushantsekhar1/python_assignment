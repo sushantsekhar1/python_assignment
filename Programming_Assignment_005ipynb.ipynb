{
  "nbformat": 4,
  "nbformat_minor": 0,
  "metadata": {
    "colab": {
      "provenance": [],
      "authorship_tag": "ABX9TyNnCHyShgGxEA2ZIWSGfICz",
      "include_colab_link": true
    },
    "kernelspec": {
      "name": "python3",
      "display_name": "Python 3"
    },
    "language_info": {
      "name": "python"
    }
  },
  "cells": [
    {
      "cell_type": "markdown",
      "metadata": {
        "id": "view-in-github",
        "colab_type": "text"
      },
      "source": [
        "<a href=\"https://colab.research.google.com/github/sushantsekhar1/python_assignment/blob/python_assignment/Programming_Assignment_005ipynb.ipynb\" target=\"_parent\"><img src=\"https://colab.research.google.com/assets/colab-badge.svg\" alt=\"Open In Colab\"/></a>"
      ]
    },
    {
      "cell_type": "markdown",
      "source": [
        "**1. Write a Python Program to Find LCM?**"
      ],
      "metadata": {
        "id": "B3TgzDSh_2CQ"
      }
    },
    {
      "cell_type": "code",
      "execution_count": 3,
      "metadata": {
        "colab": {
          "base_uri": "https://localhost:8080/"
        },
        "id": "MWWeZqzi_xjt",
        "outputId": "b96edb9a-6276-49c6-8ce2-c473aae39b6d"
      },
      "outputs": [
        {
          "output_type": "stream",
          "name": "stdout",
          "text": [
            "Enter the First Number: 24\n",
            "Enter the Second Number: 56\n",
            "The LCM of 24 and 56 is 168\n"
          ]
        }
      ],
      "source": [
        "def cal_lcm(x,y):\n",
        "  if x > y:\n",
        "    gtr = x\n",
        "  else:\n",
        "    gtr = y\n",
        "  while(True):\n",
        "    if((gtr % x == 0) and (gtr % y == 0)):\n",
        "      lcm = gtr\n",
        "      break\n",
        "    gtr += 1\n",
        "  return lcm\n",
        "\n",
        "# Taking Input to the user\n",
        "num1 = int(input(\"Enter the First Number: \"))\n",
        "num2 = int(input(\"Enter the Second Number: \"))\n",
        "\n",
        "#Printing the Output\n",
        "\n",
        "print(f\"The LCM of {num1} and {num2} is {cal_lcm(num1,num2)}\")\n"
      ]
    },
    {
      "cell_type": "markdown",
      "source": [
        "**2. Write a Python Program to Find HCF?**"
      ],
      "metadata": {
        "id": "uqxCqt49YF5N"
      }
    },
    {
      "cell_type": "code",
      "source": [
        "def cal_hcf(x,y):\n",
        "  if x > y:\n",
        "    sml = x\n",
        "  else:\n",
        "    sml = y\n",
        "  for i in range(1,sml + 1):\n",
        "    if((x % i == 0)and (y % i == 0)):\n",
        "      hcf = i\n",
        "  return hcf\n",
        "\n",
        "# Taking Input to the user\n",
        "num1 = int(input(\"Enter the First Number: \"))\n",
        "num2 = int(input(\"Enter the Seconf Number: \"))\n",
        "\n",
        "#Printing the Output\n",
        "print(f\"The HCF of {num1} and {num2} is {cal_hcf(num1, num2)}\")\n",
        ""
      ],
      "metadata": {
        "colab": {
          "base_uri": "https://localhost:8080/"
        },
        "id": "4kGlZbzCXhpT",
        "outputId": "5cfd0f04-6c3e-4765-8847-4716514ff1dc"
      },
      "execution_count": 5,
      "outputs": [
        {
          "output_type": "stream",
          "name": "stdout",
          "text": [
            "Enter the First Number: 56\n",
            "Enter the Seconf Number: 34\n",
            "The HCF of 56 and 34 is 2\n"
          ]
        }
      ]
    },
    {
      "cell_type": "markdown",
      "source": [
        "**3. Write a Python Program to Convert Decimal to Binary, Octal and Hexadecimal?**"
      ],
      "metadata": {
        "id": "hDgoc5LSdP2M"
      }
    },
    {
      "cell_type": "code",
      "source": [
        "def decimal_to_binary(deci):\n",
        "  decimal = int(deci)\n",
        "  print(f\"The Given Decimal is: {deci} in binary is: {bin(decimal)}\")\n",
        "\n",
        "def decimal_to_octal(deci):\n",
        "  decimal = int(deci)\n",
        "  print(f\"The Given Decimal is: {deci} in octal is: {oct(decimal)}\")\n",
        "\n",
        "def decimal_to_hexadecimal(deci):\n",
        "  decimal = int(deci)\n",
        "  print(f\"The Given Decimal is: {deci} in hexadecimal is: {hex(decimal)}\")\n",
        "\n",
        "deci = int(input(\"Enter the Decimal Value: \"))\n",
        "\n",
        "decimal_to_binary(deci)\n",
        "decimal_to_octal(deci)\n",
        "decimal_to_hexadecimal(deci)"
      ],
      "metadata": {
        "colab": {
          "base_uri": "https://localhost:8080/"
        },
        "id": "RB5r7gp9cvSh",
        "outputId": "e71bdca3-830c-4b8a-cdda-c8e2c22f1e9a"
      },
      "execution_count": 6,
      "outputs": [
        {
          "output_type": "stream",
          "name": "stdout",
          "text": [
            "Enter the Decimal Value: 12\n",
            "The Given Decimal is: 12 in binary is: 0b1100\n",
            "The Given Decimal is: 12 in octal is: 0o14\n",
            "The Given Decimal is: 12 in hexadecimal is: 0xc\n"
          ]
        }
      ]
    },
    {
      "cell_type": "markdown",
      "source": [
        "**4. Write a Python Program To Find ASCII value of a character?**"
      ],
      "metadata": {
        "id": "yNGJG2nNgbTR"
      }
    },
    {
      "cell_type": "code",
      "source": [
        "char1 = (input(\"Enter the Character Value:\"))\n",
        "print(f\"The ASCII Value of {char1} is {ord(char1)}\")"
      ],
      "metadata": {
        "colab": {
          "base_uri": "https://localhost:8080/"
        },
        "id": "z0PvYbnVgRfG",
        "outputId": "0ad1c5f1-6ce0-4c8b-d82a-f6101689033f"
      },
      "execution_count": 13,
      "outputs": [
        {
          "output_type": "stream",
          "name": "stdout",
          "text": [
            "Enter the Character Value:A\n",
            "The ASCII Value of A is 65\n"
          ]
        }
      ]
    },
    {
      "cell_type": "markdown",
      "source": [
        "**5. Write a Python Program to Make a Simple Calculator with 4 basic mathematical operations?**"
      ],
      "metadata": {
        "id": "MwAy9dK0iSjz"
      }
    },
    {
      "cell_type": "code",
      "source": [
        "# This function is used to add two number\n",
        "def add(X,Y):\n",
        "  return X + Y\n",
        "# This function is used to subtract two number\n",
        "def sub(X,Y):\n",
        "  return X - Y\n",
        "# This function is used to multiply two number\n",
        "def multiply(X,Y):\n",
        "  return X * Y\n",
        "# This function is used to Divide two number\n",
        "def divide(X,Y):\n",
        "  return X / Y\n",
        "\n",
        "# Giving to user which operation will be performed\n",
        "print(\"Please Select Your Operations.\")\n",
        "print(\"------------------------------\")\n",
        "print(\"a. Addition\")\n",
        "print(\"b. Subtraction\")\n",
        "print(\"c. Multiplication\")\n",
        "print(\"d. Division\")\n",
        "\n",
        "# Now we take input to the user\n",
        "choice = input(\"Enter the Choice (a/b/c/d):\")\n",
        "\n",
        "num1 = int(input(\"Enter the First Number:\"))\n",
        "num2 = int(input(\"Enter the Second Number:\"))\n",
        "\n",
        "# Checking the input and performed operation\n",
        "if choice == 'a':\n",
        "  print(f\"{num1} + {num2} = {add(num1,num2)}\")\n",
        "\n",
        "elif choice == 'b':\n",
        "  print(f\"{num1} - {num2} = {sub(num1,num2)}\")\n",
        "\n",
        "elif choice == 'c':\n",
        "  print(f\"{num1} * {num2} = {multiply(num1,num2)}\")\n",
        "\n",
        "elif choice == 'd':\n",
        "  print(f\"{num1} / {num2} = {divide(num1,num2)}\")\n",
        "\n",
        "else:\n",
        "  print(\"Invalid Input\")"
      ],
      "metadata": {
        "colab": {
          "base_uri": "https://localhost:8080/"
        },
        "id": "IKLrITrPhiht",
        "outputId": "73049405-4748-409a-da6f-00820a5fc74e"
      },
      "execution_count": 4,
      "outputs": [
        {
          "output_type": "stream",
          "name": "stdout",
          "text": [
            "Please Select Your Operations.\n",
            "------------------------------\n",
            "a. Addition\n",
            "b. Subtraction\n",
            "c. Multiplication\n",
            "d. Division\n",
            "Enter the Choice (a/b/c/d):b\n",
            "Enter the First Number:34\n",
            "Enter the Second Number:23\n",
            "34 - 23 = 11\n"
          ]
        }
      ]
    }
  ]
}