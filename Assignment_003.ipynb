{
  "nbformat": 4,
  "nbformat_minor": 0,
  "metadata": {
    "colab": {
      "provenance": [],
      "authorship_tag": "ABX9TyNTgkPs/lxZzDXS28ldWbRj",
      "include_colab_link": true
    },
    "kernelspec": {
      "name": "python3",
      "display_name": "Python 3"
    },
    "language_info": {
      "name": "python"
    }
  },
  "cells": [
    {
      "cell_type": "markdown",
      "metadata": {
        "id": "view-in-github",
        "colab_type": "text"
      },
      "source": [
        "<a href=\"https://colab.research.google.com/github/sushantsekhar1/python_assignment/blob/python_basic/Assignment_003.ipynb\" target=\"_parent\"><img src=\"https://colab.research.google.com/assets/colab-badge.svg\" alt=\"Open In Colab\"/></a>"
      ]
    },
    {
      "cell_type": "markdown",
      "source": [
        "1. Why are functions advantageous to have in your programs?"
      ],
      "metadata": {
        "id": "tRejkhvqDimf"
      }
    },
    {
      "cell_type": "markdown",
      "source": [
        "```\n",
        "Functions are Several Advantages in the Program, Here the some key reasons to functions is Advantageous to have in the Program:\n",
        "\n",
        "1. Reusablity: Once the the functions is written, it can use multiple time throughout the program which can save the time and effort.\n",
        "2. Modularity: Function is help to break down the program into smaller self-contained modules,which makes the program easy to\n",
        "   understand and debug.\n",
        "3. Readability: Functions can makes code more readable giving it a meaningful name.\n",
        "4. Testing and debugging: Functions can make easier to test by isolating each function's functionality.\n",
        "```"
      ],
      "metadata": {
        "id": "rOmS2mqcD9aS"
      }
    },
    {
      "cell_type": "markdown",
      "source": [
        "2. When does the code in a function run: when it&#39;s specified or when it&#39;s called?"
      ],
      "metadata": {
        "id": "1FAqsi4lIhM7"
      }
    },
    {
      "cell_type": "markdown",
      "source": [
        "```\n",
        "The Code in a function is execute when the function is called, not when function is defined.\n",
        "```"
      ],
      "metadata": {
        "id": "hGIDC3dsFajc"
      }
    },
    {
      "cell_type": "code",
      "execution_count": 1,
      "metadata": {
        "colab": {
          "base_uri": "https://localhost:8080/"
        },
        "id": "8CLwg9ARDb7W",
        "outputId": "6dd5e514-4628-48a2-bd9c-dcff7010885d"
      },
      "outputs": [
        {
          "output_type": "stream",
          "name": "stdout",
          "text": [
            "Hello World\n"
          ]
        }
      ],
      "source": [
        "def hello():\n",
        "  print(\"Hello World\")\n",
        "  #Function is defined, but code is not executed.\n",
        "\n",
        "hello() #Function is called"
      ]
    },
    {
      "cell_type": "markdown",
      "source": [
        "3. What statement creates a function?"
      ],
      "metadata": {
        "id": "mcAhe3XXGr9g"
      }
    },
    {
      "cell_type": "markdown",
      "source": [
        "```\n",
        "In Python'def'statement create the function.\n",
        "The Syntex of the Function is as follows:\n",
        "\n",
        "def function_name(parameters):\n",
        "  body of the function\n",
        "```  "
      ],
      "metadata": {
        "id": "JCDOEUqiGv1v"
      }
    },
    {
      "cell_type": "markdown",
      "source": [
        "4. What is the difference between a function and a function call?"
      ],
      "metadata": {
        "id": "CdK2wl6YIKl2"
      }
    },
    {
      "cell_type": "markdown",
      "source": [
        "```\n",
        "Function is a block of code that perform a specific task.\n",
        "It can be defined once and then called multiple times, passing the different value each time.\n",
        "\n",
        "Function Call is the act of execution of the function.\n",
        "When you call the function the code inside the function is executed and gives a specific value.\n",
        "```"
      ],
      "metadata": {
        "id": "RWoRAPLOIYV1"
      }
    },
    {
      "cell_type": "markdown",
      "source": [
        "5. How many global scopes are there in a Python program? How many local scopes?"
      ],
      "metadata": {
        "id": "RcUrkjbjKh1p"
      }
    },
    {
      "cell_type": "markdown",
      "source": [
        "```\n",
        "There is one global scope, and the local scope is created whenever a function is called.\n",
        "```"
      ],
      "metadata": {
        "id": "nLaotmD3K9i1"
      }
    },
    {
      "cell_type": "markdown",
      "source": [
        "6. What happens to variables in a local scope when the function call returns?"
      ],
      "metadata": {
        "id": "Z8ATRNA7LZ76"
      }
    },
    {
      "cell_type": "markdown",
      "source": [
        "```\n",
        "When the function call is return,the local variable in a function's scope is destoryed.\n",
        "This means that they no longer accessible from anywhere in the program.\n",
        "```"
      ],
      "metadata": {
        "id": "dqzEUhqKbCsL"
      }
    },
    {
      "cell_type": "markdown",
      "source": [
        "7. What is the concept of a return value? Is it possible to have a return value in an expression?\n"
      ],
      "metadata": {
        "id": "GbMUDXD3bxms"
      }
    },
    {
      "cell_type": "markdown",
      "source": [
        "```\n",
        "A return value is value that a function is return to a caller. Like any value, a return value can be used as part of an expression.\n",
        "```"
      ],
      "metadata": {
        "id": "o0Cjc-7OfJSM"
      }
    },
    {
      "cell_type": "markdown",
      "source": [
        "8. If a function does not have a return statement, what is the return value of a call to that function?"
      ],
      "metadata": {
        "id": "43pC_Gksfzcn"
      }
    },
    {
      "cell_type": "markdown",
      "source": [
        "```\n",
        "If there no return statement in the function,then it return value is None.\n",
        "```"
      ],
      "metadata": {
        "id": "2XKyJ6AYf1Ek"
      }
    },
    {
      "cell_type": "markdown",
      "source": [
        "9. How do you make a function variable refer to the global variable?"
      ],
      "metadata": {
        "id": "pJcmBqdEghwY"
      }
    },
    {
      "cell_type": "markdown",
      "source": [
        "```\n",
        "In Python, we use global keyword to make a function variable refer to a global variable.\n",
        "This allow to modify the value of thr global variable from within the function.\n",
        "```"
      ],
      "metadata": {
        "id": "eeQjEkAlgjNj"
      }
    },
    {
      "cell_type": "markdown",
      "source": [
        "10. What is the data type of None?\n"
      ],
      "metadata": {
        "id": "L17zEOF1iTL9"
      }
    },
    {
      "cell_type": "markdown",
      "source": [
        "```\n",
        "The data type of None is None Type.\n",
        "```"
      ],
      "metadata": {
        "id": "m8IGRbkziUsB"
      }
    },
    {
      "cell_type": "markdown",
      "source": [
        "11. What does the sentence import areallyourpetsnamederic do?"
      ],
      "metadata": {
        "id": "zPwKMTOfimsK"
      }
    },
    {
      "cell_type": "markdown",
      "source": [
        "```\n",
        "The import statement is use to import the module name.\n",
        "The given module name 'areallyourpentsnamederic' does not exist in Python.\n",
        "```\n"
      ],
      "metadata": {
        "id": "iE5ZDB3li-t4"
      }
    },
    {
      "cell_type": "markdown",
      "source": [
        "12. If you had a bacon() feature in a spam module, what would you call it after importing spam?"
      ],
      "metadata": {
        "id": "mgNMYrA_i-ns"
      }
    },
    {
      "cell_type": "markdown",
      "source": [
        "```\n",
        "The function is called with spam.bacon()\n",
        "```"
      ],
      "metadata": {
        "id": "iMTryqWSkD1O"
      }
    },
    {
      "cell_type": "markdown",
      "source": [
        "13. What can you do to save a programme from crashing if it encounters an error?"
      ],
      "metadata": {
        "id": "l8XT_LHckDOu"
      }
    },
    {
      "cell_type": "markdown",
      "source": [
        "```\n",
        "To save the program from crashing when it encountered the error,we have to implement the error handling technique using\n",
        "exception handling.\n",
        " ```"
      ],
      "metadata": {
        "id": "BshGjPUqlgo0"
      }
    },
    {
      "cell_type": "markdown",
      "source": [
        "14. What is the purpose of the try clause? What is the purpose of the except clause?"
      ],
      "metadata": {
        "id": "DmBihs4JmX2t"
      }
    },
    {
      "cell_type": "markdown",
      "source": [
        "```\n",
        "The try clause is used to execute block of code,If an error occure in try clause the except clause is executed.\n",
        "The except clause can specify the type of error you can handle it.\n",
        "```"
      ],
      "metadata": {
        "id": "SlJgeviUmZA6"
      }
    },
    {
      "cell_type": "code",
      "source": [
        "try:\n",
        "  num = int(\"Hello\") # This code may cause an error\n",
        "except ValueError:\n",
        "  # This code is run if error is occure\n",
        "  print(\"This Value you entered is not a Number\")\n"
      ],
      "metadata": {
        "colab": {
          "base_uri": "https://localhost:8080/"
        },
        "id": "htOkbPOdf0K-",
        "outputId": "43eae6a5-4bf6-4bc3-d688-6f662350487c"
      },
      "execution_count": 2,
      "outputs": [
        {
          "output_type": "stream",
          "name": "stdout",
          "text": [
            "This Value you entered is not a Number\n"
          ]
        }
      ]
    },
    {
      "cell_type": "code",
      "source": [],
      "metadata": {
        "id": "oFsc8BD0oTXi"
      },
      "execution_count": null,
      "outputs": []
    }
  ]
}