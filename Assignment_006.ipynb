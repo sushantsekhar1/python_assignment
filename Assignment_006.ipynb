{
  "nbformat": 4,
  "nbformat_minor": 0,
  "metadata": {
    "colab": {
      "provenance": [],
      "authorship_tag": "ABX9TyMWaVRuVIILiRvsBi2XNywe",
      "include_colab_link": true
    },
    "kernelspec": {
      "name": "python3",
      "display_name": "Python 3"
    },
    "language_info": {
      "name": "python"
    }
  },
  "cells": [
    {
      "cell_type": "markdown",
      "metadata": {
        "id": "view-in-github",
        "colab_type": "text"
      },
      "source": [
        "<a href=\"https://colab.research.google.com/github/sushantsekhar1/python_assignment/blob/python_basic/Assignment_006.ipynb\" target=\"_parent\"><img src=\"https://colab.research.google.com/assets/colab-badge.svg\" alt=\"Open In Colab\"/></a>"
      ]
    },
    {
      "cell_type": "markdown",
      "source": [
        "# **PYTHON - 6**"
      ],
      "metadata": {
        "id": "w-_YUDjdDjzJ"
      }
    },
    {
      "cell_type": "markdown",
      "source": [
        "**1. What are escape characters, and how do you use them?**"
      ],
      "metadata": {
        "id": "GQGUfUMjDvfB"
      }
    },
    {
      "cell_type": "markdown",
      "source": [
        "```\n",
        "In Python String, the backspace is a special character it also called 'escape' character.\n",
        "It is also representing certain whitespace character:\n",
        "> '\\t' represent tab\n",
        "> '\\n' represent newline\n",
        "> '\\r' represent carriage return\n",
        "```"
      ],
      "metadata": {
        "id": "I1G-e5tCEHMP"
      }
    },
    {
      "cell_type": "code",
      "source": [
        "print(\"my \\\n",
        "name \\\n",
        "is\")"
      ],
      "metadata": {
        "colab": {
          "base_uri": "https://localhost:8080/"
        },
        "id": "jUysAVn8GHf6",
        "outputId": "010230e5-ead2-43d5-bed3-e26a966e1000"
      },
      "execution_count": 1,
      "outputs": [
        {
          "output_type": "stream",
          "name": "stdout",
          "text": [
            "my name is\n"
          ]
        }
      ]
    },
    {
      "cell_type": "markdown",
      "source": [
        "**2. What do the escape characters n and t stand for?**"
      ],
      "metadata": {
        "id": "A2vqrf7mFj3b"
      }
    },
    {
      "cell_type": "markdown",
      "source": [
        "```\n",
        "'\\t' represent tab.\n",
        "'\\n' represent newline.\n",
        "```\n",
        "\n"
      ],
      "metadata": {
        "id": "GgIeLr9VFsW9"
      }
    },
    {
      "cell_type": "markdown",
      "source": [
        "**3. What is the way to include backslash characters in a string?**"
      ],
      "metadata": {
        "id": "enFvNPf0GTlb"
      }
    },
    {
      "cell_type": "code",
      "source": [
        "print(\"it is way to include backspace \\ characters in a string\")"
      ],
      "metadata": {
        "colab": {
          "base_uri": "https://localhost:8080/"
        },
        "id": "83GoRnkkDuUU",
        "outputId": "75a46d0a-3aec-4d5a-c59a-b49bcb6b90f2"
      },
      "execution_count": 3,
      "outputs": [
        {
          "output_type": "stream",
          "name": "stdout",
          "text": [
            "it is way to include backspace \\ characters in a string\n"
          ]
        }
      ]
    },
    {
      "cell_type": "markdown",
      "source": [
        "**4. The string \"Howl's Moving Castle\" is a correct value. Why isn't the single quote character in the word Howl's not escaped a problem?**"
      ],
      "metadata": {
        "id": "AJPGcWqWGwDX"
      }
    },
    {
      "cell_type": "markdown",
      "source": [
        "```\n",
        "The single quote in Howl's is fine because we are using double quote in beginning and end of the string.\n",
        "Likewise we using double quote in with single quote.\n",
        "```"
      ],
      "metadata": {
        "id": "R7ROJNjSHofb"
      }
    },
    {
      "cell_type": "code",
      "source": [
        "print(\"Howl's Moving Castle\")"
      ],
      "metadata": {
        "colab": {
          "base_uri": "https://localhost:8080/"
        },
        "id": "iRlkimM9GpmL",
        "outputId": "00e15f1f-9870-490d-9588-cdae1cf20e65"
      },
      "execution_count": 4,
      "outputs": [
        {
          "output_type": "stream",
          "name": "stdout",
          "text": [
            "Howl's Moving Castle\n"
          ]
        }
      ]
    },
    {
      "cell_type": "code",
      "source": [
        "# we are also using double quote in single quote\n",
        "print('Today is \"New Year\"')"
      ],
      "metadata": {
        "colab": {
          "base_uri": "https://localhost:8080/"
        },
        "id": "diuLxeF7IwE1",
        "outputId": "9ebf8e9d-1bc0-4771-864f-00b3fb3dcea4"
      },
      "execution_count": 8,
      "outputs": [
        {
          "output_type": "stream",
          "name": "stdout",
          "text": [
            "Today is \"New Year\"\n"
          ]
        }
      ]
    },
    {
      "cell_type": "markdown",
      "source": [
        "**5. How do you write a string of newlines if you don't want to use the n character?**"
      ],
      "metadata": {
        "id": "OUHxywOnJmEp"
      }
    },
    {
      "cell_type": "code",
      "source": [
        "print(\"You write a string of\" ,end = '\\n')\n",
        "print(\"newline\")"
      ],
      "metadata": {
        "colab": {
          "base_uri": "https://localhost:8080/"
        },
        "id": "u-A2WZa1I_Gh",
        "outputId": "50d66ecf-4c9a-44b3-e934-5b74974f3e79"
      },
      "execution_count": 11,
      "outputs": [
        {
          "output_type": "stream",
          "name": "stdout",
          "text": [
            "You write a string of\n",
            "newline\n"
          ]
        }
      ]
    },
    {
      "cell_type": "markdown",
      "source": [
        "**6. What are the values of the given expressions?**\n",
        "```\n",
        "> 'Hello, world!'[1]\n",
        "> 'Hello, world!'[0:5]\n",
        "> 'Hello, world!'[:5]\n",
        "> 'Hello, world!'[3:]\n",
        "```\n"
      ],
      "metadata": {
        "id": "T9w-hqz4KOxv"
      }
    },
    {
      "cell_type": "code",
      "source": [
        "'Hello, world!'[1]"
      ],
      "metadata": {
        "colab": {
          "base_uri": "https://localhost:8080/",
          "height": 35
        },
        "id": "dtg_8mg2KFgx",
        "outputId": "5c9cb7fd-62bc-460e-bf6a-a5ba2ac9e7cb"
      },
      "execution_count": 12,
      "outputs": [
        {
          "output_type": "execute_result",
          "data": {
            "text/plain": [
              "'e'"
            ],
            "application/vnd.google.colaboratory.intrinsic+json": {
              "type": "string"
            }
          },
          "metadata": {},
          "execution_count": 12
        }
      ]
    },
    {
      "cell_type": "code",
      "source": [
        "'Hello, world!'[0:5]"
      ],
      "metadata": {
        "colab": {
          "base_uri": "https://localhost:8080/",
          "height": 35
        },
        "id": "hPBf1UqGK25G",
        "outputId": "4127d6e3-8ec0-4760-8c9b-a42849ee8e6c"
      },
      "execution_count": 13,
      "outputs": [
        {
          "output_type": "execute_result",
          "data": {
            "text/plain": [
              "'Hello'"
            ],
            "application/vnd.google.colaboratory.intrinsic+json": {
              "type": "string"
            }
          },
          "metadata": {},
          "execution_count": 13
        }
      ]
    },
    {
      "cell_type": "code",
      "source": [
        "'Hello, world!'[:5]"
      ],
      "metadata": {
        "colab": {
          "base_uri": "https://localhost:8080/",
          "height": 35
        },
        "id": "E6Q4LaKUK5Gi",
        "outputId": "dfb46b1d-7da9-44c5-b71b-821c3f6a1ce1"
      },
      "execution_count": 15,
      "outputs": [
        {
          "output_type": "execute_result",
          "data": {
            "text/plain": [
              "'Hello'"
            ],
            "application/vnd.google.colaboratory.intrinsic+json": {
              "type": "string"
            }
          },
          "metadata": {},
          "execution_count": 15
        }
      ]
    },
    {
      "cell_type": "code",
      "source": [
        "'Hello, world!'[3:]"
      ],
      "metadata": {
        "colab": {
          "base_uri": "https://localhost:8080/",
          "height": 35
        },
        "id": "8UQnhLrHLB-U",
        "outputId": "ede4b86e-2beb-4e53-d190-a7b72bf1cea2"
      },
      "execution_count": 16,
      "outputs": [
        {
          "output_type": "execute_result",
          "data": {
            "text/plain": [
              "'lo, world!'"
            ],
            "application/vnd.google.colaboratory.intrinsic+json": {
              "type": "string"
            }
          },
          "metadata": {},
          "execution_count": 16
        }
      ]
    },
    {
      "cell_type": "markdown",
      "source": [
        "**7. What are the values of the following expressions?**"
      ],
      "metadata": {
        "id": "sg26LMR6LNCw"
      }
    },
    {
      "cell_type": "markdown",
      "source": [
        "```\n",
        "> 'Hello'.upper()\n",
        "> 'Hello'.upper().isupper()\n",
        "> 'Hello'.upper().lower()\n",
        "```"
      ],
      "metadata": {
        "id": "1gbd2C5_LT-T"
      }
    },
    {
      "cell_type": "code",
      "source": [
        "'Hello'.upper()"
      ],
      "metadata": {
        "colab": {
          "base_uri": "https://localhost:8080/",
          "height": 35
        },
        "id": "YxslRrUiLJ23",
        "outputId": "a9731629-01a2-44eb-e107-c097ac5a690c"
      },
      "execution_count": 17,
      "outputs": [
        {
          "output_type": "execute_result",
          "data": {
            "text/plain": [
              "'HELLO'"
            ],
            "application/vnd.google.colaboratory.intrinsic+json": {
              "type": "string"
            }
          },
          "metadata": {},
          "execution_count": 17
        }
      ]
    },
    {
      "cell_type": "code",
      "source": [
        "'Hello'.upper().isupper()"
      ],
      "metadata": {
        "colab": {
          "base_uri": "https://localhost:8080/"
        },
        "id": "tCcTGAHFLoej",
        "outputId": "2286af64-e05c-45f0-e64b-9d39c11cfd7d"
      },
      "execution_count": 18,
      "outputs": [
        {
          "output_type": "execute_result",
          "data": {
            "text/plain": [
              "True"
            ]
          },
          "metadata": {},
          "execution_count": 18
        }
      ]
    },
    {
      "cell_type": "code",
      "source": [
        "'Hello'.upper().lower()"
      ],
      "metadata": {
        "colab": {
          "base_uri": "https://localhost:8080/",
          "height": 35
        },
        "id": "k912y2zxLq-O",
        "outputId": "8d5d0746-a5e2-47f2-ab06-ed6c9207c8d1"
      },
      "execution_count": 20,
      "outputs": [
        {
          "output_type": "execute_result",
          "data": {
            "text/plain": [
              "'hello'"
            ],
            "application/vnd.google.colaboratory.intrinsic+json": {
              "type": "string"
            }
          },
          "metadata": {},
          "execution_count": 20
        }
      ]
    },
    {
      "cell_type": "markdown",
      "source": [
        "**8. What are the values of the following expressions?**\n"
      ],
      "metadata": {
        "id": "VXyIbJqAL5sj"
      }
    },
    {
      "cell_type": "markdown",
      "source": [
        "\n",
        "\n",
        "```\n",
        "'Remember, remember, the fifth of July.'.split() '-'.join('There can only one.'.split())\n",
        "```\n",
        "\n"
      ],
      "metadata": {
        "id": "62szoj61MHAS"
      }
    },
    {
      "cell_type": "code",
      "source": [
        "'Remember, remember, the fifth of July.'.split()"
      ],
      "metadata": {
        "colab": {
          "base_uri": "https://localhost:8080/"
        },
        "id": "KY4Kpqm6LtD5",
        "outputId": "69b51415-8f1f-4bed-a441-627f2812e8ef"
      },
      "execution_count": 21,
      "outputs": [
        {
          "output_type": "execute_result",
          "data": {
            "text/plain": [
              "['Remember,', 'remember,', 'the', 'fifth', 'of', 'July.']"
            ]
          },
          "metadata": {},
          "execution_count": 21
        }
      ]
    },
    {
      "cell_type": "code",
      "source": [
        "'-'.join('There can only one.'.split())"
      ],
      "metadata": {
        "colab": {
          "base_uri": "https://localhost:8080/",
          "height": 35
        },
        "id": "A-p_kSXLMS0y",
        "outputId": "f9b00366-245f-4b75-a7bd-f24ce1f502c7"
      },
      "execution_count": 22,
      "outputs": [
        {
          "output_type": "execute_result",
          "data": {
            "text/plain": [
              "'There-can-only-one.'"
            ],
            "application/vnd.google.colaboratory.intrinsic+json": {
              "type": "string"
            }
          },
          "metadata": {},
          "execution_count": 22
        }
      ]
    },
    {
      "cell_type": "markdown",
      "source": [
        "**9. What are the methods for right-justifying, left-justifying, and centering a string?**"
      ],
      "metadata": {
        "id": "THa6cRD-MhGb"
      }
    },
    {
      "cell_type": "code",
      "source": [
        "str = \"Ram\"\n",
        "str.ljust(11,'-')"
      ],
      "metadata": {
        "colab": {
          "base_uri": "https://localhost:8080/",
          "height": 35
        },
        "id": "y3zIkDC3MU7O",
        "outputId": "a823cb35-c67e-4ff7-bf41-031057834634"
      },
      "execution_count": 24,
      "outputs": [
        {
          "output_type": "execute_result",
          "data": {
            "text/plain": [
              "'Ram--------'"
            ],
            "application/vnd.google.colaboratory.intrinsic+json": {
              "type": "string"
            }
          },
          "metadata": {},
          "execution_count": 24
        }
      ]
    },
    {
      "cell_type": "code",
      "source": [
        "str = \"Ram\"\n",
        "str.rjust(11,'-')"
      ],
      "metadata": {
        "colab": {
          "base_uri": "https://localhost:8080/",
          "height": 35
        },
        "id": "FHI9bKTTMzA1",
        "outputId": "e50a7947-2171-412b-89be-0c862bfe4ae1"
      },
      "execution_count": 25,
      "outputs": [
        {
          "output_type": "execute_result",
          "data": {
            "text/plain": [
              "'--------Ram'"
            ],
            "application/vnd.google.colaboratory.intrinsic+json": {
              "type": "string"
            }
          },
          "metadata": {},
          "execution_count": 25
        }
      ]
    },
    {
      "cell_type": "code",
      "source": [
        "str = \"My Name is Ram\"\n",
        "str.center(50,'*')"
      ],
      "metadata": {
        "colab": {
          "base_uri": "https://localhost:8080/",
          "height": 35
        },
        "id": "B2r5kpoRM8tg",
        "outputId": "a63bc4fe-1f76-4d1a-affd-bf47a285af45"
      },
      "execution_count": 26,
      "outputs": [
        {
          "output_type": "execute_result",
          "data": {
            "text/plain": [
              "'******************My Name is Ram******************'"
            ],
            "application/vnd.google.colaboratory.intrinsic+json": {
              "type": "string"
            }
          },
          "metadata": {},
          "execution_count": 26
        }
      ]
    },
    {
      "cell_type": "markdown",
      "source": [
        "**10. What is the best way to remove whitespace characters from the start or end?**"
      ],
      "metadata": {
        "id": "4cWOvlVJNMN-"
      }
    },
    {
      "cell_type": "code",
      "source": [
        "str = \"    qwerrty tytytytyty.  \"\n",
        "str.lstrip() #remove whitespace in start point"
      ],
      "metadata": {
        "colab": {
          "base_uri": "https://localhost:8080/",
          "height": 35
        },
        "id": "OhCKEUdgNIOZ",
        "outputId": "78159ed8-ba50-40c4-bad5-3b1b7d653871"
      },
      "execution_count": 27,
      "outputs": [
        {
          "output_type": "execute_result",
          "data": {
            "text/plain": [
              "'qwerrty tytytytyty.  '"
            ],
            "application/vnd.google.colaboratory.intrinsic+json": {
              "type": "string"
            }
          },
          "metadata": {},
          "execution_count": 27
        }
      ]
    },
    {
      "cell_type": "code",
      "source": [
        "str = \"   qwerrty tytytytyty.   \"\n",
        "str.rstrip() #remove whitespace in end point"
      ],
      "metadata": {
        "colab": {
          "base_uri": "https://localhost:8080/",
          "height": 35
        },
        "id": "xru205A1NkDe",
        "outputId": "6b84187e-5da1-4945-b0c9-5a5c8e5551fc"
      },
      "execution_count": 29,
      "outputs": [
        {
          "output_type": "execute_result",
          "data": {
            "text/plain": [
              "'   qwerrty tytytytyty.'"
            ],
            "application/vnd.google.colaboratory.intrinsic+json": {
              "type": "string"
            }
          },
          "metadata": {},
          "execution_count": 29
        }
      ]
    },
    {
      "cell_type": "code",
      "source": [],
      "metadata": {
        "id": "7hxpVZxPN9Aq"
      },
      "execution_count": null,
      "outputs": []
    }
  ]
}