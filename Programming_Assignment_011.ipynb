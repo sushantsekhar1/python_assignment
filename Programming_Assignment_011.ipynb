{
  "nbformat": 4,
  "nbformat_minor": 0,
  "metadata": {
    "colab": {
      "provenance": [],
      "authorship_tag": "ABX9TyMYIPSlZ4SAfFaHlJTaPC6y",
      "include_colab_link": true
    },
    "kernelspec": {
      "name": "python3",
      "display_name": "Python 3"
    },
    "language_info": {
      "name": "python"
    }
  },
  "cells": [
    {
      "cell_type": "markdown",
      "metadata": {
        "id": "view-in-github",
        "colab_type": "text"
      },
      "source": [
        "<a href=\"https://colab.research.google.com/github/sushantsekhar1/python_assignment/blob/python_assignment/Programming_Assignment_011.ipynb\" target=\"_parent\"><img src=\"https://colab.research.google.com/assets/colab-badge.svg\" alt=\"Open In Colab\"/></a>"
      ]
    },
    {
      "cell_type": "markdown",
      "source": [
        "**1. Write a Python program to find words which are greater than given length k?**"
      ],
      "metadata": {
        "id": "EDXFfkJJzCBT"
      }
    },
    {
      "cell_type": "code",
      "execution_count": 2,
      "metadata": {
        "colab": {
          "base_uri": "https://localhost:8080/"
        },
        "id": "UmMiXtW1y7L1",
        "outputId": "050e525e-437d-4892-f885-7052536c4d5b"
      },
      "outputs": [
        {
          "output_type": "stream",
          "name": "stdout",
          "text": [
            "Enter the word: find words which are greater than given length\n",
            "Enter the length: 4\n",
            "['words', 'which', 'greater', 'given', 'length']\n"
          ]
        }
      ],
      "source": [
        "def string(k, str):\n",
        "  string = []\n",
        "  text = str.split()\n",
        "  for x in text:\n",
        "    if len(x) > k:\n",
        "      string.append(x)\n",
        "  return string\n",
        "\n",
        "str = input(\"Enter the word: \")\n",
        "k = int(input(\"Enter the length: \"))\n",
        "print(string(k, str))\n"
      ]
    },
    {
      "cell_type": "markdown",
      "source": [
        "**2. Write a Python program for removing i-th character from a string?**"
      ],
      "metadata": {
        "id": "IOzqm-eA2WDg"
      }
    },
    {
      "cell_type": "code",
      "source": [
        "def remove_char(string, i):\n",
        "  for j in range(len(string)):\n",
        "    if j == i:\n",
        "      string = string.replace(string[i],\"\",1)\n",
        "  return string\n",
        "string = input(\"Enter the String: \")\n",
        "i = int(input(\"Enter the the position removing i-th character from a string: \"))\n",
        "print(f\"Removed Character: {remove_char(string, i)}\")"
      ],
      "metadata": {
        "colab": {
          "base_uri": "https://localhost:8080/"
        },
        "id": "0gnZBaau1vz8",
        "outputId": "a18019f8-0bb7-4fc9-d6e7-5b965be83763"
      },
      "execution_count": 4,
      "outputs": [
        {
          "output_type": "stream",
          "name": "stdout",
          "text": [
            "Enter the String: character\n",
            "Enter the the position removing i-th character from a string: 2\n",
            "Removed Character: chracter\n"
          ]
        }
      ]
    },
    {
      "cell_type": "markdown",
      "source": [
        "**3. Write a Python program to split and join a string?**"
      ],
      "metadata": {
        "id": "aWjLmfIq-PHS"
      }
    },
    {
      "cell_type": "code",
      "source": [
        "def split_string(str):\n",
        "  list_string = str.split(\" \")\n",
        "  return list_string\n",
        "\n",
        "def join_string(str):\n",
        "  str = '-'.join(list_string)\n",
        "  return str\n",
        "\n",
        "str = \"Welcome to Learning Python\"\n",
        "\n",
        "list_string = split_string(str)\n",
        "print(f\"After Spliting: {list_string}\")\n",
        "\n",
        "res_string = join_string(str)\n",
        "print(f\"After Joining: {res_string}\")"
      ],
      "metadata": {
        "colab": {
          "base_uri": "https://localhost:8080/"
        },
        "id": "SM9I5_Cs5oqS",
        "outputId": "7b77e7ec-830c-4600-d7f3-a6a84bdb9a98"
      },
      "execution_count": 1,
      "outputs": [
        {
          "output_type": "stream",
          "name": "stdout",
          "text": [
            "After Spliting: ['Welcome', 'to', 'Learning', 'Python']\n",
            "After Joining: Welcome-to-Learning-Python\n"
          ]
        }
      ]
    },
    {
      "cell_type": "markdown",
      "source": [
        "**4. Write a Python to check if a given string is binary string or not?**"
      ],
      "metadata": {
        "id": "GrEdXEK9FQBs"
      }
    },
    {
      "cell_type": "code",
      "source": [
        "def check(string):\n",
        "  b = set(string)\n",
        "  s = {'0', '1'}\n",
        "  if s == b or b == {'0'} or b == {'1'}:\n",
        "    print(\"Binary String\")\n",
        "  else:\n",
        "    print(\"Not Binary String\")\n",
        "\n",
        "s1 = \"01010101011\"\n",
        "check(s1)\n",
        "\n",
        "s2 = \"1010120011\"\n",
        "check(s2)"
      ],
      "metadata": {
        "colab": {
          "base_uri": "https://localhost:8080/"
        },
        "id": "96zmmQAPFID4",
        "outputId": "56e13f75-bab9-423d-d9b2-67ed23aff07e"
      },
      "execution_count": 2,
      "outputs": [
        {
          "output_type": "stream",
          "name": "stdout",
          "text": [
            "Binary String\n",
            "Not Binary String\n"
          ]
        }
      ]
    },
    {
      "cell_type": "markdown",
      "source": [
        "**5. Write a Python program to find uncommon words from two Strings?**"
      ],
      "metadata": {
        "id": "Y75KPJuqGfmh"
      }
    },
    {
      "cell_type": "code",
      "source": [
        "def uncommon(s1, s2):\n",
        "  list_s1 = s1.split()\n",
        "  list_s2 = s2.split()\n",
        "\n",
        "  uc_word = \"\"\n",
        "  for i in list_s1:\n",
        "    if i not in list_s2:\n",
        "      uc_word = uc_word + \" \"+ i\n",
        "  for j in list_s2:\n",
        "    if j not in list_s1:\n",
        "      uc_word = uc_word + \" \"+ j\n",
        "\n",
        "  return uc_word\n",
        "\n",
        "s1 = \"mango apple berries\"\n",
        "s2 = \"mango cherry berries\"\n",
        "\n",
        "print(f\"Uncommon Words: {uncommon(s1, s2)}\")"
      ],
      "metadata": {
        "colab": {
          "base_uri": "https://localhost:8080/"
        },
        "id": "EskVnRBAGaJX",
        "outputId": "322172c7-b6d3-45d7-da7f-96e3b6351131"
      },
      "execution_count": 3,
      "outputs": [
        {
          "output_type": "stream",
          "name": "stdout",
          "text": [
            "Uncommon Words:  apple cherry\n"
          ]
        }
      ]
    },
    {
      "cell_type": "markdown",
      "source": [
        "**6. Write a Python to find all duplicate characters in string?**"
      ],
      "metadata": {
        "id": "-afAdcayIyTl"
      }
    },
    {
      "cell_type": "code",
      "source": [
        "def duplicate(string):\n",
        "  chars = {}\n",
        "  for char in string:\n",
        "    if char not in chars:\n",
        "      chars[char] = 1\n",
        "    else:\n",
        "      chars[char] += 1\n",
        "  duplicates = []\n",
        "  for char, count in chars.items():\n",
        "    if count > 1:\n",
        "      duplicates.append(char)\n",
        "\n",
        "  return duplicates\n",
        "\n",
        "print(duplicate(\"duplicate characters\"))"
      ],
      "metadata": {
        "colab": {
          "base_uri": "https://localhost:8080/"
        },
        "id": "0sxLdyzNiZ9H",
        "outputId": "c5836dc1-5315-4c32-a658-e30dde8cba31"
      },
      "execution_count": 4,
      "outputs": [
        {
          "output_type": "stream",
          "name": "stdout",
          "text": [
            "['c', 'a', 't', 'e', 'r']\n"
          ]
        }
      ]
    },
    {
      "cell_type": "markdown",
      "source": [
        "**7. Write a Python Program to check if a string contains any special character?**"
      ],
      "metadata": {
        "id": "33FhBpN4NTqg"
      }
    },
    {
      "cell_type": "code",
      "source": [
        "import re\n",
        "\n",
        "string = input('Enter any string: ')\n",
        "special_char = re.compile('[@_!#$%^&*()<>?/\\|}{~:]')\n",
        "\n",
        "if(special_char.search(string) == None):\n",
        "    print('String does not contain any special characters.')\n",
        "else:\n",
        "    print('The string contains special characters.')"
      ],
      "metadata": {
        "colab": {
          "base_uri": "https://localhost:8080/"
        },
        "id": "HrPN3fk_OnC8",
        "outputId": "7fee273b-13d7-47ab-d215-8e5317a3e86a"
      },
      "execution_count": 10,
      "outputs": [
        {
          "output_type": "stream",
          "name": "stdout",
          "text": [
            "Enter any string: $pecial Character!\n",
            "The string contains special characters.\n"
          ]
        }
      ]
    },
    {
      "cell_type": "code",
      "source": [],
      "metadata": {
        "id": "XGoKS3XsPhJa"
      },
      "execution_count": null,
      "outputs": []
    }
  ]
}