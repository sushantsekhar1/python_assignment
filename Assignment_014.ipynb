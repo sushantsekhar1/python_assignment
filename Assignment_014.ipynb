{
  "nbformat": 4,
  "nbformat_minor": 0,
  "metadata": {
    "colab": {
      "provenance": [],
      "authorship_tag": "ABX9TyOlIb6QwB8Xg5K69RBuWw8t",
      "include_colab_link": true
    },
    "kernelspec": {
      "name": "python3",
      "display_name": "Python 3"
    },
    "language_info": {
      "name": "python"
    }
  },
  "cells": [
    {
      "cell_type": "markdown",
      "metadata": {
        "id": "view-in-github",
        "colab_type": "text"
      },
      "source": [
        "<a href=\"https://colab.research.google.com/github/sushantsekhar1/python_assignment/blob/python_basic/Assignment_014.ipynb\" target=\"_parent\"><img src=\"https://colab.research.google.com/assets/colab-badge.svg\" alt=\"Open In Colab\"/></a>"
      ]
    },
    {
      "cell_type": "markdown",
      "source": [
        "# **PYTHON - 14**"
      ],
      "metadata": {
        "id": "ewkC2O_BDAqe"
      }
    },
    {
      "cell_type": "markdown",
      "source": [
        "**1. What does RGBA stand for?**"
      ],
      "metadata": {
        "id": "kE2exuAoDGWT"
      }
    },
    {
      "cell_type": "markdown",
      "source": [
        "```\n",
        "The RGBA stand for Red, Green, Blue, and Alpha.\n",
        "```"
      ],
      "metadata": {
        "id": "4_D7H4fGDOtx"
      }
    },
    {
      "cell_type": "markdown",
      "source": [
        "**2. From the Pillow module, how do you get the RGBA value of any images?**"
      ],
      "metadata": {
        "id": "Xzx4N8i0Dpv4"
      }
    },
    {
      "cell_type": "code",
      "execution_count": 1,
      "metadata": {
        "colab": {
          "base_uri": "https://localhost:8080/"
        },
        "id": "0VcKgmZ5C84l",
        "outputId": "4ee8a026-e74d-451b-9b04-230a92988dcd"
      },
      "outputs": [
        {
          "output_type": "execute_result",
          "data": {
            "text/plain": [
              "(255, 0, 0, 255)"
            ]
          },
          "metadata": {},
          "execution_count": 1
        }
      ],
      "source": [
        "from PIL import ImageColor\n",
        "\n",
        "ImageColor.getcolor('green','RGBA')\n",
        "ImageColor.getcolor('red','RGBA')"
      ]
    },
    {
      "cell_type": "markdown",
      "source": [
        "**3. What is a box tuple, and how does it work?**"
      ],
      "metadata": {
        "id": "KNoeLYm4FX5J"
      }
    },
    {
      "cell_type": "markdown",
      "source": [
        "```\n",
        "\n",
        "A box tuple is a tuple that represents a rectangular region in a two-dimensional space. It is typically used in image processing and computer vision applications.\n",
        "```"
      ],
      "metadata": {
        "id": "6MHZNqHQF63N"
      }
    },
    {
      "cell_type": "markdown",
      "source": [
        "**4. Use your image and load in notebook then, How can you find out the width and height of an\n",
        "Image object?**"
      ],
      "metadata": {
        "id": "flRcLqpEGXos"
      }
    },
    {
      "cell_type": "code",
      "source": [
        "import PIL.Image\n",
        "\n",
        "image = PIL.Image.open(\"/content/Nature.jpg\")\n",
        "width, height = image.size\n",
        "\n",
        "# Print the width and height of the image\n",
        "print(\"The width of the image is\", width)\n",
        "print(\"The height of the image is\", height)"
      ],
      "metadata": {
        "colab": {
          "base_uri": "https://localhost:8080/"
        },
        "id": "0SRUxl8QEaoB",
        "outputId": "2dd2852d-7b08-4af3-e054-62e27db7a6bb"
      },
      "execution_count": 6,
      "outputs": [
        {
          "output_type": "stream",
          "name": "stdout",
          "text": [
            "The width of the image is 1280\n",
            "The height of the image is 720\n"
          ]
        }
      ]
    },
    {
      "cell_type": "markdown",
      "source": [
        "**5. What method would you call to get Image object for a 100×100 image, excluding the lower-left\n",
        "quarter of it?**"
      ],
      "metadata": {
        "id": "NQoIeOFtIg0C"
      }
    },
    {
      "cell_type": "markdown",
      "source": [
        "```\n",
        "ImageObject.crop((0, 50, 50, 50))\n",
        "```"
      ],
      "metadata": {
        "id": "FL58j4oWuRdX"
      }
    },
    {
      "cell_type": "markdown",
      "source": [
        "**6. After making changes to an Image object, how could you save it as an image file?**"
      ],
      "metadata": {
        "id": "toxk144huUGi"
      }
    },
    {
      "cell_type": "markdown",
      "source": [
        "```\n",
        "By Calling the imageObj.save('new_filename.png') method of the Image object.\n",
        "```\n"
      ],
      "metadata": {
        "id": "00l7DDhywUEu"
      }
    },
    {
      "cell_type": "markdown",
      "source": [
        "**7. What module contains Pillow’s shape-drawing code?**"
      ],
      "metadata": {
        "id": "E_m5YkFQzJ0h"
      }
    },
    {
      "cell_type": "markdown",
      "source": [
        "```\n",
        "The ImageDraw module contains Pillow's shape-drawing code.\n",
        "```"
      ],
      "metadata": {
        "id": "qiDk5cY9zpni"
      }
    },
    {
      "cell_type": "markdown",
      "source": [
        "**8. Image objects do not have drawing methods. What kind of object does? How do you get this kind\n",
        "of object?**"
      ],
      "metadata": {
        "id": "aJyGKpvAz9xb"
      }
    },
    {
      "cell_type": "markdown",
      "source": [
        "```\n",
        "ImageDraw objects have shape-drawing methods such as point(), line(), or rectangle(). They are returned by passing the Image object to the ImageDraw.Draw() function.\n",
        "```"
      ],
      "metadata": {
        "id": "-34x5LeV0KzV"
      }
    }
  ]
}