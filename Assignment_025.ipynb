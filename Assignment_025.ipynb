{
  "nbformat": 4,
  "nbformat_minor": 0,
  "metadata": {
    "colab": {
      "provenance": [],
      "authorship_tag": "ABX9TyNe5CZ81gMWXBdRrs9iNCr8",
      "include_colab_link": true
    },
    "kernelspec": {
      "name": "python3",
      "display_name": "Python 3"
    },
    "language_info": {
      "name": "python"
    }
  },
  "cells": [
    {
      "cell_type": "markdown",
      "metadata": {
        "id": "view-in-github",
        "colab_type": "text"
      },
      "source": [
        "<a href=\"https://colab.research.google.com/github/sushantsekhar1/python_assignment/blob/python_basic/Assignment_025.ipynb\" target=\"_parent\"><img src=\"https://colab.research.google.com/assets/colab-badge.svg\" alt=\"Open In Colab\"/></a>"
      ]
    },
    {
      "cell_type": "markdown",
      "source": [
        "#**PYTHON - 25**"
      ],
      "metadata": {
        "id": "Ml2Ozrsa8LVw"
      }
    },
    {
      "cell_type": "markdown",
      "source": [
        "**1) . What is the difference between enclosing a list comprehension in square brackets and\n",
        "parentheses?**"
      ],
      "metadata": {
        "id": "tqhmCqeo8Q66"
      }
    },
    {
      "cell_type": "code",
      "execution_count": 2,
      "metadata": {
        "id": "_DXbgMYL8BsU",
        "colab": {
          "base_uri": "https://localhost:8080/"
        },
        "outputId": "c61fdc02-28f4-4a60-f8d8-e53d4362f437"
      },
      "outputs": [
        {
          "output_type": "execute_result",
          "data": {
            "text/plain": [
              "[0, 1, 2, 3, 4, 5, 6, 7, 8, 9]"
            ]
          },
          "metadata": {},
          "execution_count": 2
        }
      ],
      "source": [
        "lst = [i for i in range(10)]\n",
        "lst\n",
        "#List Comprehension with square brackets produces list.\n",
        "#List Comprehension with parentheses creates generators"
      ]
    },
    {
      "cell_type": "code",
      "source": [
        "lstpar = (i for i in range(10))\n",
        "print(lstpar)\n",
        "print(type(lstpar))\n",
        "#If you are familiar with list comprehensions, then this look likes it might create a tuple which is (1,2,3,4,....),\n",
        "#but it is actually a generator expression - this expression is a one time only iterator which will yield the vaiable."
      ],
      "metadata": {
        "colab": {
          "base_uri": "https://localhost:8080/"
        },
        "id": "Zi2_8zxBRVXV",
        "outputId": "1f23ee73-8a01-4bd9-b214-c0f61edceafa"
      },
      "execution_count": 6,
      "outputs": [
        {
          "output_type": "stream",
          "name": "stdout",
          "text": [
            "<generator object <genexpr> at 0x7ca2c0b97d80>\n",
            "<class 'generator'>\n"
          ]
        }
      ]
    },
    {
      "cell_type": "markdown",
      "source": [
        "**2) What is the relationship between generators and iterators?**"
      ],
      "metadata": {
        "id": "AHpsslC1SXXl"
      }
    },
    {
      "cell_type": "markdown",
      "source": [
        "```\n",
        "Generators are created using the yield keyword.\n",
        "The yield keyword pauses the execution of the function and returns the value to the caller.\n",
        "The function then resumes execution the next time the next() method is called on the iterator.\n",
        "\n",
        "This function generates a sequence of squares of the numbers from 1 to 10.\n",
        "The yield keyword pauses the execution of the function after each iteration, and the next number is generated when the next() method is called on the iterator.\n",
        "```"
      ],
      "metadata": {
        "id": "uVuD-ZTzStAb"
      }
    },
    {
      "cell_type": "markdown",
      "source": [
        "**3) What are the signs that a function is a generator function?**"
      ],
      "metadata": {
        "id": "ISjpRlOpTBdY"
      }
    },
    {
      "cell_type": "markdown",
      "source": [
        "```\n",
        "If a function contains at least one yield statement (it may contain other yield or return statements), it becomes a generator function. Both yield and return will return some value from a function.\n",
        "```"
      ],
      "metadata": {
        "id": "41Gs9wQgUgt6"
      }
    },
    {
      "cell_type": "markdown",
      "source": [
        "**4) What is the purpose of a yield statement?**"
      ],
      "metadata": {
        "id": "YVBmUqLPUkbv"
      }
    },
    {
      "cell_type": "markdown",
      "source": [
        "```\n",
        "\n",
        "The yield statement in Python is used to create a generator function.\n",
        "A generator function is a function that produces a sequence of values one at a time.\n",
        "It is more memory efficient than a regular function, because it does not need to store all of the values in memory at once.\n",
        "```"
      ],
      "metadata": {
        "id": "mDC2TgQvU3Xm"
      }
    },
    {
      "cell_type": "markdown",
      "source": [
        "**5) What is the relationship between map calls and list comprehensions? Make a comparison and\n",
        "contrast between the two.**"
      ],
      "metadata": {
        "id": "8ESD0lHLU9Do"
      }
    },
    {
      "cell_type": "markdown",
      "source": [
        "```\n",
        "\n",
        "The map() function and list comprehensions are both used to create a new list from an existing iterable object.\n",
        "\n",
        "The main difference between the map() function and list comprehensions is that the map() function returns an iterator, while a list comprehension returns a list.\n",
        "\n",
        "list comprehensions are more efficient for large datasets, because they do not need to create an iterator. However, map() functions are more flexible, because they can be used with any function, not just lambda functions.\n",
        "```"
      ],
      "metadata": {
        "id": "1eg7FZbZVRwm"
      }
    },
    {
      "cell_type": "code",
      "source": [],
      "metadata": {
        "id": "Bv577XlFRw3d"
      },
      "execution_count": null,
      "outputs": []
    }
  ]
}