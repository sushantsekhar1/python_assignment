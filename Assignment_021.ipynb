{
  "nbformat": 4,
  "nbformat_minor": 0,
  "metadata": {
    "colab": {
      "provenance": [],
      "authorship_tag": "ABX9TyPLyzjf6jb2BR+ksQATwOks",
      "include_colab_link": true
    },
    "kernelspec": {
      "name": "python3",
      "display_name": "Python 3"
    },
    "language_info": {
      "name": "python"
    }
  },
  "cells": [
    {
      "cell_type": "markdown",
      "metadata": {
        "id": "view-in-github",
        "colab_type": "text"
      },
      "source": [
        "<a href=\"https://colab.research.google.com/github/sushantsekhar1/python_assignment/blob/python_basic/Assignment_021.ipynb\" target=\"_parent\"><img src=\"https://colab.research.google.com/assets/colab-badge.svg\" alt=\"Open In Colab\"/></a>"
      ]
    },
    {
      "cell_type": "markdown",
      "source": [
        "#**PYTHON - 21**"
      ],
      "metadata": {
        "id": "zyZZrM3O9zUf"
      }
    },
    {
      "cell_type": "markdown",
      "source": [
        "**1. Add the current date to the text file today.txt as a string.**"
      ],
      "metadata": {
        "id": "sI2o8lL99598"
      }
    },
    {
      "cell_type": "code",
      "execution_count": 2,
      "metadata": {
        "colab": {
          "base_uri": "https://localhost:8080/",
          "height": 35
        },
        "id": "WVfLua7a9oKr",
        "outputId": "83b9ad60-3fcd-4ef3-c11a-9164b71243cc"
      },
      "outputs": [
        {
          "output_type": "execute_result",
          "data": {
            "text/plain": [
              "'2023-08-17'"
            ],
            "application/vnd.google.colaboratory.intrinsic+json": {
              "type": "string"
            }
          },
          "metadata": {},
          "execution_count": 2
        }
      ],
      "source": [
        "import datetime\n",
        "from datetime import date\n",
        "now = date.today()\n",
        "curr_date = now.isoformat()\n",
        "curr_date"
      ]
    },
    {
      "cell_type": "code",
      "source": [
        "with open('today.txt','w') as file:\n",
        "    file.write(curr_date)"
      ],
      "metadata": {
        "id": "CcL1YXYjxEwt"
      },
      "execution_count": 3,
      "outputs": []
    },
    {
      "cell_type": "markdown",
      "source": [
        "**2. Read the text file today.txt into the string today_string**"
      ],
      "metadata": {
        "id": "BlqnZhB6w7tj"
      }
    },
    {
      "cell_type": "code",
      "source": [
        "with open('today.txt','r') as file:\n",
        "  today_string = file.read()\n",
        "today_string\n"
      ],
      "metadata": {
        "colab": {
          "base_uri": "https://localhost:8080/",
          "height": 35
        },
        "id": "vtR0uJC7wuuC",
        "outputId": "f7bd71bc-8683-44a9-e371-e3d725b28a18"
      },
      "execution_count": 4,
      "outputs": [
        {
          "output_type": "execute_result",
          "data": {
            "text/plain": [
              "'2023-08-17'"
            ],
            "application/vnd.google.colaboratory.intrinsic+json": {
              "type": "string"
            }
          },
          "metadata": {},
          "execution_count": 4
        }
      ]
    },
    {
      "cell_type": "markdown",
      "source": [
        "**3. Parse the date from today_string.**"
      ],
      "metadata": {
        "id": "B73LY-CjxmIh"
      }
    },
    {
      "cell_type": "code",
      "source": [
        "from datetime import datetime\n",
        "format = '%Y-%m-%d'\n",
        "datetime.strptime(today_string,format)"
      ],
      "metadata": {
        "colab": {
          "base_uri": "https://localhost:8080/"
        },
        "id": "7wOVCYMHxhh0",
        "outputId": "66bc8ccf-5dec-48d7-b42a-6198b5a3df01"
      },
      "execution_count": 7,
      "outputs": [
        {
          "output_type": "execute_result",
          "data": {
            "text/plain": [
              "datetime.datetime(2023, 8, 17, 0, 0)"
            ]
          },
          "metadata": {},
          "execution_count": 7
        }
      ]
    },
    {
      "cell_type": "markdown",
      "source": [
        "**4. List the files in your current directory**"
      ],
      "metadata": {
        "id": "BE__4AVTyyab"
      }
    },
    {
      "cell_type": "code",
      "source": [
        "import os\n",
        "os.listdir('.')"
      ],
      "metadata": {
        "colab": {
          "base_uri": "https://localhost:8080/"
        },
        "id": "D7EU34xMyW5a",
        "outputId": "73862cd2-d44a-4e20-bb47-2b703ac8f60b"
      },
      "execution_count": 8,
      "outputs": [
        {
          "output_type": "execute_result",
          "data": {
            "text/plain": [
              "['.config', 'today.txt', 'sample_data']"
            ]
          },
          "metadata": {},
          "execution_count": 8
        }
      ]
    },
    {
      "cell_type": "markdown",
      "source": [
        "**5. Create a list of all of the files in your parent directory (minimum five files should be available).**"
      ],
      "metadata": {
        "id": "NXaqA7qV1FYf"
      }
    },
    {
      "cell_type": "code",
      "source": [
        "import os\n",
        "os.listdir('..')"
      ],
      "metadata": {
        "colab": {
          "base_uri": "https://localhost:8080/"
        },
        "id": "ex6iYfl9096v",
        "outputId": "203f136e-ba8d-4062-d09e-62f05009b63e"
      },
      "execution_count": 9,
      "outputs": [
        {
          "output_type": "execute_result",
          "data": {
            "text/plain": [
              "['var',\n",
              " 'opt',\n",
              " 'libx32',\n",
              " 'root',\n",
              " 'lib32',\n",
              " 'usr',\n",
              " 'srv',\n",
              " 'lib',\n",
              " 'mnt',\n",
              " 'lib64',\n",
              " 'tmp',\n",
              " 'sbin',\n",
              " 'dev',\n",
              " 'bin',\n",
              " 'boot',\n",
              " 'proc',\n",
              " 'sys',\n",
              " 'etc',\n",
              " 'home',\n",
              " 'media',\n",
              " 'run',\n",
              " 'content',\n",
              " '.dockerenv',\n",
              " 'tools',\n",
              " 'datalab',\n",
              " 'python-apt',\n",
              " 'NGC-DL-CONTAINER-LICENSE',\n",
              " 'cuda-keyring_1.0-1_all.deb']"
            ]
          },
          "metadata": {},
          "execution_count": 9
        }
      ]
    },
    {
      "cell_type": "markdown",
      "source": [
        "**6. Use multiprocessing to create three separate processes. Make each one wait a random number of\n",
        "seconds between one and five, print the current time, and then exit.**"
      ],
      "metadata": {
        "id": "m-_OMdc23C-k"
      }
    },
    {
      "cell_type": "code",
      "source": [
        "import multiprocessing\n",
        "\n",
        "def printsec(seconds):\n",
        "    from datetime import datetime\n",
        "    from time import sleep\n",
        "    sleep(seconds)\n",
        "    print('wait', seconds, 'seconds, time is', datetime.utcnow())\n",
        "\n",
        "if __name__ == '__main__':\n",
        "    import random\n",
        "    for n in range(3):\n",
        "        seconds = random.random()\n",
        "        proc = multiprocessing.Process(target=printsec, args=(seconds,))\n",
        "        proc.start()"
      ],
      "metadata": {
        "colab": {
          "base_uri": "https://localhost:8080/"
        },
        "id": "wxwfoe3A2-oj",
        "outputId": "d09a108c-0205-4f8d-8305-5555083a9009"
      },
      "execution_count": 10,
      "outputs": [
        {
          "output_type": "stream",
          "name": "stdout",
          "text": [
            "wait0.04796392834845886  seconds, time is 2023-08-17 05:02:14.465173\n",
            "wait 0.14781206677190906 seconds, time is 2023-08-17 05:02:14.571807\n",
            "wait 0.21350195592182353 seconds, time is 2023-08-17 05:02:14.620958\n"
          ]
        }
      ]
    },
    {
      "cell_type": "markdown",
      "source": [
        "**7. Create a date object of your day of birth.**"
      ],
      "metadata": {
        "id": "Wd1wB4313_BV"
      }
    },
    {
      "cell_type": "code",
      "source": [
        "date_birth = date(1998,7,23)\n",
        "date_birth"
      ],
      "metadata": {
        "colab": {
          "base_uri": "https://localhost:8080/"
        },
        "id": "cAq2xBc132mR",
        "outputId": "3589dfa1-41ad-4132-c9e9-0e6adc100fde"
      },
      "execution_count": 11,
      "outputs": [
        {
          "output_type": "execute_result",
          "data": {
            "text/plain": [
              "datetime.date(1998, 7, 23)"
            ]
          },
          "metadata": {},
          "execution_count": 11
        }
      ]
    },
    {
      "cell_type": "markdown",
      "source": [
        "**8. What day of the week was your day of birth?**"
      ],
      "metadata": {
        "id": "bKfroUnM4Sq8"
      }
    },
    {
      "cell_type": "code",
      "source": [
        "date_birth.weekday()"
      ],
      "metadata": {
        "colab": {
          "base_uri": "https://localhost:8080/"
        },
        "id": "gyf2auQE4OaN",
        "outputId": "a4ad5835-ef9d-46dd-c3fe-cbfef6dae05b"
      },
      "execution_count": 12,
      "outputs": [
        {
          "output_type": "execute_result",
          "data": {
            "text/plain": [
              "3"
            ]
          },
          "metadata": {},
          "execution_count": 12
        }
      ]
    },
    {
      "cell_type": "markdown",
      "source": [
        "**9. When will you be (or when were you) 10,000 days old?**"
      ],
      "metadata": {
        "id": "elPmfGxP4l35"
      }
    },
    {
      "cell_type": "code",
      "source": [
        "from datetime import timedelta\n",
        "my_day_10000 = date_birth + timedelta(days = 10000)\n",
        "my_day_10000"
      ],
      "metadata": {
        "colab": {
          "base_uri": "https://localhost:8080/"
        },
        "id": "FvjUPHwX4h1L",
        "outputId": "b0487907-c189-4a94-c70e-9e2615c1bdd6"
      },
      "execution_count": 13,
      "outputs": [
        {
          "output_type": "execute_result",
          "data": {
            "text/plain": [
              "datetime.date(2025, 12, 8)"
            ]
          },
          "metadata": {},
          "execution_count": 13
        }
      ]
    },
    {
      "cell_type": "code",
      "source": [],
      "metadata": {
        "id": "6cCXlsim5Ma1"
      },
      "execution_count": null,
      "outputs": []
    }
  ]
}