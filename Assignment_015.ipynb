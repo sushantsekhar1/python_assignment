{
  "nbformat": 4,
  "nbformat_minor": 0,
  "metadata": {
    "colab": {
      "provenance": [],
      "authorship_tag": "ABX9TyPyzq52QlWLtygV2KqGbD7t",
      "include_colab_link": true
    },
    "kernelspec": {
      "name": "python3",
      "display_name": "Python 3"
    },
    "language_info": {
      "name": "python"
    }
  },
  "cells": [
    {
      "cell_type": "markdown",
      "metadata": {
        "id": "view-in-github",
        "colab_type": "text"
      },
      "source": [
        "<a href=\"https://colab.research.google.com/github/sushantsekhar1/python_assignment/blob/python_basic/Assignment_015.ipynb\" target=\"_parent\"><img src=\"https://colab.research.google.com/assets/colab-badge.svg\" alt=\"Open In Colab\"/></a>"
      ]
    },
    {
      "cell_type": "markdown",
      "source": [
        "#**PYTHON - 15**"
      ],
      "metadata": {
        "id": "7WjQD1yO02Et"
      }
    },
    {
      "cell_type": "markdown",
      "source": [
        "**1.How many seconds are in an hour? Use the interactive interpreter as a calculator and multiply the\n",
        "number of seconds in a minute (60) by the number of minutes in an hour (also 60).**"
      ],
      "metadata": {
        "id": "vNdScVIR1AOJ"
      }
    },
    {
      "cell_type": "code",
      "execution_count": 1,
      "metadata": {
        "colab": {
          "base_uri": "https://localhost:8080/"
        },
        "id": "Q9Ea5iui0xbu",
        "outputId": "90f0da29-9839-4b74-8c84-b1499e1d9414"
      },
      "outputs": [
        {
          "output_type": "stream",
          "name": "stdout",
          "text": [
            "second_are_in_an_hour: 3600\n"
          ]
        }
      ],
      "source": [
        "second_in_minute = 60\n",
        "minute_in_hour = 60\n",
        "\n",
        "print(f\"second_are_in_an_hour: {second_in_minute * minute_in_hour}\")"
      ]
    },
    {
      "cell_type": "markdown",
      "source": [
        "**2. Assign the result from the previous task (seconds in an hour) to a variable called\n",
        "seconds_per_hour.**"
      ],
      "metadata": {
        "id": "50-F9CVzwf7B"
      }
    },
    {
      "cell_type": "code",
      "source": [
        "second_per_hour = 60 * 60\n",
        "second_per_hour"
      ],
      "metadata": {
        "colab": {
          "base_uri": "https://localhost:8080/"
        },
        "id": "74sUvBnd2TGY",
        "outputId": "598d4550-79ed-4f75-fc33-6cb3fe573d79"
      },
      "execution_count": 1,
      "outputs": [
        {
          "output_type": "execute_result",
          "data": {
            "text/plain": [
              "3600"
            ]
          },
          "metadata": {},
          "execution_count": 1
        }
      ]
    },
    {
      "cell_type": "markdown",
      "source": [
        "**3. How many seconds do you think there are in a day? Make use of the variables seconds per hour\n",
        "and minutes per hour.**"
      ],
      "metadata": {
        "id": "nqD11_kuwzl4"
      }
    },
    {
      "cell_type": "code",
      "source": [
        "one_day = 24\n",
        "second_in_one_day = one_day * second_per_hour\n",
        "print(f\"Second in one Day: {second_in_one_day}\")"
      ],
      "metadata": {
        "colab": {
          "base_uri": "https://localhost:8080/"
        },
        "id": "jlTv2jIuwwKc",
        "outputId": "3c36a5e9-2b65-4412-e35f-b7a01037c1d9"
      },
      "execution_count": 2,
      "outputs": [
        {
          "output_type": "stream",
          "name": "stdout",
          "text": [
            "Second in one Day: 86400\n"
          ]
        }
      ]
    },
    {
      "cell_type": "markdown",
      "source": [
        "**4. Calculate seconds per day again, but this time save the result in a variable called seconds_per_day**"
      ],
      "metadata": {
        "id": "_HsS6VokxXTS"
      }
    },
    {
      "cell_type": "code",
      "source": [
        "second_per_day = 24 * second_per_hour\n",
        "second_per_day"
      ],
      "metadata": {
        "colab": {
          "base_uri": "https://localhost:8080/"
        },
        "id": "18cJmARzxVkF",
        "outputId": "4dab761f-9233-4237-b94e-c0a5b7022871"
      },
      "execution_count": 3,
      "outputs": [
        {
          "output_type": "execute_result",
          "data": {
            "text/plain": [
              "86400"
            ]
          },
          "metadata": {},
          "execution_count": 3
        }
      ]
    },
    {
      "cell_type": "markdown",
      "source": [
        "**5. Divide seconds_per_day by seconds_per_hour. Use floating-point (/) division.**"
      ],
      "metadata": {
        "id": "rdnJimi4xwwV"
      }
    },
    {
      "cell_type": "code",
      "source": [
        "second_per_day/second_per_hour"
      ],
      "metadata": {
        "colab": {
          "base_uri": "https://localhost:8080/"
        },
        "id": "w1QuVTjGxvm2",
        "outputId": "ef358aa8-e711-4088-f871-a891b6ec2a86"
      },
      "execution_count": 4,
      "outputs": [
        {
          "output_type": "execute_result",
          "data": {
            "text/plain": [
              "24.0"
            ]
          },
          "metadata": {},
          "execution_count": 4
        }
      ]
    },
    {
      "cell_type": "markdown",
      "source": [
        "**6. Divide seconds_per_day by seconds_per_hour, using integer (//) division. Did this number agree\n",
        "with the floating-point value from the previous question, aside from the final .0?**"
      ],
      "metadata": {
        "id": "tpew3ViFx7aG"
      }
    },
    {
      "cell_type": "code",
      "source": [
        "# YES this number agrees\n",
        "second_per_day//second_per_hour"
      ],
      "metadata": {
        "colab": {
          "base_uri": "https://localhost:8080/"
        },
        "id": "RqlRV2b2x6Pt",
        "outputId": "75e4a76f-9a81-4d9c-f947-5b407830fbb7"
      },
      "execution_count": 6,
      "outputs": [
        {
          "output_type": "execute_result",
          "data": {
            "text/plain": [
              "24"
            ]
          },
          "metadata": {},
          "execution_count": 6
        }
      ]
    },
    {
      "cell_type": "markdown",
      "source": [
        "**7. Write a generator, genPrimes, that returns the sequence of prime numbers on successive calls to\n",
        "its next() method: 2, 3, 5, 7, 11, ...**"
      ],
      "metadata": {
        "id": "tX4Lu9vyyMhS"
      }
    },
    {
      "cell_type": "code",
      "source": [
        "def genPrimes():\n",
        "    primes = [2]\n",
        "    yield primes[0]\n",
        "    guess = 3\n",
        "    while True:\n",
        "        if all(guess%x != 0 for x in primes):\n",
        "            primes.append(guess)\n",
        "        if guess == primes[-1]:\n",
        "            yield primes[-1]\n",
        "        guess += 2\n",
        ""
      ],
      "metadata": {
        "id": "eGwuEAKcyGMZ"
      },
      "execution_count": 11,
      "outputs": []
    }
  ]
}