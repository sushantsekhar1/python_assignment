{
  "nbformat": 4,
  "nbformat_minor": 0,
  "metadata": {
    "colab": {
      "provenance": [],
      "authorship_tag": "ABX9TyOMHWfvLoWtsD3zah8Qfo0U",
      "include_colab_link": true
    },
    "kernelspec": {
      "name": "python3",
      "display_name": "Python 3"
    },
    "language_info": {
      "name": "python"
    }
  },
  "cells": [
    {
      "cell_type": "markdown",
      "metadata": {
        "id": "view-in-github",
        "colab_type": "text"
      },
      "source": [
        "<a href=\"https://colab.research.google.com/github/sushantsekhar1/python_assignment/blob/python_basic/Assignment_013.ipynb\" target=\"_parent\"><img src=\"https://colab.research.google.com/assets/colab-badge.svg\" alt=\"Open In Colab\"/></a>"
      ]
    },
    {
      "cell_type": "markdown",
      "source": [
        "# **PYTHON - 13**"
      ],
      "metadata": {
        "id": "obXNjmni54aW"
      }
    },
    {
      "cell_type": "markdown",
      "source": [
        "**1. What advantages do Excel spreadsheets have over CSV spreadsheets?**"
      ],
      "metadata": {
        "id": "W16Jze4358-H"
      }
    },
    {
      "cell_type": "markdown",
      "source": [
        "```\n",
        "1. Excel spreadsheets offer a wider range of features than CSV spreadsheets, including formulas, charts, macros, and pivot tables.\n",
        "2. Excel spreadsheets are generally easier to use than CSV spreadsheets, especially for users who are not familiar with data analysis.\n",
        "3. Excel spreadsheets are easier to collaborate on than CSV spreadsheets.\n",
        "4. Excel spreadsheets can be opened on any computer that has Excel installed, while CSV spreadsheets can only be opened by text editors or specialized software.\n",
        "```"
      ],
      "metadata": {
        "id": "qtSyT0FC6af-"
      }
    },
    {
      "cell_type": "markdown",
      "source": [
        "**2.What do you pass to csv.reader() and csv.writer() to create reader and writer objects?**"
      ],
      "metadata": {
        "id": "QxRbUoAN7MNR"
      }
    },
    {
      "cell_type": "markdown",
      "source": [
        "```\n",
        "csv.reader():\n",
        "\n",
        "You pass an open file-like object (such as a file handle obtained from open()) to csv.reader() to create a CSV reader object. This object allows you to read data from the CSV file.\n",
        "\n",
        "csv.writer():\n",
        "\n",
        "You pass an open file-like object (such as a file handle obtained from open()) to csv.writer() to create a CSV writer object. This object allows you to write data to the CSV file.\n",
        "```\n"
      ],
      "metadata": {
        "id": "SSufrX2I8XSo"
      }
    },
    {
      "cell_type": "markdown",
      "source": [
        "**3. What modes do File objects for reader and writer objects need to be opened in?**"
      ],
      "metadata": {
        "id": "k7b9vLPS83Ds"
      }
    },
    {
      "cell_type": "markdown",
      "source": [
        "```\n",
        "The  functions require that the file objects they are passed are opened in the following modes:\n",
        "\n",
        "1. r: This mode is used to open the file for reading.\n",
        "2. w: This mode is used to open the file for writing.\n",
        "3. a: This mode is used to open the file for appending.\n",
        "4. r+: This mode is used to open the file for both reading and writing.\n",
        "```"
      ],
      "metadata": {
        "id": "X6HLQUek--Qm"
      }
    },
    {
      "cell_type": "markdown",
      "source": [
        "**4. What method takes a list argument and writes it to a CSV file?**"
      ],
      "metadata": {
        "id": "xobvk2F1_2ak"
      }
    },
    {
      "cell_type": "code",
      "execution_count": null,
      "metadata": {
        "id": "Wbi_6qx550uX"
      },
      "outputs": [],
      "source": [
        "#The writerow() method\n",
        "File_abc = open('abc.csv','w')\n",
        "File_Writer = csv.writer(File_abc)\n",
        "csv.writer(File_abc).writerow(['cat','fish','dog'])"
      ]
    },
    {
      "cell_type": "markdown",
      "source": [
        "**5. What do the keyword arguments delimiter and line terminator do?**"
      ],
      "metadata": {
        "id": "qJkt8ySXAgxI"
      }
    },
    {
      "cell_type": "markdown",
      "source": [
        "```\n",
        "The delimiter and line terminator keyword arguments in the csv.writer() method control the format of the CSV file.\n",
        "\n",
        "delimiter: Specifies the character that is used to separate the values in a row.\n",
        "lineterminator: Specifies the character that is used to terminate each row in the CSV file.\n",
        "```"
      ],
      "metadata": {
        "id": "TFqTyxPCA4aP"
      }
    },
    {
      "cell_type": "markdown",
      "source": [
        "**6. What function takes a string of JSON data and returns a Python data structure?**"
      ],
      "metadata": {
        "id": "uVYkSUVYA76o"
      }
    },
    {
      "cell_type": "markdown",
      "source": [
        "```\n",
        "The json.loads() function takes a string of JSON data and returns a Python data structure.\n",
        "```"
      ],
      "metadata": {
        "id": "iM1hlGacB0rA"
      }
    },
    {
      "cell_type": "markdown",
      "source": [
        "**7. What function takes a Python data structure and returns a string of JSON data?**"
      ],
      "metadata": {
        "id": "nHqN090iCFgj"
      }
    },
    {
      "cell_type": "markdown",
      "source": [
        "```\n",
        "json.dumps() function takes a Python data structure and returns a string of JSON data.\n",
        "```"
      ],
      "metadata": {
        "id": "-iym1Z6iCJL3"
      }
    }
  ]
}