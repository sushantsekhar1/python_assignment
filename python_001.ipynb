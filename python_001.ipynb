{
  "nbformat": 4,
  "nbformat_minor": 0,
  "metadata": {
    "colab": {
      "provenance": [],
      "authorship_tag": "ABX9TyMl99esrU6FaCGcMG+zFhhY",
      "include_colab_link": true
    },
    "kernelspec": {
      "name": "python3",
      "display_name": "Python 3"
    },
    "language_info": {
      "name": "python"
    }
  },
  "cells": [
    {
      "cell_type": "markdown",
      "metadata": {
        "id": "view-in-github",
        "colab_type": "text"
      },
      "source": [
        "<a href=\"https://colab.research.google.com/github/sushantsekhar1/python_assignment/blob/python_basic/python_001.ipynb\" target=\"_parent\"><img src=\"https://colab.research.google.com/assets/colab-badge.svg\" alt=\"Open In Colab\"/></a>"
      ]
    },
    {
      "cell_type": "markdown",
      "source": [
        "``` \n",
        "Write a python Program to constuct the following pattern:\n",
        "\n",
        "          1\n",
        "         2 2\n",
        "        3 3 3\n",
        "       4 4 4 4 \n",
        "```       "
      ],
      "metadata": {
        "id": "T4TIAKrEFrye"
      }
    },
    {
      "cell_type": "code",
      "source": [
        "        \n",
        "def equiletral_triangle(n):\n",
        "     \n",
        "    k = n - 1\n",
        "    a = 0\n",
        " \n",
        "    # outer loop handle the row\n",
        "    for i in range(0, n):\n",
        "     \n",
        "        # inner loop handle the space\n",
        "        for j in range(0, k):\n",
        "            print(end=\" \")\n",
        "     \n",
        "        # decrementing k after each loop\n",
        "        k = k - 1\n",
        "        # incrementing a after each loop\n",
        "        a = a + 1\n",
        "     \n",
        "        # inner loop handle the no. columns\n",
        "        for j in range(0, i+1):\n",
        "         \n",
        "            # printing the number\n",
        "            print(a , end=\" \")\n",
        "\n",
        "        print(\"\\r\")\n",
        " \n",
        "\n",
        "\n",
        "n = int(input(\"Enter the Number of row: \"))\n",
        "equiletral_triangle(n)"
      ],
      "metadata": {
        "colab": {
          "base_uri": "https://localhost:8080/"
        },
        "id": "UbZ69LDx_oGZ",
        "outputId": "72fe7b7f-3278-45a5-8c72-3ede08dbd888"
      },
      "execution_count": 57,
      "outputs": [
        {
          "output_type": "stream",
          "name": "stdout",
          "text": [
            "Enter the Number of row: 6\n",
            "     1 \n",
            "    2 2 \n",
            "   3 3 3 \n",
            "  4 4 4 4 \n",
            " 5 5 5 5 5 \n",
            "6 6 6 6 6 6 \n"
          ]
        }
      ]
    },
    {
      "cell_type": "code",
      "source": [],
      "metadata": {
        "id": "DFB55mwvBPZ2"
      },
      "execution_count": null,
      "outputs": []
    }
  ]
}