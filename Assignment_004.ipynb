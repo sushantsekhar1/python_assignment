{
  "nbformat": 4,
  "nbformat_minor": 0,
  "metadata": {
    "colab": {
      "provenance": [],
      "authorship_tag": "ABX9TyNvr/WgBi5JssJTFI/4WwK3",
      "include_colab_link": true
    },
    "kernelspec": {
      "name": "python3",
      "display_name": "Python 3"
    },
    "language_info": {
      "name": "python"
    }
  },
  "cells": [
    {
      "cell_type": "markdown",
      "metadata": {
        "id": "view-in-github",
        "colab_type": "text"
      },
      "source": [
        "<a href=\"https://colab.research.google.com/github/sushantsekhar1/python_assignment/blob/python_basic/Assignment_004.ipynb\" target=\"_parent\"><img src=\"https://colab.research.google.com/assets/colab-badge.svg\" alt=\"Open In Colab\"/></a>"
      ]
    },
    {
      "cell_type": "markdown",
      "source": [
        "## **PYTHON BASIC - 4**\n"
      ],
      "metadata": {
        "id": "zY754paqfZGa"
      }
    },
    {
      "cell_type": "markdown",
      "source": [
        "**1. What exactly is [ ]?**"
      ],
      "metadata": {
        "id": "WW4Phtw5ZO8F"
      }
    },
    {
      "cell_type": "markdown",
      "source": [
        "```\n",
        "It is represent a empty list.\n",
        "```"
      ],
      "metadata": {
        "id": "IBb6SR5iZWd-"
      }
    },
    {
      "cell_type": "markdown",
      "source": [
        "**2. In a list of values stored in a variable called spam, how would you assign the value 'hello' as the\n",
        "third value? (Assume [2, 4, 6, 8, 10] are in spam.)**\n"
      ],
      "metadata": {
        "id": "xZ3j0aZSaHBU"
      }
    },
    {
      "cell_type": "code",
      "source": [
        "spam = [2,4,6,8,10]\n",
        "\n",
        "# Assign the value 'hello' in the third value\n",
        "spam[2] = 'hello'\n",
        "\n",
        "#Print the List\n",
        "print(spam)"
      ],
      "metadata": {
        "colab": {
          "base_uri": "https://localhost:8080/"
        },
        "id": "Uxe5Mb1eZS-5",
        "outputId": "cf113cc1-a1c4-42b1-ca32-7fccb5338e9e"
      },
      "execution_count": 1,
      "outputs": [
        {
          "output_type": "stream",
          "name": "stdout",
          "text": [
            "[2, 4, 'hello', 8, 10]\n"
          ]
        }
      ]
    },
    {
      "cell_type": "markdown",
      "source": [
        " **Let's pretend the spam includes the list ['a','b','c','d' ] for the next three queries.**"
      ],
      "metadata": {
        "id": "O9Zpa8UWfBfk"
      }
    },
    {
      "cell_type": "markdown",
      "source": [
        "**3. What is the value of spam[int(int(&#39;3&#39; * 2) / 11)]?**"
      ],
      "metadata": {
        "id": "7qR_i2rOeiwQ"
      }
    },
    {
      "cell_type": "code",
      "source": [
        "spam = ['a','b','c','d']\n",
        "spam[int(int('3'*2)/11)] #spam[int(33/11)] = spam[3]"
      ],
      "metadata": {
        "colab": {
          "base_uri": "https://localhost:8080/",
          "height": 35
        },
        "id": "YF59I4-IejgC",
        "outputId": "ab778b7f-fc50-4ce6-9e3c-f8dcfa4f9b23"
      },
      "execution_count": 2,
      "outputs": [
        {
          "output_type": "execute_result",
          "data": {
            "text/plain": [
              "'d'"
            ],
            "application/vnd.google.colaboratory.intrinsic+json": {
              "type": "string"
            }
          },
          "metadata": {},
          "execution_count": 2
        }
      ]
    },
    {
      "cell_type": "markdown",
      "source": [
        "**4. What is the value of spam[-1]?**"
      ],
      "metadata": {
        "id": "A4Ot-0FOg6iw"
      }
    },
    {
      "cell_type": "code",
      "source": [
        "spam = ['a','b','c','d']\n",
        "spam[-1] # we get 'd'"
      ],
      "metadata": {
        "colab": {
          "base_uri": "https://localhost:8080/",
          "height": 35
        },
        "id": "EjD_Wxvmg0YO",
        "outputId": "b30cfc30-7882-448a-ea99-5645ce9c37b9"
      },
      "execution_count": 3,
      "outputs": [
        {
          "output_type": "execute_result",
          "data": {
            "text/plain": [
              "'d'"
            ],
            "application/vnd.google.colaboratory.intrinsic+json": {
              "type": "string"
            }
          },
          "metadata": {},
          "execution_count": 3
        }
      ]
    },
    {
      "cell_type": "markdown",
      "source": [
        "**5. What is the value of spam[:2]?**"
      ],
      "metadata": {
        "id": "BQPy8cLghRl_"
      }
    },
    {
      "cell_type": "code",
      "source": [
        "spam = ['a','b','c','d']\n",
        "spam[:2]"
      ],
      "metadata": {
        "colab": {
          "base_uri": "https://localhost:8080/"
        },
        "id": "PG2lh0YQhERk",
        "outputId": "660a27ea-e604-4502-c560-b07ca07fb6e1"
      },
      "execution_count": 4,
      "outputs": [
        {
          "output_type": "execute_result",
          "data": {
            "text/plain": [
              "['a', 'b']"
            ]
          },
          "metadata": {},
          "execution_count": 4
        }
      ]
    },
    {
      "cell_type": "markdown",
      "source": [
        "**Let's pretend bacon has the list [3.14, 'cat', 11, 'cat', True] for the next three questions.**"
      ],
      "metadata": {
        "id": "0o9y6Z_hhrpa"
      }
    },
    {
      "cell_type": "markdown",
      "source": [
        "**6. What is the value of bacon.index('cat')?**"
      ],
      "metadata": {
        "id": "QMEp-_ySiD2D"
      }
    },
    {
      "cell_type": "code",
      "source": [
        "bacon = [3.14, 'cat', 11, 'cat', True]\n",
        "bacon.index('cat') #it return first index 'cat'"
      ],
      "metadata": {
        "colab": {
          "base_uri": "https://localhost:8080/"
        },
        "id": "RSMiGEFYhbd8",
        "outputId": "cb1bb0e1-f00f-4422-fea7-bc392882ee1a"
      },
      "execution_count": 27,
      "outputs": [
        {
          "output_type": "execute_result",
          "data": {
            "text/plain": [
              "1"
            ]
          },
          "metadata": {},
          "execution_count": 27
        }
      ]
    },
    {
      "cell_type": "markdown",
      "source": [
        "**7. How does bacon.append(99) change the look of the list value in bacon?**"
      ],
      "metadata": {
        "id": "NrLPZFiVjCMt"
      }
    },
    {
      "cell_type": "code",
      "source": [
        "bacon = [3.14, 'cat', 11, 'cat', True]\n",
        "bacon.append(99) # append is used to add the element in the end of list\n",
        "bacon"
      ],
      "metadata": {
        "colab": {
          "base_uri": "https://localhost:8080/"
        },
        "id": "ddgOPowdjAbJ",
        "outputId": "3eef43a1-49e9-4616-dd6f-4fcbbcb0d6de"
      },
      "execution_count": 26,
      "outputs": [
        {
          "output_type": "execute_result",
          "data": {
            "text/plain": [
              "[3.14, 'cat', 11, 'cat', True, 99]"
            ]
          },
          "metadata": {},
          "execution_count": 26
        }
      ]
    },
    {
      "cell_type": "markdown",
      "source": [
        "**8. How does bacon.remove('cat') change the look of the list in bacon?**"
      ],
      "metadata": {
        "id": "l9xKA-Y-jopa"
      }
    },
    {
      "cell_type": "code",
      "source": [
        "bacon = [3.14, 'cat', 11, 'cat', True]\n",
        "bacon.remove('cat') # remove is use to remove the element in first occurance in the list\n",
        "bacon"
      ],
      "metadata": {
        "colab": {
          "base_uri": "https://localhost:8080/"
        },
        "id": "h0ISHW4rjSRy",
        "outputId": "4637f206-6104-4d60-d5b3-ff01e89401e1"
      },
      "execution_count": 25,
      "outputs": [
        {
          "output_type": "execute_result",
          "data": {
            "text/plain": [
              "[3.14, 11, 'cat', True]"
            ]
          },
          "metadata": {},
          "execution_count": 25
        }
      ]
    },
    {
      "cell_type": "markdown",
      "source": [
        "**9. What are the list concatenation and list replication operators?**"
      ],
      "metadata": {
        "id": "kOzUfQuNkGbb"
      }
    },
    {
      "cell_type": "markdown",
      "source": [
        "```\n",
        "(+) -> concatenation operator\n",
        "(*) -> replication operator\n",
        "```"
      ],
      "metadata": {
        "id": "535MDbvOkR0o"
      }
    },
    {
      "cell_type": "code",
      "source": [
        "list1 = [1,2]\n",
        "list2 = [3,4]\n",
        "\n",
        "list1 + list2 #List concatenation"
      ],
      "metadata": {
        "colab": {
          "base_uri": "https://localhost:8080/"
        },
        "id": "6g8cb6Ooj3Oe",
        "outputId": "f63d815f-81ba-4da8-ed31-bbc3d6fa55b9"
      },
      "execution_count": 11,
      "outputs": [
        {
          "output_type": "execute_result",
          "data": {
            "text/plain": [
              "[1, 2, 3, 4]"
            ]
          },
          "metadata": {},
          "execution_count": 11
        }
      ]
    },
    {
      "cell_type": "code",
      "source": [
        "list1 = [1,2]\n",
        "\n",
        "list1 * 2 #List replication"
      ],
      "metadata": {
        "colab": {
          "base_uri": "https://localhost:8080/"
        },
        "id": "Q5bKo8FXk3ph",
        "outputId": "7d2e4d77-a254-4b2a-9eb1-13565995c648"
      },
      "execution_count": 12,
      "outputs": [
        {
          "output_type": "execute_result",
          "data": {
            "text/plain": [
              "[1, 2, 1, 2]"
            ]
          },
          "metadata": {},
          "execution_count": 12
        }
      ]
    },
    {
      "cell_type": "markdown",
      "source": [
        "**10. What is difference between the list methods append() and insert()?**"
      ],
      "metadata": {
        "id": "Ca2zGePllPTI"
      }
    },
    {
      "cell_type": "markdown",
      "source": [
        "```\n",
        "append() -> It is use to add element in the end of list.\n",
        "insert() -> It is used to insert element before index.\n",
        "```"
      ],
      "metadata": {
        "id": "sQKJ5r8BlgFM"
      }
    },
    {
      "cell_type": "code",
      "source": [
        "bacon = [3.14, 'cat', 11, 'cat', True]\n",
        "bacon.append(99) #By using append\n",
        "bacon"
      ],
      "metadata": {
        "colab": {
          "base_uri": "https://localhost:8080/"
        },
        "id": "AI5TPkCvlGaW",
        "outputId": "961a2e34-02f7-48d6-e053-50e158e01e47"
      },
      "execution_count": 24,
      "outputs": [
        {
          "output_type": "execute_result",
          "data": {
            "text/plain": [
              "[3.14, 'cat', 11, 'cat', True, 99]"
            ]
          },
          "metadata": {},
          "execution_count": 24
        }
      ]
    },
    {
      "cell_type": "code",
      "source": [
        "bacon = [3.14, 'cat', 11, 'cat', True]\n",
        "bacon.insert(3,'dog') #By using insert\n",
        "bacon"
      ],
      "metadata": {
        "colab": {
          "base_uri": "https://localhost:8080/"
        },
        "id": "QvfQxIOrmgy4",
        "outputId": "47a70361-5290-4e87-8b9c-d6f630edb298"
      },
      "execution_count": 23,
      "outputs": [
        {
          "output_type": "execute_result",
          "data": {
            "text/plain": [
              "[3.14, 'cat', 11, 'dog', 'cat', True]"
            ]
          },
          "metadata": {},
          "execution_count": 23
        }
      ]
    },
    {
      "cell_type": "markdown",
      "source": [
        "**11. What are the two methods for removing items from a list?**"
      ],
      "metadata": {
        "id": "NsAwU-IPm74B"
      }
    },
    {
      "cell_type": "code",
      "source": [
        "# remove(item) -> remove the first occurance of the element in the list\n",
        "bacon = [3.14, 'cat', 11, 'cat', True ]\n",
        "bacon.remove('cat')\n",
        "bacon"
      ],
      "metadata": {
        "colab": {
          "base_uri": "https://localhost:8080/"
        },
        "id": "VF9JoVKBm0iM",
        "outputId": "c2cdf529-7707-4c98-cbc5-a6f504295a5a"
      },
      "execution_count": 22,
      "outputs": [
        {
          "output_type": "execute_result",
          "data": {
            "text/plain": [
              "[3.14, 11, 'cat', True]"
            ]
          },
          "metadata": {},
          "execution_count": 22
        }
      ]
    },
    {
      "cell_type": "code",
      "source": [
        "#pop() -> pop the last element in the list.\n",
        "bacon = [3.14, 'cat', 11, 'cat', True]\n",
        "bacon.pop()\n",
        "bacon"
      ],
      "metadata": {
        "colab": {
          "base_uri": "https://localhost:8080/"
        },
        "id": "n2omDYulnmKh",
        "outputId": "e026bd11-12ed-4dae-a2c1-2b0bad478721"
      },
      "execution_count": 20,
      "outputs": [
        {
          "output_type": "execute_result",
          "data": {
            "text/plain": [
              "[3.14, 'cat', 11, 'cat']"
            ]
          },
          "metadata": {},
          "execution_count": 20
        }
      ]
    },
    {
      "cell_type": "markdown",
      "source": [
        "**12. Describe how list values and string values are identical.**"
      ],
      "metadata": {
        "id": "ZT2bvPdgo_30"
      }
    },
    {
      "cell_type": "markdown",
      "source": [
        "```\n",
        "1. Both list and string passed to len().\n",
        "2. Both list and string support indexing and sliced.\n",
        "3. Can we used in the for loop.\n",
        "4. Can be Concatenated and replicated.\n",
        "```"
      ],
      "metadata": {
        "id": "qVmbTHNRpUMG"
      }
    },
    {
      "cell_type": "markdown",
      "source": [
        "**13. What&#39;s the difference between tuples and lists?**"
      ],
      "metadata": {
        "id": "4vwEcxDpqxUH"
      }
    },
    {
      "cell_type": "markdown",
      "source": [
        "```\n",
        "List\n",
        "1. List is mutable data type.\n",
        "2. List using square bracket [ ].\n",
        "3. Storing data that can changed, added, removed.\n",
        "\n",
        "Tuple\n",
        "1. Tuple is immutable data type.\n",
        "2. Tuple using parentheses ( ).\n",
        "3. Storing data should not be changed.\n",
        "```"
      ],
      "metadata": {
        "id": "CSbkv8AFrHT0"
      }
    },
    {
      "cell_type": "markdown",
      "source": [
        "**14. How do you type a tuple value that only contains the integer 42?**"
      ],
      "metadata": {
        "id": "JLkLgzn_tXHh"
      }
    },
    {
      "cell_type": "code",
      "source": [
        "tuple_value = (42,)\n",
        "tuple_value"
      ],
      "metadata": {
        "colab": {
          "base_uri": "https://localhost:8080/"
        },
        "id": "mJKNSzPSoEP-",
        "outputId": "582a0b88-d31b-4815-e47f-cfd5d97f695a"
      },
      "execution_count": 29,
      "outputs": [
        {
          "output_type": "execute_result",
          "data": {
            "text/plain": [
              "(42,)"
            ]
          },
          "metadata": {},
          "execution_count": 29
        }
      ]
    },
    {
      "cell_type": "markdown",
      "source": [
        "**15. How do you get a list value&#39;s tuple form? How do you get a tuple value&#39;s list form?**"
      ],
      "metadata": {
        "id": "G1FHlN-QtwFg"
      }
    },
    {
      "cell_type": "code",
      "source": [
        "list_value = [2,3]\n",
        "tuple_value = tuple(list_value) #Changing List to Tuple\n",
        "print(tuple_value)\n",
        "type(tuple_value)"
      ],
      "metadata": {
        "colab": {
          "base_uri": "https://localhost:8080/"
        },
        "id": "TsQY_D_3tsP5",
        "outputId": "9f89168e-36d3-4ddc-cbba-4f3dce65b407"
      },
      "execution_count": 32,
      "outputs": [
        {
          "output_type": "stream",
          "name": "stdout",
          "text": [
            "(2, 3)\n"
          ]
        },
        {
          "output_type": "execute_result",
          "data": {
            "text/plain": [
              "tuple"
            ]
          },
          "metadata": {},
          "execution_count": 32
        }
      ]
    },
    {
      "cell_type": "code",
      "source": [
        "tuple_value = (3,4)\n",
        "list_value = list(tuple_value)\n",
        "print(list_value)\n",
        "type(list_value)"
      ],
      "metadata": {
        "colab": {
          "base_uri": "https://localhost:8080/"
        },
        "id": "5A-PZmbRuLSi",
        "outputId": "b05285f5-1d8e-4771-d80b-6dd8c73afd94"
      },
      "execution_count": 38,
      "outputs": [
        {
          "output_type": "stream",
          "name": "stdout",
          "text": [
            "[3, 4]\n"
          ]
        },
        {
          "output_type": "execute_result",
          "data": {
            "text/plain": [
              "list"
            ]
          },
          "metadata": {},
          "execution_count": 38
        }
      ]
    },
    {
      "cell_type": "markdown",
      "source": [
        "**16. Variables that &quot;contain&quot; list values are not necessarily lists themselves. Instead, what do they\n",
        "contain?**"
      ],
      "metadata": {
        "id": "GQxh4HNNvHh-"
      }
    },
    {
      "cell_type": "markdown",
      "source": [
        "```\n",
        "They contain refernces to lists.This means that the variable stored memory address of the list,not list actual data.\n",
        "```"
      ],
      "metadata": {
        "id": "UxvyXrzNvqu2"
      }
    },
    {
      "cell_type": "markdown",
      "source": [
        "**17. How do you distinguish between copy.copy() and copy.deepcopy()?**"
      ],
      "metadata": {
        "id": "7G3Bwldpwlb6"
      }
    },
    {
      "cell_type": "markdown",
      "source": [
        "```\n",
        "copy.copy()\n",
        "1. The copy.copy() function creates a shallow copy of an object.\n",
        "2. If the original object is changed, the copy will also be changed.\n",
        "\n",
        "copy.deepcopy()\n",
        "1. The copy.deepcopy() function creates a deep copy of an object.\n",
        "2. If the original object is changed, the copy will not be affected.\n",
        "```"
      ],
      "metadata": {
        "id": "GN4mb__7w6Jw"
      }
    }
  ]
}