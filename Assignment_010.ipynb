{
  "nbformat": 4,
  "nbformat_minor": 0,
  "metadata": {
    "colab": {
      "provenance": [],
      "authorship_tag": "ABX9TyO8JIcHa+jHE2/XO0XrZJpe",
      "include_colab_link": true
    },
    "kernelspec": {
      "name": "python3",
      "display_name": "Python 3"
    },
    "language_info": {
      "name": "python"
    }
  },
  "cells": [
    {
      "cell_type": "markdown",
      "metadata": {
        "id": "view-in-github",
        "colab_type": "text"
      },
      "source": [
        "<a href=\"https://colab.research.google.com/github/sushantsekhar1/python_assignment/blob/python_basic/Assignment_010.ipynb\" target=\"_parent\"><img src=\"https://colab.research.google.com/assets/colab-badge.svg\" alt=\"Open In Colab\"/></a>"
      ]
    },
    {
      "cell_type": "markdown",
      "source": [
        "# **PYTHON - 10**"
      ],
      "metadata": {
        "id": "M8xa4gJpKd9S"
      }
    },
    {
      "cell_type": "markdown",
      "source": [
        "**1. How do you distinguish between shutil.copy() and shutil.copytree()?**"
      ],
      "metadata": {
        "id": "KKE1V59RKl-V"
      }
    },
    {
      "cell_type": "markdown",
      "source": [
        "```\n",
        "shutil.copy : Copies a single file.\n",
        "shutil.copytree() : will copy an entire folder and every folder and file contained in it\n",
        "\n",
        "\n",
        "```"
      ],
      "metadata": {
        "id": "V4d_8dD9KuwL"
      }
    },
    {
      "cell_type": "markdown",
      "source": [
        "**2. What function is used to rename files??**"
      ],
      "metadata": {
        "id": "FWzKpCJfLBBC"
      }
    },
    {
      "cell_type": "markdown",
      "source": [
        "```\n",
        "import os\n",
        "os.rename(\"text.txt\",\"testnew.txt\")\n",
        "\n",
        "```"
      ],
      "metadata": {
        "id": "HwIipsCOLMGD"
      }
    },
    {
      "cell_type": "markdown",
      "source": [
        "**3. What is the difference between the delete functions in the send2trash and shutil modules?**"
      ],
      "metadata": {
        "id": "nFRlelSNLeYQ"
      }
    },
    {
      "cell_type": "markdown",
      "source": [
        "```\n",
        "import shutil\n",
        "shutil.retree(): The shutil module’s rmtree() function can be used to delete files or folders. But, this function delete the files permanently. The operations cannot be undone if there were any accidental deletions performed\n",
        "\n",
        " * import send2trash\n",
        "\n",
        " * send2trash.send2trash() : Using send2trash, we can send files to the Trash\n",
        "or Recycle Bin instead of permanently deleting them. If the directory contains files or other folders, those are also deleted. A TrashPermissionError exception is raised, in case a file could not be deleted due to permission error or any other unexpected reason.\n",
        "```"
      ],
      "metadata": {
        "id": "wbAIEIKoLX0U"
      }
    },
    {
      "cell_type": "markdown",
      "source": [
        "**4.ZipFile objects have a close() method just like File objects’ close() method. What ZipFile method is\n",
        "equivalent to File objects’ open() method?**"
      ],
      "metadata": {
        "id": "d6z7EjsOMaIT"
      }
    },
    {
      "cell_type": "markdown",
      "source": [
        "```\n",
        "\n",
        "The ZipFile method equivalent to File objects' open() method is ZipFile.open().\n",
        " The ZipFile.open() method takes two arguments:\n",
        " > The name of the file to open inside the ZIP file, and\n",
        " > The mode to open the file in.\n",
        "```"
      ],
      "metadata": {
        "id": "DHaXILZOgyUK"
      }
    },
    {
      "cell_type": "code",
      "source": [
        "import zipfile\n",
        "\n",
        "with zipfile.ZipFile(\"my_zipfile.zip\", \"r\") as zip_file:\n",
        "    with zip_file.open(\"my_file.txt\", \"r\") as my_file:\n",
        "        print(my_file.read())"
      ],
      "metadata": {
        "id": "XTlAizLDhZGT"
      },
      "execution_count": null,
      "outputs": []
    },
    {
      "cell_type": "markdown",
      "source": [
        "**5. Create a programme that searches a folder tree for files with a certain file extension (such as .pdf\n",
        "or .jpg). Copy these files from whatever location they are in to a new folder.**"
      ],
      "metadata": {
        "id": "uiENKFu1heql"
      }
    },
    {
      "cell_type": "code",
      "source": [
        "# Write a program that walks through a folder tree\n",
        "# and searches for files with a certain file extension (such as .pdf or .jpg).\n",
        "# Copy these files from whatever location they are in to a new folder.\n",
        "\n",
        "import os\n",
        "import shutil\n",
        "\n",
        "def copy_files_with_extension(source_folder, destination_folder, file_extension):\n",
        "    # Create the destination folder if it doesn't exist\n",
        "    if not os.path.exists(destination_folder):\n",
        "        os.makedirs(destination_folder)\n",
        "\n",
        "    # Recursively search through the source folder\n",
        "    for root, _, files in os.walk(source_folder):\n",
        "        for file in files:\n",
        "            if file.endswith(file_extension):\n",
        "                source_file_path = os.path.join(root, file)\n",
        "                destination_file_path = os.path.join(destination_folder, file)\n",
        "\n",
        "                # Copy the file to the destination folder\n",
        "                shutil.copy(source_file_path, destination_file_path)\n",
        "                print(f\"Copied: {source_file_path} -> {destination_file_path}\")\n",
        "\n",
        "if __name__ == \"__main__\":\n",
        "    source_folder = \"path/to/source/folder\"\n",
        "    destination_folder = \"path/to/destination/folder\"\n",
        "    file_extension = \".pdf\"  # Change this to the desired file extension\n",
        "\n",
        "    copy_files_with_extension(source_folder, destination_folder, file_extension)\n"
      ],
      "metadata": {
        "id": "IG42Z6fFj-lt"
      },
      "execution_count": null,
      "outputs": []
    }
  ]
}