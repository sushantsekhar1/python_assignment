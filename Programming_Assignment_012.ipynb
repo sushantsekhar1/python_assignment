{
  "nbformat": 4,
  "nbformat_minor": 0,
  "metadata": {
    "colab": {
      "provenance": [],
      "authorship_tag": "ABX9TyOu4fUhlJZvVWN+BTi4gjqr",
      "include_colab_link": true
    },
    "kernelspec": {
      "name": "python3",
      "display_name": "Python 3"
    },
    "language_info": {
      "name": "python"
    }
  },
  "cells": [
    {
      "cell_type": "markdown",
      "metadata": {
        "id": "view-in-github",
        "colab_type": "text"
      },
      "source": [
        "<a href=\"https://colab.research.google.com/github/sushantsekhar1/python_assignment/blob/python_assignment/Programming_Assignment_012.ipynb\" target=\"_parent\"><img src=\"https://colab.research.google.com/assets/colab-badge.svg\" alt=\"Open In Colab\"/></a>"
      ]
    },
    {
      "cell_type": "markdown",
      "source": [
        "**1. Write a Python program to Extract Unique values dictionary values?**"
      ],
      "metadata": {
        "id": "XC5aK5oXWzZN"
      }
    },
    {
      "cell_type": "code",
      "execution_count": 1,
      "metadata": {
        "colab": {
          "base_uri": "https://localhost:8080/"
        },
        "id": "eft3i1yVWkVi",
        "outputId": "06fdb07f-04fc-463d-b297-5a8097132ecb"
      },
      "outputs": [
        {
          "output_type": "stream",
          "name": "stdout",
          "text": [
            "{1, 2, 3}\n"
          ]
        }
      ],
      "source": [
        "def unique_values(dict):\n",
        "  unique_values = set()\n",
        "  for value in dict.values():\n",
        "    unique_values.add(value)\n",
        "  return unique_values\n",
        "\n",
        "dict = {'a': 1, 'b': 2, 'c': 3, 'd': 3}\n",
        "\n",
        "print(unique_values(dict))"
      ]
    },
    {
      "cell_type": "markdown",
      "source": [
        "**2. Write a Python program to find the sum of all items in a dictionary?**"
      ],
      "metadata": {
        "id": "sD9js25-YhEJ"
      }
    },
    {
      "cell_type": "code",
      "source": [
        "def sum_of_items(dict):\n",
        "  sum = 0\n",
        "  for key, value in dict.items():\n",
        "    sum += value\n",
        "  return sum\n",
        "\n",
        "dict = {'a': 1, 'b': 2, 'c': 3, 'd': 4}\n",
        "\n",
        "print(sum_of_items(dict))"
      ],
      "metadata": {
        "colab": {
          "base_uri": "https://localhost:8080/"
        },
        "id": "fwYAn2aRX38o",
        "outputId": "7abdbb30-7121-41d5-b824-d92de493323f"
      },
      "execution_count": 2,
      "outputs": [
        {
          "output_type": "stream",
          "name": "stdout",
          "text": [
            "10\n"
          ]
        }
      ]
    },
    {
      "cell_type": "markdown",
      "source": [
        "**3. Write a Python program to Merging two Dictionaries?**"
      ],
      "metadata": {
        "id": "rwdnd560jtuC"
      }
    },
    {
      "cell_type": "code",
      "source": [
        "def mer_dicts(dict1,dict2):\n",
        "  mer_dict = {**dict1,**dict2}\n",
        "  return mer_dict\n",
        "\n",
        "dict1 = {'a':1,'b':2,'c':3}\n",
        "dict2 = {'d':4,'e':5,'f':6}\n",
        "\n",
        "mer_dict = mer_dicts(dict1,dict2)\n",
        "print(mer_dict)"
      ],
      "metadata": {
        "colab": {
          "base_uri": "https://localhost:8080/"
        },
        "id": "4ERLpXw5jwbb",
        "outputId": "15d4b893-1413-42e0-99b9-73c101dcac29"
      },
      "execution_count": 13,
      "outputs": [
        {
          "output_type": "stream",
          "name": "stdout",
          "text": [
            "{'a': 1, 'b': 2, 'c': 3, 'd': 4, 'e': 5, 'f': 6}\n"
          ]
        }
      ]
    },
    {
      "cell_type": "markdown",
      "source": [
        "**4. Write a Python program to convert key-values list to flat dictionary?**"
      ],
      "metadata": {
        "id": "SxVK9CJumP5F"
      }
    },
    {
      "cell_type": "code",
      "source": [
        "def key_values_list_to_flat_dict(key_values_list):\n",
        "  flat_dict = {}\n",
        "  for key, value in key_values_list:\n",
        "    flat_dict[key] = value\n",
        "  return flat_dict\n",
        "\n",
        "key_values_list = [('c', 1), ('b', 2), ('a', 3)]\n",
        "\n",
        "flat_dict = key_values_list_to_flat_dict(key_values_list)\n",
        "\n",
        "print(flat_dict)"
      ],
      "metadata": {
        "colab": {
          "base_uri": "https://localhost:8080/"
        },
        "id": "58aUGC_6l2kT",
        "outputId": "cd0ea3a6-1614-4db1-c079-2eaff33e56be"
      },
      "execution_count": 15,
      "outputs": [
        {
          "output_type": "stream",
          "name": "stdout",
          "text": [
            "{'c': 1, 'b': 2, 'a': 3}\n"
          ]
        }
      ]
    },
    {
      "cell_type": "markdown",
      "source": [
        "**5. Write a Python program to insertion at the beginning in OrderedDict?**"
      ],
      "metadata": {
        "id": "x1eAp9wdm_KH"
      }
    },
    {
      "cell_type": "code",
      "source": [
        "from collections import OrderedDict\n",
        "\n",
        "orderdict = OrderedDict([('a', 1), ('b', 2), ('c', 3)])\n",
        "\n",
        "new_orderdict = OrderedDict()\n",
        "new_orderdict['d'] = 4\n",
        "new_orderdict.update(orderdict)\n",
        "\n",
        "print(new_orderdict)"
      ],
      "metadata": {
        "colab": {
          "base_uri": "https://localhost:8080/"
        },
        "id": "UV-GIyCmmy9v",
        "outputId": "c1e2c26b-d2fc-4cc0-e7dd-72d85cb7fe17"
      },
      "execution_count": 19,
      "outputs": [
        {
          "output_type": "stream",
          "name": "stdout",
          "text": [
            "OrderedDict([('d', 4), ('a', 1), ('b', 2), ('c', 3)])\n"
          ]
        }
      ]
    },
    {
      "cell_type": "markdown",
      "source": [
        "**6. Write a Python program to check order of character in string using OrderedDict()?**"
      ],
      "metadata": {
        "id": "3kpdW63wnn3y"
      }
    },
    {
      "cell_type": "code",
      "source": [
        "def check_order(string):\n",
        "  orderdict = OrderedDict.fromkeys(string)\n",
        "  for char, _ in orderdict.items():\n",
        "    if char != next(iter(orderdict)):\n",
        "      return False\n",
        "  return True\n",
        "\n",
        "string = \"hello\"\n",
        "\n",
        "print(check_order(string))\n"
      ],
      "metadata": {
        "colab": {
          "base_uri": "https://localhost:8080/"
        },
        "id": "VrfCrmwjnPD1",
        "outputId": "4cb389c0-e1dc-428f-cb4d-1e81996ae70f"
      },
      "execution_count": 20,
      "outputs": [
        {
          "output_type": "stream",
          "name": "stdout",
          "text": [
            "False\n"
          ]
        }
      ]
    },
    {
      "cell_type": "markdown",
      "source": [
        "**7. Write a Python program to sort Python Dictionaries by Key or Value?**"
      ],
      "metadata": {
        "id": "qHePs413n9a0"
      }
    },
    {
      "cell_type": "code",
      "source": [
        "def sort_dict_by_key(dict):\n",
        "  sorted_dict = sorted(dict.items(), key=lambda x: x[0])\n",
        "  return sorted_dict\n",
        "\n",
        "def sort_dict_by_value(dict):\n",
        "  sorted_dict = sorted(dict.items(), key=lambda x: x[1])\n",
        "  return sorted_dict\n",
        "\n",
        "dict = {'a': 1, 'b': 2, 'c': 3}\n",
        "\n",
        "print(sort_dict_by_key(dict))\n",
        "print(sort_dict_by_value(dict))\n"
      ],
      "metadata": {
        "colab": {
          "base_uri": "https://localhost:8080/"
        },
        "id": "qS5XaG4Sn5uB",
        "outputId": "2bb1198e-55a2-4b56-c96d-84bb7bfb5afc"
      },
      "execution_count": 22,
      "outputs": [
        {
          "output_type": "stream",
          "name": "stdout",
          "text": [
            "[('a', 1), ('b', 2), ('c', 3)]\n",
            "[('a', 1), ('b', 2), ('c', 3)]\n"
          ]
        }
      ]
    }
  ]
}