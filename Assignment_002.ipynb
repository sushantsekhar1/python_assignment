{
  "nbformat": 4,
  "nbformat_minor": 0,
  "metadata": {
    "colab": {
      "provenance": [],
      "authorship_tag": "ABX9TyNsa5uvQq7TrB+9pTzXdRb+",
      "include_colab_link": true
    },
    "kernelspec": {
      "name": "python3",
      "display_name": "Python 3"
    },
    "language_info": {
      "name": "python"
    }
  },
  "cells": [
    {
      "cell_type": "markdown",
      "metadata": {
        "id": "view-in-github",
        "colab_type": "text"
      },
      "source": [
        "<a href=\"https://colab.research.google.com/github/sushantsekhar1/python_assignment/blob/python_basic/Assignment_002.ipynb\" target=\"_parent\"><img src=\"https://colab.research.google.com/assets/colab-badge.svg\" alt=\"Open In Colab\"/></a>"
      ]
    },
    {
      "cell_type": "markdown",
      "source": [
        "```\n",
        "1.What are the two values of the Boolean data type? How do you write them?\n",
        "```"
      ],
      "metadata": {
        "id": "PubOO15pumFl"
      }
    },
    {
      "cell_type": "markdown",
      "source": [
        "```\n",
        "In Python, there are two value of boolean data type, which represents one of the two values i.e. True or False.\n",
        "\n",
        "It is generally represent Truth Value of the expression.\n",
        "\n",
        "Example: if 1 == 1 it give True Value whereas 2 < 1 it gives False Value.\n",
        "```"
      ],
      "metadata": {
        "id": "5unS4ONkvVCV"
      }
    },
    {
      "cell_type": "code",
      "source": [
        "a  = True\n",
        "print(type(a))\n",
        "\n",
        "b = False\n",
        "print(type(b))"
      ],
      "metadata": {
        "colab": {
          "base_uri": "https://localhost:8080/"
        },
        "id": "YozrADJjxC4c",
        "outputId": "99f5157a-2651-4e90-d051-764dc58aa3be"
      },
      "execution_count": 2,
      "outputs": [
        {
          "output_type": "stream",
          "name": "stdout",
          "text": [
            "<class 'bool'>\n",
            "<class 'bool'>\n"
          ]
        }
      ]
    },
    {
      "cell_type": "code",
      "execution_count": 4,
      "metadata": {
        "colab": {
          "base_uri": "https://localhost:8080/"
        },
        "id": "iOMRA2Ytue9y",
        "outputId": "43d82373-ecae-45fa-bda2-243ade5a1e69"
      },
      "outputs": [
        {
          "output_type": "stream",
          "name": "stdout",
          "text": [
            "False\n"
          ]
        }
      ],
      "source": [
        "a = 4\n",
        "b = 5\n",
        "\n",
        "print(a == b)"
      ]
    },
    {
      "cell_type": "code",
      "source": [],
      "metadata": {
        "id": "XFhCzRvWyOaS"
      },
      "execution_count": null,
      "outputs": []
    },
    {
      "cell_type": "code",
      "source": [
        "a = 5\n",
        "b = 5\n",
        "\n",
        "print(a == b)"
      ],
      "metadata": {
        "colab": {
          "base_uri": "https://localhost:8080/"
        },
        "id": "TpEYTDBbyUwn",
        "outputId": "fc3e7b42-36ca-4331-bbf8-eb2ec6f619ad"
      },
      "execution_count": 5,
      "outputs": [
        {
          "output_type": "stream",
          "name": "stdout",
          "text": [
            "True\n"
          ]
        }
      ]
    },
    {
      "cell_type": "markdown",
      "source": [
        "```\n",
        "2. What are the three different types of Boolean operators?\n",
        "```"
      ],
      "metadata": {
        "id": "juAL7miMylPp"
      }
    },
    {
      "cell_type": "markdown",
      "source": [
        "```\n",
        "There are three different types of boolean operator are\n",
        "\n",
        "1. AND\n",
        "2. OR\n",
        "3. NOT\n",
        "\n",
        "Boolean Operator return two Value i.e. True and False.\n",
        "```"
      ],
      "metadata": {
        "id": "a6Z910vPzlXd"
      }
    },
    {
      "cell_type": "markdown",
      "source": [
        "```\n",
        "3. Make a list of each Boolean operator's truth tables (i.e. every possible combination of Boolean\n",
        "values for the operator and what it evaluate ).\n",
        "```"
      ],
      "metadata": {
        "id": "Pyd9difu0i6B"
      }
    },
    {
      "cell_type": "markdown",
      "source": [
        "Truth Table Of AND\n",
        "\n",
        "A | B | Output\n",
        "- | - | -\n",
        "True | True | True\n",
        "True | False | False\n",
        "False | True | False\n",
        "False | False | False\n",
        "\n",
        "Truth Table Of OR\n",
        "\n",
        "A | B | Output\n",
        "- | - | -\n",
        "True | True | True\n",
        "True | False | True\n",
        "False | True | True\n",
        "False | False | False\n",
        "\n",
        "Truth Table Of NOT\n",
        "\n",
        "A | Output\n",
        "- | -\n",
        "True | False\n",
        "False | True\n",
        "\n"
      ],
      "metadata": {
        "id": "1ItHUxMg3vZx"
      }
    },
    {
      "cell_type": "markdown",
      "source": [
        "```\n",
        "4. What are the values of the following expressions?\n",
        "\n",
        "(5 > 4) and (3 == 5)\n",
        "not (5 > 4)\n",
        "(5 > 4) or (3 == 5)\n",
        "not ((5 > 4) or (3 == 5))\n",
        "(True and True) and (True == False)\n",
        "(not False) or (not True)\n",
        "```"
      ],
      "metadata": {
        "id": "5Y6fR0gQ8TW_"
      }
    },
    {
      "cell_type": "code",
      "source": [
        "print(5 > 4) and (3 == 5)\n",
        "print(not (5 > 4))\n",
        "print((5 > 4) or (3 == 5))\n",
        "print( not ((5 > 4) or (3 == 5)))\n",
        "print((True and True) and (True == False))\n",
        "print((not False) or (not True))"
      ],
      "metadata": {
        "colab": {
          "base_uri": "https://localhost:8080/"
        },
        "id": "97nXNZYY8WYD",
        "outputId": "6545d37d-480b-4ffe-95a5-7c9c5ba0a546"
      },
      "execution_count": 11,
      "outputs": [
        {
          "output_type": "stream",
          "name": "stdout",
          "text": [
            "True\n",
            "False\n",
            "True\n",
            "False\n",
            "False\n",
            "True\n"
          ]
        }
      ]
    },
    {
      "cell_type": "markdown",
      "source": [
        "```\n",
        "5. What are the six comparison operators?\n",
        "```"
      ],
      "metadata": {
        "id": "96yKAnXo6H3l"
      }
    },
    {
      "cell_type": "markdown",
      "source": [
        "```\n",
        "There are Six Comparision Operators\n",
        "\n",
        "1. ==  -> equal to\n",
        "2. !=  -> not equal to\n",
        "3. >=  -> greater equal to\n",
        "4. <=  -> less equal to\n",
        "5. >   -> greater than\n",
        "6. <   -> less than\n",
        "```"
      ],
      "metadata": {
        "id": "oup3aAQO-83S"
      }
    },
    {
      "cell_type": "markdown",
      "source": [
        "```\n",
        "6. How do you tell the difference between the equal to and assignment operators?Describe a\n",
        "condition and when you would use one.\n",
        "```"
      ],
      "metadata": {
        "id": "vVJg9JR_CY6b"
      }
    },
    {
      "cell_type": "markdown",
      "source": [
        "```\n",
        "== is used to compare two values and evaluate to a boolean value.\n",
        "\n",
        "= is a assignment operator that is used to store a value in a variable.\n",
        "```"
      ],
      "metadata": {
        "id": "qezQm3PTCpiF"
      }
    },
    {
      "cell_type": "code",
      "source": [
        "# Equal to operator \n",
        "\n",
        "if (2 == 3):\n",
        "  print(\"True\")\n",
        "else:\n",
        "  print(\"False\")  "
      ],
      "metadata": {
        "colab": {
          "base_uri": "https://localhost:8080/"
        },
        "id": "3dOobxY8ycs2",
        "outputId": "b1da8d91-b6db-490a-c65a-711d9e8437a3"
      },
      "execution_count": 2,
      "outputs": [
        {
          "output_type": "stream",
          "name": "stdout",
          "text": [
            "False\n"
          ]
        }
      ]
    },
    {
      "cell_type": "code",
      "source": [
        "# Assignment Operator\n",
        "\n",
        "# Here we used assignment operator to assign the value in a which is 2.\n",
        "\n",
        "A = 2\n",
        "print(f\"A = {A}\")"
      ],
      "metadata": {
        "colab": {
          "base_uri": "https://localhost:8080/"
        },
        "id": "_exBZmEZD5N8",
        "outputId": "c0f353cd-1d1e-4fc9-ce62-e092075fcdda"
      },
      "execution_count": 3,
      "outputs": [
        {
          "output_type": "stream",
          "name": "stdout",
          "text": [
            "A = 2\n"
          ]
        }
      ]
    },
    {
      "cell_type": "markdown",
      "source": [
        "```\n",
        "7. Identify the three blocks in this code:\n",
        "spam = 0\n",
        "if spam == 10:\n",
        "print('egg')\n",
        "if spam > 5:\n",
        "print('bacon'):\n",
        "else:\n",
        "print('ham')\n",
        "print('spam')\n",
        "print('spam')\n",
        "```"
      ],
      "metadata": {
        "id": "TCsTDQVCEtCv"
      }
    },
    {
      "cell_type": "code",
      "source": [
        "spam = 0\n",
        "if spam == 10:\n",
        "  print('egg')\n",
        "if spam > 5:\n",
        "  print('bacon')\n",
        "else:\n",
        "  print('ham')\n",
        "  print('spam')\n",
        "  print('spam')    \n"
      ],
      "metadata": {
        "colab": {
          "base_uri": "https://localhost:8080/"
        },
        "id": "lS3shFjhEoZZ",
        "outputId": "7bc6acfa-2c75-42d4-bcfc-e5a9e94fd2c1"
      },
      "execution_count": 5,
      "outputs": [
        {
          "output_type": "stream",
          "name": "stdout",
          "text": [
            "ham\n",
            "spam\n",
            "spam\n"
          ]
        }
      ]
    },
    {
      "cell_type": "markdown",
      "source": [
        "```\n",
        "8. Write code that prints Hello if 1 is stored in spam, prints Howdy if 2 is stored in spam, and prints\n",
        "Greetings! if anything else is stored in spam.\n",
        "```"
      ],
      "metadata": {
        "id": "BiZf1P_bGG1y"
      }
    },
    {
      "cell_type": "code",
      "source": [
        "# Taking input through user\n",
        "spam = int(input(\"Enter the number:\"))\n",
        "\n",
        "# Checking Condition\n",
        "if spam == 1:\n",
        "  print(\"Hello\")\n",
        "elif spam == 2:\n",
        "  print(\"Howdy\")\n",
        "else:\n",
        "  print(\"Greetings!\")    "
      ],
      "metadata": {
        "colab": {
          "base_uri": "https://localhost:8080/"
        },
        "id": "besOPFJwGBPH",
        "outputId": "e9440e16-9208-438f-c187-58bf6d0d5307"
      },
      "execution_count": 8,
      "outputs": [
        {
          "output_type": "stream",
          "name": "stdout",
          "text": [
            "Enter the number:4\n",
            "Greetings!\n"
          ]
        }
      ]
    },
    {
      "cell_type": "code",
      "source": [],
      "metadata": {
        "id": "uykptMQ2G7Lu"
      },
      "execution_count": null,
      "outputs": []
    },
    {
      "cell_type": "markdown",
      "source": [
        "```\n",
        "9.If your programme is stuck in an endless loop, what keys you’ll press?\n",
        "```"
      ],
      "metadata": {
        "id": "EJ5N50FVHOSw"
      }
    },
    {
      "cell_type": "markdown",
      "source": [
        "```\n",
        "If program is stuck in aendless loop then we press CTRL + C\n",
        "```"
      ],
      "metadata": {
        "id": "hw-yJ588Hhzv"
      }
    },
    {
      "cell_type": "markdown",
      "source": [
        "```\n",
        "10. How can you tell the difference between break and continue?\n",
        "```"
      ],
      "metadata": {
        "id": "S7JbvSUEHziA"
      }
    },
    {
      "cell_type": "markdown",
      "source": [
        "```\n",
        "The break statement is used to terminate the loop or statement in which it is present.\n",
        "```"
      ],
      "metadata": {
        "id": "ofq49HvSIXOg"
      }
    },
    {
      "cell_type": "code",
      "source": [
        " # Break statement\n",
        "for i in range(10):\n",
        "  if i == 8:\n",
        "    break\n",
        "  print(i)"
      ],
      "metadata": {
        "colab": {
          "base_uri": "https://localhost:8080/"
        },
        "id": "UFhUqafbHRFv",
        "outputId": "a583f72c-66f6-4584-9833-b521c22c06eb"
      },
      "execution_count": 11,
      "outputs": [
        {
          "output_type": "stream",
          "name": "stdout",
          "text": [
            "0\n",
            "1\n",
            "2\n",
            "3\n",
            "4\n",
            "5\n",
            "6\n",
            "7\n"
          ]
        }
      ]
    },
    {
      "cell_type": "markdown",
      "source": [
        "```\n",
        "Continue statement is opposite to the break statement.it forces to execute the next iteration of the loop.\n",
        "```"
      ],
      "metadata": {
        "id": "O8k8kFrtZDme"
      }
    },
    {
      "cell_type": "code",
      "source": [
        "# Continue Statement\n",
        "for i in range(10):\n",
        "  if i == 8:\n",
        "    continue\n",
        "  print(i)  "
      ],
      "metadata": {
        "colab": {
          "base_uri": "https://localhost:8080/"
        },
        "id": "9rFt2rZmZDPG",
        "outputId": "2c2872f7-786a-4261-bcd1-43ab715fc85d"
      },
      "execution_count": 12,
      "outputs": [
        {
          "output_type": "stream",
          "name": "stdout",
          "text": [
            "0\n",
            "1\n",
            "2\n",
            "3\n",
            "4\n",
            "5\n",
            "6\n",
            "7\n",
            "9\n"
          ]
        }
      ]
    },
    {
      "cell_type": "markdown",
      "source": [
        "```\n",
        "11. In a for loop, what is the difference between range(10), range(0, 10), and range(0, 10, 1)?\n",
        "```"
      ],
      "metadata": {
        "id": "BySBMQdDZ3Op"
      }
    },
    {
      "cell_type": "code",
      "source": [
        "for i in range(10):\n",
        "  print(i)\n",
        "print(\"************************************\")\n",
        "for i in range(0,10):\n",
        "  print(i)\n",
        "print(\"************************************\") \n",
        "for i in range(0, 10, 1):\n",
        "  print(i)\n",
        "print(\"************************************\")   "
      ],
      "metadata": {
        "colab": {
          "base_uri": "https://localhost:8080/"
        },
        "id": "VmMHjrljY00H",
        "outputId": "47fdfb84-5df0-4bfb-e3c4-1c6003cbb065"
      },
      "execution_count": 14,
      "outputs": [
        {
          "output_type": "stream",
          "name": "stdout",
          "text": [
            "0\n",
            "1\n",
            "2\n",
            "3\n",
            "4\n",
            "5\n",
            "6\n",
            "7\n",
            "8\n",
            "9\n",
            "************************************\n",
            "0\n",
            "1\n",
            "2\n",
            "3\n",
            "4\n",
            "5\n",
            "6\n",
            "7\n",
            "8\n",
            "9\n",
            "************************************\n",
            "0\n",
            "1\n",
            "2\n",
            "3\n",
            "4\n",
            "5\n",
            "6\n",
            "7\n",
            "8\n",
            "9\n",
            "************************************\n"
          ]
        }
      ]
    },
    {
      "cell_type": "markdown",
      "source": [
        "```\n",
        "From above output, we can conclude all they do same thing .\n",
        "\n",
        "In range(10) it start with 0 to 9 (not including 10).\n",
        "In range (0, 10) tell the loop start with 0 and end with 9 (not including 10)\n",
        "In range (0, 10, 1) tells the loop to increase the variable by 1 on each iteration.\n",
        "```"
      ],
      "metadata": {
        "id": "yucuN17ObQUo"
      }
    },
    {
      "cell_type": "markdown",
      "source": [
        "```\n",
        "12. Write a short program that prints the numbers 1 to 10 using a for loop. Then write an equivalent\n",
        "program that prints the numbers 1 to 10 using a while loop.\n",
        "```"
      ],
      "metadata": {
        "id": "gVCeRTHwcw2c"
      }
    },
    {
      "cell_type": "code",
      "source": [
        "# Using For Loop\n",
        "for i in range(1, 11):\n",
        "  print(i)"
      ],
      "metadata": {
        "colab": {
          "base_uri": "https://localhost:8080/"
        },
        "id": "_aTsDZl2bGDU",
        "outputId": "ecb0ff18-3802-4266-a692-8c73c04ef8a5"
      },
      "execution_count": 16,
      "outputs": [
        {
          "output_type": "stream",
          "name": "stdout",
          "text": [
            "1\n",
            "2\n",
            "3\n",
            "4\n",
            "5\n",
            "6\n",
            "7\n",
            "8\n",
            "9\n",
            "10\n"
          ]
        }
      ]
    },
    {
      "cell_type": "code",
      "source": [
        "# Using While Loop\n",
        "a = 1\n",
        "while a <= 10:\n",
        "  print(a)\n",
        "  a += 1"
      ],
      "metadata": {
        "colab": {
          "base_uri": "https://localhost:8080/"
        },
        "id": "j1UxEEjjdEqc",
        "outputId": "2b2e6922-cb09-4652-c8c1-9e5fb758ca46"
      },
      "execution_count": 20,
      "outputs": [
        {
          "output_type": "stream",
          "name": "stdout",
          "text": [
            "1\n",
            "2\n",
            "3\n",
            "4\n",
            "5\n",
            "6\n",
            "7\n",
            "8\n",
            "9\n",
            "10\n"
          ]
        }
      ]
    },
    {
      "cell_type": "markdown",
      "source": [
        "```\n",
        "13. If you had a function named bacon() inside a module named spam, how would you call it after\n",
        "importing spam?\n",
        "```"
      ],
      "metadata": {
        "id": "9tUZ_fhrd1qV"
      }
    },
    {
      "cell_type": "markdown",
      "source": [
        "```\n",
        "This function can be called with spam.bacon().\n",
        "```"
      ],
      "metadata": {
        "id": "rDc0kxFOeRX8"
      }
    },
    {
      "cell_type": "code",
      "source": [],
      "metadata": {
        "id": "upK-qOi2dcsH"
      },
      "execution_count": null,
      "outputs": []
    }
  ]
}