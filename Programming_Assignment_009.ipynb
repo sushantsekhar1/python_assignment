{
  "nbformat": 4,
  "nbformat_minor": 0,
  "metadata": {
    "colab": {
      "provenance": [],
      "authorship_tag": "ABX9TyMhZNbQ7PR1q3nvfxTnKS3r",
      "include_colab_link": true
    },
    "kernelspec": {
      "name": "python3",
      "display_name": "Python 3"
    },
    "language_info": {
      "name": "python"
    }
  },
  "cells": [
    {
      "cell_type": "markdown",
      "metadata": {
        "id": "view-in-github",
        "colab_type": "text"
      },
      "source": [
        "<a href=\"https://colab.research.google.com/github/sushantsekhar1/python_assignment/blob/python_assignment/Programming_Assignment_009.ipynb\" target=\"_parent\"><img src=\"https://colab.research.google.com/assets/colab-badge.svg\" alt=\"Open In Colab\"/></a>"
      ]
    },
    {
      "cell_type": "markdown",
      "source": [
        "**1. Write a Python program to check if the given number is a Disarium Number?**"
      ],
      "metadata": {
        "id": "6Iyg7DICEUjs"
      }
    },
    {
      "cell_type": "code",
      "execution_count": 4,
      "metadata": {
        "colab": {
          "base_uri": "https://localhost:8080/"
        },
        "id": "Qa0Gr7-XERF7",
        "outputId": "2c500621-e739-4db0-aed0-75d7a164c036"
      },
      "outputs": [
        {
          "output_type": "stream",
          "name": "stdout",
          "text": [
            "Enter the Number to check is Disarium Number: 518\n",
            "It is Diisarium Number: True\n"
          ]
        }
      ],
      "source": [
        "def is_disarium(num):\n",
        "  temp = 0\n",
        "  for i in range(len(str(num))):\n",
        "    temp += int(str(num)[i])**(i+1)\n",
        "  return temp == num\n",
        "\n",
        "num = int(input(\"Enter the Number to check is Disarium Number: \"))\n",
        "print(f\"It is Diisarium Number: {is_disarium(num)}\")\n"
      ]
    },
    {
      "cell_type": "markdown",
      "source": [
        "**2. Write a Python program to print all disarium numbers between 1 to 100?**"
      ],
      "metadata": {
        "id": "4bNKQVjJDNii"
      }
    },
    {
      "cell_type": "code",
      "source": [
        "def is_disarium(num):\n",
        "  temp = 0\n",
        "  for i in range(len(str(num))):\n",
        "    temp += int(str(num)[i])**(i+1)\n",
        "  return temp\n",
        "\n",
        "result = 0\n",
        "print(\"Disarium Number between 1 - 100:\")\n",
        "for num in range(1,101):\n",
        "   result = is_disarium(num)\n",
        "   if result == num:\n",
        "    print(num)"
      ],
      "metadata": {
        "colab": {
          "base_uri": "https://localhost:8080/"
        },
        "id": "LIa5oUTSCoeW",
        "outputId": "e1d8a45b-5f6a-46e5-bc52-670e3159ce36"
      },
      "execution_count": 15,
      "outputs": [
        {
          "output_type": "stream",
          "name": "stdout",
          "text": [
            "Disarium Number between 1 - 100:\n",
            "1\n",
            "2\n",
            "3\n",
            "4\n",
            "5\n",
            "6\n",
            "7\n",
            "8\n",
            "9\n",
            "89\n"
          ]
        }
      ]
    },
    {
      "cell_type": "markdown",
      "source": [
        "**3. Write a Python program to check if the given number is Happy Number?**"
      ],
      "metadata": {
        "id": "qrUf06gjGBJx"
      }
    },
    {
      "cell_type": "code",
      "source": [
        "def is_happy_num(n):\n",
        "  past = set()\n",
        "  while n != 1:\n",
        "    n = sum(int(i)**2 for i in (str(n)))\n",
        "    if n in past:\n",
        "      return False\n",
        "    past.add(n)\n",
        "  return True\n",
        "\n",
        "n = int(input(\"Enter the Happy Number to be Check: \"))\n",
        "print(f\"{n} is a Happy Number: {is_happy_num(n)}\")"
      ],
      "metadata": {
        "colab": {
          "base_uri": "https://localhost:8080/"
        },
        "id": "zadrYUMFDiDU",
        "outputId": "a925f500-f3de-4928-b1a1-f156a66b927c"
      },
      "execution_count": 1,
      "outputs": [
        {
          "output_type": "stream",
          "name": "stdout",
          "text": [
            "Enter the Happy Number to be Check: 32\n",
            "32 is a Happy Number: True\n"
          ]
        }
      ]
    },
    {
      "cell_type": "markdown",
      "source": [
        "**4. Write a Python program to print all happy numbers between 1 and 100?**"
      ],
      "metadata": {
        "id": "lhKI2Ey6I50j"
      }
    },
    {
      "cell_type": "code",
      "source": [
        "def is_happy_num(n):\n",
        "  past = set()\n",
        "  while n != 1:\n",
        "    n = sum(int(i)**2 for i in (str(n)))\n",
        "    if n in past:\n",
        "      return False\n",
        "    past.add(n)\n",
        "  return True\n",
        "print(\"The Happy Number :\")\n",
        "print([x for x in range(100) if is_happy_num(x)][:])"
      ],
      "metadata": {
        "colab": {
          "base_uri": "https://localhost:8080/"
        },
        "id": "_0Z47seuItrm",
        "outputId": "65130518-9d7d-497f-f972-536c4fc2aa30"
      },
      "execution_count": 7,
      "outputs": [
        {
          "output_type": "stream",
          "name": "stdout",
          "text": [
            "The Happy Number :\n",
            "[1, 7, 10, 13, 19, 23, 28, 31, 32, 44, 49, 68, 70, 79, 82, 86, 91, 94, 97]\n"
          ]
        }
      ]
    },
    {
      "cell_type": "markdown",
      "source": [
        "**5. Write a Python program to determine whether the given number is a Harshad Number?**"
      ],
      "metadata": {
        "id": "JR_JzSfmZaq_"
      }
    },
    {
      "cell_type": "code",
      "source": [
        "# To Check Harshard Number\n",
        "rem = sum = 0\n",
        "n = num\n",
        "while(num > 0):\n",
        "  rem = num % 10\n",
        "  sum += rem\n",
        "  num //= 10\n",
        "\n",
        "num = int(input(\"Enter the Harshad Number: \"))\n",
        "if (n % sum == 0):\n",
        "  print(f\"{num} is a Harshard Number\")\n",
        "else:\n",
        "  print(f\"{num} is not a harshard Number\")"
      ],
      "metadata": {
        "colab": {
          "base_uri": "https://localhost:8080/"
        },
        "id": "x3nKJaBdJjtJ",
        "outputId": "6f2fe10f-ede2-4a6c-90a6-4210238b15bf"
      },
      "execution_count": 20,
      "outputs": [
        {
          "output_type": "stream",
          "name": "stdout",
          "text": [
            "Enter the Harshad Number: 156\n",
            "156 is a Harshard Number\n"
          ]
        }
      ]
    },
    {
      "cell_type": "markdown",
      "source": [
        "**6. Write a Python program to print all pronic numbers between 1 and 100?**"
      ],
      "metadata": {
        "id": "EL4hwH5zeROi"
      }
    },
    {
      "cell_type": "code",
      "source": [
        "def is_pronic(num):\n",
        "  for j in range(1, num+1):\n",
        "    if(j*(j+1) == num):\n",
        "      return True\n",
        "      break\n",
        "  return False\n",
        "\n",
        "print(\"Printing Pronic Number 1-100:\")\n",
        "for i in range(1, 101):\n",
        "  if(is_pronic(i)):\n",
        "    print(i)"
      ],
      "metadata": {
        "colab": {
          "base_uri": "https://localhost:8080/"
        },
        "id": "PtSb0diyavrg",
        "outputId": "008a53c0-16b6-450f-cfbd-bea7b5f95d72"
      },
      "execution_count": 34,
      "outputs": [
        {
          "output_type": "stream",
          "name": "stdout",
          "text": [
            "Printing Pronic Number 1-100:\n",
            "2\n",
            "6\n",
            "12\n",
            "20\n",
            "30\n",
            "42\n",
            "56\n",
            "72\n",
            "90\n"
          ]
        }
      ]
    }
  ]
}