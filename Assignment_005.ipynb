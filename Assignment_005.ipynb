{
  "nbformat": 4,
  "nbformat_minor": 0,
  "metadata": {
    "colab": {
      "provenance": [],
      "authorship_tag": "ABX9TyOJpoeeuwSDEOsAikgScR0g",
      "include_colab_link": true
    },
    "kernelspec": {
      "name": "python3",
      "display_name": "Python 3"
    },
    "language_info": {
      "name": "python"
    }
  },
  "cells": [
    {
      "cell_type": "markdown",
      "metadata": {
        "id": "view-in-github",
        "colab_type": "text"
      },
      "source": [
        "<a href=\"https://colab.research.google.com/github/sushantsekhar1/python_assignment/blob/python_basic/Assignment_005.ipynb\" target=\"_parent\"><img src=\"https://colab.research.google.com/assets/colab-badge.svg\" alt=\"Open In Colab\"/></a>"
      ]
    },
    {
      "cell_type": "markdown",
      "source": [
        "# **PYTHON - 5**"
      ],
      "metadata": {
        "id": "5BSBvDhIt-3m"
      }
    },
    {
      "cell_type": "markdown",
      "source": [
        "**1. What does an empty dictionary's code look like?**"
      ],
      "metadata": {
        "id": "l-LMhrqBuj0b"
      }
    },
    {
      "cell_type": "code",
      "execution_count": 1,
      "metadata": {
        "colab": {
          "base_uri": "https://localhost:8080/"
        },
        "id": "-iRT64-ptvhJ",
        "outputId": "fecca296-2707-4fcb-b9b3-0937e01a2dfd"
      },
      "outputs": [
        {
          "output_type": "execute_result",
          "data": {
            "text/plain": [
              "dict"
            ]
          },
          "metadata": {},
          "execution_count": 1
        }
      ],
      "source": [
        "dict = {}\n",
        "type(dict)"
      ]
    },
    {
      "cell_type": "markdown",
      "source": [
        "**2. What is the value of a dictionary value with the key 'foo' and the value 42?**"
      ],
      "metadata": {
        "id": "3UE5IIMiu59B"
      }
    },
    {
      "cell_type": "code",
      "source": [
        "{f'foo':42}"
      ],
      "metadata": {
        "colab": {
          "base_uri": "https://localhost:8080/"
        },
        "id": "zLVR0SMzuxz6",
        "outputId": "5eaa5818-f720-48d0-e24a-bd3b3670e96d"
      },
      "execution_count": 2,
      "outputs": [
        {
          "output_type": "execute_result",
          "data": {
            "text/plain": [
              "{'foo': 42}"
            ]
          },
          "metadata": {},
          "execution_count": 2
        }
      ]
    },
    {
      "cell_type": "markdown",
      "source": [
        "**3. What is the most significant distinction between a dictionary and a list?**"
      ],
      "metadata": {
        "id": "tX2UAjMRviw3"
      }
    },
    {
      "cell_type": "markdown",
      "source": [
        "```\n",
        "Most Significant Difference in List and Dictionary:\n",
        "\n",
        "In List store data in sequential order.\n",
        "In Dictionary store data in key-value pairs.\n",
        "```"
      ],
      "metadata": {
        "id": "jrg_iks8v4DT"
      }
    },
    {
      "cell_type": "markdown",
      "source": [
        "**4. What happens if you try to access spam[foo'] if spam is {'bar':100}?**"
      ],
      "metadata": {
        "id": "SV0NxAD0xO39"
      }
    },
    {
      "cell_type": "code",
      "source": [
        "spam = {'bar':100}\n",
        "spam['foo']\n",
        "# It gives us keyvalue error"
      ],
      "metadata": {
        "colab": {
          "base_uri": "https://localhost:8080/",
          "height": 187
        },
        "id": "m5P6J_2avceP",
        "outputId": "a3e3c39f-e1ce-4ed0-f146-a8c59d603fad"
      },
      "execution_count": 3,
      "outputs": [
        {
          "output_type": "error",
          "ename": "KeyError",
          "evalue": "ignored",
          "traceback": [
            "\u001b[0;31m---------------------------------------------------------------------------\u001b[0m",
            "\u001b[0;31mKeyError\u001b[0m                                  Traceback (most recent call last)",
            "\u001b[0;32m<ipython-input-3-cea1cd791e68>\u001b[0m in \u001b[0;36m<cell line: 2>\u001b[0;34m()\u001b[0m\n\u001b[1;32m      1\u001b[0m \u001b[0mspam\u001b[0m \u001b[0;34m=\u001b[0m \u001b[0;34m{\u001b[0m\u001b[0;34m'bar'\u001b[0m\u001b[0;34m:\u001b[0m\u001b[0;36m100\u001b[0m\u001b[0;34m}\u001b[0m\u001b[0;34m\u001b[0m\u001b[0;34m\u001b[0m\u001b[0m\n\u001b[0;32m----> 2\u001b[0;31m \u001b[0mspam\u001b[0m\u001b[0;34m[\u001b[0m\u001b[0;34m'foo'\u001b[0m\u001b[0;34m]\u001b[0m\u001b[0;34m\u001b[0m\u001b[0;34m\u001b[0m\u001b[0m\n\u001b[0m",
            "\u001b[0;31mKeyError\u001b[0m: 'foo'"
          ]
        }
      ]
    },
    {
      "cell_type": "markdown",
      "source": [
        "**5. If a dictionary is stored in spam, what is the difference between the expressions 'cat' in spam and 'cat' in spam.keys()?**"
      ],
      "metadata": {
        "id": "J_Nw8jyFyTMI"
      }
    },
    {
      "cell_type": "markdown",
      "source": [
        "```\n",
        "There is no difference in 'cat' in spam and 'cat' in spam.keys(), both tells\n",
        "'cat' is key in the dictionary and if its a key, returns True.\n",
        "```\n"
      ],
      "metadata": {
        "id": "rYQsG58RzYAX"
      }
    },
    {
      "cell_type": "code",
      "source": [
        "spam = {'cat':100}\n",
        "'cat' in spam"
      ],
      "metadata": {
        "colab": {
          "base_uri": "https://localhost:8080/"
        },
        "id": "sy3PX9ijyIjn",
        "outputId": "10160edd-89fd-4c7b-84cd-d0b99b899f85"
      },
      "execution_count": 5,
      "outputs": [
        {
          "output_type": "execute_result",
          "data": {
            "text/plain": [
              "True"
            ]
          },
          "metadata": {},
          "execution_count": 5
        }
      ]
    },
    {
      "cell_type": "code",
      "source": [
        "spam = {'cat':100}\n",
        "'cat' in spam.keys()"
      ],
      "metadata": {
        "colab": {
          "base_uri": "https://localhost:8080/"
        },
        "id": "iDT5uF9ZzBSW",
        "outputId": "7c243ad2-9f9a-41dc-f2b4-24f02ca58b47"
      },
      "execution_count": 6,
      "outputs": [
        {
          "output_type": "execute_result",
          "data": {
            "text/plain": [
              "True"
            ]
          },
          "metadata": {},
          "execution_count": 6
        }
      ]
    },
    {
      "cell_type": "markdown",
      "source": [
        "**5. If a dictionary is stored in spam, what is the difference between the expressions 'cat' in spam and 'cat' in spam.values()?**\n",
        "\n"
      ],
      "metadata": {
        "id": "SJ2NrLXa0N8r"
      }
    },
    {
      "cell_type": "markdown",
      "source": [
        "```\n",
        "'cat' in spam checks weather there is a key 'cat' in the dictionary.\n",
        "'cat' in spam.values() checks weather is value 'cat' for one of the key in spam.\n",
        "```"
      ],
      "metadata": {
        "id": "R-n99cgq0-WP"
      }
    },
    {
      "cell_type": "code",
      "source": [
        "spam = {'cat':100}\n",
        "'cat' in spam"
      ],
      "metadata": {
        "colab": {
          "base_uri": "https://localhost:8080/"
        },
        "id": "myw1KWQQzRs2",
        "outputId": "6d70d35e-6703-465a-dc85-68df10478c3d"
      },
      "execution_count": 7,
      "outputs": [
        {
          "output_type": "execute_result",
          "data": {
            "text/plain": [
              "True"
            ]
          },
          "metadata": {},
          "execution_count": 7
        }
      ]
    },
    {
      "cell_type": "code",
      "source": [
        "spam = {'cat':100}\n",
        "'cat' in spam.values()"
      ],
      "metadata": {
        "colab": {
          "base_uri": "https://localhost:8080/"
        },
        "id": "Nt7W4Bu_0sg4",
        "outputId": "0ae140f9-7fc9-4289-8815-c93cc10eaa10"
      },
      "execution_count": 9,
      "outputs": [
        {
          "output_type": "execute_result",
          "data": {
            "text/plain": [
              "False"
            ]
          },
          "metadata": {},
          "execution_count": 9
        }
      ]
    },
    {
      "cell_type": "markdown",
      "source": [
        "**7. What is a shortcut for the following code?**"
      ],
      "metadata": {
        "id": "7qqEyvAk14Fs"
      }
    },
    {
      "cell_type": "code",
      "source": [
        "spam = {}\n",
        "spam.setdefault('color','black')\n",
        "spam"
      ],
      "metadata": {
        "colab": {
          "base_uri": "https://localhost:8080/"
        },
        "id": "ydsfXnYm0yPk",
        "outputId": "fe830d0d-3e4c-4e63-9251-ce72c3a12810"
      },
      "execution_count": 11,
      "outputs": [
        {
          "output_type": "execute_result",
          "data": {
            "text/plain": [
              "{'color': 'black'}"
            ]
          },
          "metadata": {},
          "execution_count": 11
        }
      ]
    },
    {
      "cell_type": "markdown",
      "source": [
        "**8. How do you 'pretty print' dictionary values using which module and function?**"
      ],
      "metadata": {
        "id": "V4YS7SU032zz"
      }
    },
    {
      "cell_type": "code",
      "source": [
        "import pprint\n",
        "dic = [{'Name':'Shyam','Age':'20','State':'UP','Country':'India'},\n",
        "      {'Name':'Xin','Age':'24','State':'Beijing','Country':'China'},\n",
        "      {'Name':'Joe','Age':'23','State':'Texas','Country':'United State'},\n",
        "      {'Name':'Rahul','Age':'25','State':'Bihar','Country':'India'}\n",
        "]"
      ],
      "metadata": {
        "id": "CEv821mb3pSU"
      },
      "execution_count": 15,
      "outputs": []
    },
    {
      "cell_type": "code",
      "source": [
        "pprint.pprint(dic) # printing with pprint()"
      ],
      "metadata": {
        "colab": {
          "base_uri": "https://localhost:8080/"
        },
        "id": "DY0T2Lzz5tnS",
        "outputId": "cebee322-dfed-45fc-c9a0-e8419900c8ec"
      },
      "execution_count": 16,
      "outputs": [
        {
          "output_type": "stream",
          "name": "stdout",
          "text": [
            "[{'Age': '20', 'Country': 'India', 'Name': 'Shyam', 'State': 'UP'},\n",
            " {'Age': '24', 'Country': 'China', 'Name': 'Xin', 'State': 'Beijing'},\n",
            " {'Age': '23', 'Country': 'United State', 'Name': 'Joe', 'State': 'Texas'},\n",
            " {'Age': '25', 'Country': 'India', 'Name': 'Rahul', 'State': 'Bihar'}]\n"
          ]
        }
      ]
    },
    {
      "cell_type": "code",
      "source": [
        "print(dic) # print with print()"
      ],
      "metadata": {
        "colab": {
          "base_uri": "https://localhost:8080/"
        },
        "id": "SsQ0xsEL6Mj_",
        "outputId": "492ad911-5040-4c11-8dda-acaeb81964c0"
      },
      "execution_count": 20,
      "outputs": [
        {
          "output_type": "stream",
          "name": "stdout",
          "text": [
            "[{'Name': 'Shyam', 'Age': '20', 'State': 'UP', 'Country': 'India'}, {'Name': 'Xin', 'Age': '24', 'State': 'Beijing', 'Country': 'China'}, {'Name': 'Joe', 'Age': '23', 'State': 'Texas', 'Country': 'United State'}, {'Name': 'Rahul', 'Age': '25', 'State': 'Bihar', 'Country': 'India'}]\n"
          ]
        }
      ]
    }
  ]
}