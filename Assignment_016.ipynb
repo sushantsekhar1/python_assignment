{
  "nbformat": 4,
  "nbformat_minor": 0,
  "metadata": {
    "colab": {
      "provenance": [],
      "authorship_tag": "ABX9TyMtPznbjbA5zZ7m6rfQgorR",
      "include_colab_link": true
    },
    "kernelspec": {
      "name": "python3",
      "display_name": "Python 3"
    },
    "language_info": {
      "name": "python"
    }
  },
  "cells": [
    {
      "cell_type": "markdown",
      "metadata": {
        "id": "view-in-github",
        "colab_type": "text"
      },
      "source": [
        "<a href=\"https://colab.research.google.com/github/sushantsekhar1/python_assignment/blob/python_basic/Assignment_016.ipynb\" target=\"_parent\"><img src=\"https://colab.research.google.com/assets/colab-badge.svg\" alt=\"Open In Colab\"/></a>"
      ]
    },
    {
      "cell_type": "markdown",
      "source": [
        "#**PYTHON - 16**"
      ],
      "metadata": {
        "id": "I7sdxt_E0sef"
      }
    },
    {
      "cell_type": "markdown",
      "source": [
        "**1. Create a list called years_list, starting with the year of your birth, and each year thereafter until\n",
        "the year of your fifth birthday. For example, if you were born in 1980. the list would be years_list =\n",
        "[1980, 1981, 1982, 1983, 1984, 1985].**"
      ],
      "metadata": {
        "id": "rYhoQyrH04UB"
      }
    },
    {
      "cell_type": "code",
      "execution_count": 2,
      "metadata": {
        "colab": {
          "base_uri": "https://localhost:8080/"
        },
        "id": "t-nFDKRP0nYk",
        "outputId": "c6c816ea-d4cc-449c-ed36-ea062cf650e3"
      },
      "outputs": [
        {
          "output_type": "execute_result",
          "data": {
            "text/plain": [
              "[1998, 1999, 2000, 2001, 2002, 2003]"
            ]
          },
          "metadata": {},
          "execution_count": 2
        }
      ],
      "source": [
        "year_list = [i for i in range(1998,1998+6)]\n",
        "year_list"
      ]
    },
    {
      "cell_type": "markdown",
      "source": [
        "**2. In which year in years_list was your third birthday? Remember, you were 0 years of age for your\n",
        "first year.**"
      ],
      "metadata": {
        "id": "_vDG-oFH2dMj"
      }
    },
    {
      "cell_type": "code",
      "source": [
        "year_list[2]"
      ],
      "metadata": {
        "colab": {
          "base_uri": "https://localhost:8080/"
        },
        "id": "-qPL0QjN2UxR",
        "outputId": "b50f2d9d-7c9c-4e1f-c3d6-fe123da4ee6f"
      },
      "execution_count": 3,
      "outputs": [
        {
          "output_type": "execute_result",
          "data": {
            "text/plain": [
              "2000"
            ]
          },
          "metadata": {},
          "execution_count": 3
        }
      ]
    },
    {
      "cell_type": "markdown",
      "source": [
        "**3.In the years list, which year were you the oldest?**"
      ],
      "metadata": {
        "id": "IdfgAbbZ28cb"
      }
    },
    {
      "cell_type": "code",
      "source": [
        "max(year_list)"
      ],
      "metadata": {
        "colab": {
          "base_uri": "https://localhost:8080/"
        },
        "id": "z5wDsavw2uMv",
        "outputId": "0c671ec0-a6e6-4b7b-98cb-a52b6543ef21"
      },
      "execution_count": 5,
      "outputs": [
        {
          "output_type": "execute_result",
          "data": {
            "text/plain": [
              "2003"
            ]
          },
          "metadata": {},
          "execution_count": 5
        }
      ]
    },
    {
      "cell_type": "markdown",
      "source": [
        "**4. Make a list called things with these three strings as elements: &quot;mozzarella&quot;, &quot;cinderella&quot;,\n",
        "&quot;salmonella&quot;.**"
      ],
      "metadata": {
        "id": "fiSai7KpllrD"
      }
    },
    {
      "cell_type": "code",
      "source": [
        "things = [\"mozzarella\", \"cinderella\", \"salmonella\"]\n",
        "things"
      ],
      "metadata": {
        "colab": {
          "base_uri": "https://localhost:8080/"
        },
        "id": "FLUNkby3kyOG",
        "outputId": "29728343-3f4a-4e41-b125-1fcf691616b0"
      },
      "execution_count": 9,
      "outputs": [
        {
          "output_type": "execute_result",
          "data": {
            "text/plain": [
              "['mozzarella', 'cinderella', 'salmonella']"
            ]
          },
          "metadata": {},
          "execution_count": 9
        }
      ]
    },
    {
      "cell_type": "markdown",
      "source": [
        "**5. Capitalize the element in things that refers to a person and then print the list. Did it change the\n",
        "element in the list?**"
      ],
      "metadata": {
        "id": "-DxHUZgFl89U"
      }
    },
    {
      "cell_type": "code",
      "source": [
        "for i in things:\n",
        "  print(i.capitalize())\n",
        "\n",
        "# capitalize will not update the list original value.\n",
        "\n",
        "things"
      ],
      "metadata": {
        "colab": {
          "base_uri": "https://localhost:8080/"
        },
        "id": "_uAp_zrCl6Cb",
        "outputId": "b48b178a-3dc2-405b-af60-312dedaed29d"
      },
      "execution_count": 8,
      "outputs": [
        {
          "output_type": "stream",
          "name": "stdout",
          "text": [
            "Mozzarella\n",
            "Cinderella\n",
            "Salmonella\n"
          ]
        },
        {
          "output_type": "execute_result",
          "data": {
            "text/plain": [
              "['mozzarella', 'cinderella', 'salmonella']"
            ]
          },
          "metadata": {},
          "execution_count": 8
        }
      ]
    },
    {
      "cell_type": "markdown",
      "source": [
        "**6. Make a surprise list with the elements &quot;Groucho,&quot; &quot;Chico,&quot; and &quot;Harpo.&quot;**"
      ],
      "metadata": {
        "id": "LuI5HhIlmtO1"
      }
    },
    {
      "cell_type": "code",
      "source": [
        "suprise_list = [\"Groucho\",\"Chico\",\"Harpo\"]\n",
        "suprise_list"
      ],
      "metadata": {
        "colab": {
          "base_uri": "https://localhost:8080/"
        },
        "id": "CG0AeIV7mQM9",
        "outputId": "ecf5e657-c6b4-4f89-8660-2a5a5f37825a"
      },
      "execution_count": 31,
      "outputs": [
        {
          "output_type": "execute_result",
          "data": {
            "text/plain": [
              "['Groucho', 'Chico', 'Harpo']"
            ]
          },
          "metadata": {},
          "execution_count": 31
        }
      ]
    },
    {
      "cell_type": "markdown",
      "source": [
        "**7. Lowercase the last element of the surprise list, reverse it, and then capitalize it.**"
      ],
      "metadata": {
        "id": "iw4J0kuxooSv"
      }
    },
    {
      "cell_type": "code",
      "source": [
        "suprise_list[-1].lower()"
      ],
      "metadata": {
        "colab": {
          "base_uri": "https://localhost:8080/",
          "height": 35
        },
        "id": "JbVdS1U0nG9g",
        "outputId": "b13d64f8-4bbd-4239-8a12-70382078da6c"
      },
      "execution_count": 12,
      "outputs": [
        {
          "output_type": "execute_result",
          "data": {
            "text/plain": [
              "'harpo'"
            ],
            "application/vnd.google.colaboratory.intrinsic+json": {
              "type": "string"
            }
          },
          "metadata": {},
          "execution_count": 12
        }
      ]
    },
    {
      "cell_type": "code",
      "source": [
        "suprise_list[-1][::-1]"
      ],
      "metadata": {
        "colab": {
          "base_uri": "https://localhost:8080/",
          "height": 35
        },
        "id": "a8fAVY_YpmIx",
        "outputId": "ad9dcc65-063a-41fb-e6f6-16ca87f320c3"
      },
      "execution_count": 14,
      "outputs": [
        {
          "output_type": "execute_result",
          "data": {
            "text/plain": [
              "'opraH'"
            ],
            "application/vnd.google.colaboratory.intrinsic+json": {
              "type": "string"
            }
          },
          "metadata": {},
          "execution_count": 14
        }
      ]
    },
    {
      "cell_type": "code",
      "source": [
        "suprise_list[-1].capitalize()"
      ],
      "metadata": {
        "colab": {
          "base_uri": "https://localhost:8080/",
          "height": 35
        },
        "id": "Ic0K54f8p9E6",
        "outputId": "e84259f7-5257-407c-e839-332e7144db90"
      },
      "execution_count": 15,
      "outputs": [
        {
          "output_type": "execute_result",
          "data": {
            "text/plain": [
              "'Harpo'"
            ],
            "application/vnd.google.colaboratory.intrinsic+json": {
              "type": "string"
            }
          },
          "metadata": {},
          "execution_count": 15
        }
      ]
    },
    {
      "cell_type": "markdown",
      "source": [
        "**8. Make an English-to-French dictionary called e2f and print it. Here are your starter words: dog is\n",
        "chien, cat is chat, and walrus is morse.**"
      ],
      "metadata": {
        "id": "Fof-rnTzqRoq"
      }
    },
    {
      "cell_type": "code",
      "source": [
        "e2f = {'dog':'chien', 'cat':'chat', 'walrus':'morse'}\n",
        "e2f"
      ],
      "metadata": {
        "colab": {
          "base_uri": "https://localhost:8080/"
        },
        "id": "axOueDC6qN46",
        "outputId": "c349b3d9-2333-4694-bd29-7d0f88d4a62a"
      },
      "execution_count": 16,
      "outputs": [
        {
          "output_type": "execute_result",
          "data": {
            "text/plain": [
              "{'dog': 'chien', 'cat': 'chat', 'walrus': 'morse'}"
            ]
          },
          "metadata": {},
          "execution_count": 16
        }
      ]
    },
    {
      "cell_type": "markdown",
      "source": [
        "**9. Write the French word for walrus in your three-word dictionary e2f.**"
      ],
      "metadata": {
        "id": "NA6iv49MrSer"
      }
    },
    {
      "cell_type": "code",
      "source": [
        "e2f['walrus']"
      ],
      "metadata": {
        "colab": {
          "base_uri": "https://localhost:8080/",
          "height": 35
        },
        "id": "uajqIdmCrNx0",
        "outputId": "a7eb600f-d9a3-4175-bbb9-64b6c37fd9da"
      },
      "execution_count": 17,
      "outputs": [
        {
          "output_type": "execute_result",
          "data": {
            "text/plain": [
              "'morse'"
            ],
            "application/vnd.google.colaboratory.intrinsic+json": {
              "type": "string"
            }
          },
          "metadata": {},
          "execution_count": 17
        }
      ]
    },
    {
      "cell_type": "markdown",
      "source": [
        "**10. Make a French-to-English dictionary called f2e from e2f. Use the items method.**"
      ],
      "metadata": {
        "id": "lj4eQ8-brhPA"
      }
    },
    {
      "cell_type": "code",
      "source": [
        "f2e = dict((key,value) for value,key in e2f.items())\n",
        "f2e"
      ],
      "metadata": {
        "colab": {
          "base_uri": "https://localhost:8080/"
        },
        "id": "PGFGwraurgOD",
        "outputId": "94c5e14b-442d-4a04-e648-3fa0df41a589"
      },
      "execution_count": 18,
      "outputs": [
        {
          "output_type": "execute_result",
          "data": {
            "text/plain": [
              "{'chien': 'dog', 'chat': 'cat', 'morse': 'walrus'}"
            ]
          },
          "metadata": {},
          "execution_count": 18
        }
      ]
    },
    {
      "cell_type": "markdown",
      "source": [
        "**11. Print the English version of the French word chien using f2e.**"
      ],
      "metadata": {
        "id": "NsXv7S5drxZp"
      }
    },
    {
      "cell_type": "code",
      "source": [
        "f2e['chien']"
      ],
      "metadata": {
        "colab": {
          "base_uri": "https://localhost:8080/",
          "height": 35
        },
        "id": "nB24thJgr1Zm",
        "outputId": "d1290a71-57e8-42e7-ce0f-e7d652ad0e1b"
      },
      "execution_count": 19,
      "outputs": [
        {
          "output_type": "execute_result",
          "data": {
            "text/plain": [
              "'dog'"
            ],
            "application/vnd.google.colaboratory.intrinsic+json": {
              "type": "string"
            }
          },
          "metadata": {},
          "execution_count": 19
        }
      ]
    },
    {
      "cell_type": "markdown",
      "source": [
        "**12. Make and print a set of English words from the keys in e2f.**"
      ],
      "metadata": {
        "id": "2Pvu1xI6r9o2"
      }
    },
    {
      "cell_type": "code",
      "source": [
        "e2f.keys()"
      ],
      "metadata": {
        "colab": {
          "base_uri": "https://localhost:8080/"
        },
        "id": "s3m3qjl9r8vr",
        "outputId": "c5d79ab9-ca9e-4cb5-a6c5-ceb7280e4e12"
      },
      "execution_count": 21,
      "outputs": [
        {
          "output_type": "execute_result",
          "data": {
            "text/plain": [
              "dict_keys(['dog', 'cat', 'walrus'])"
            ]
          },
          "metadata": {},
          "execution_count": 21
        }
      ]
    },
    {
      "cell_type": "markdown",
      "source": [
        "**13. Make a multilevel dictionary called life. Use these strings for the topmost keys: &#39;animals&#39;, &#39;plants&#39;,\n",
        "and &#39;other&#39;. Make the &#39;animals&#39; key refer to another dictionary with the keys &#39;cats&#39;, &#39;octopi&#39;, and\n",
        "&#39;emus&#39;. Make the &#39;cats&#39; key refer to a list of strings with the values &#39;Henri&#39;, &#39;Grumpy&#39;, and &#39;Lucy&#39;.\n",
        "Make all the other keys refer to empty dictionaries.**"
      ],
      "metadata": {
        "id": "4S3ln4SisNs8"
      }
    },
    {
      "cell_type": "code",
      "source": [
        "life = {'animals':{'cats':['Henri','Grumpy','Lucy'], 'octopi':'','emus':''},\n",
        "        'plants':'','others':''}\n",
        "life"
      ],
      "metadata": {
        "colab": {
          "base_uri": "https://localhost:8080/"
        },
        "id": "_PBpGH1OsI6b",
        "outputId": "85174dc2-e9dd-4a1c-c0c8-0609515c30c2"
      },
      "execution_count": 25,
      "outputs": [
        {
          "output_type": "execute_result",
          "data": {
            "text/plain": [
              "{'animals': {'cats': ['Henri', 'Grumpy', 'Lucy'], 'octopi': '', 'emus': ''},\n",
              " 'plants': '',\n",
              " 'others': ''}"
            ]
          },
          "metadata": {},
          "execution_count": 25
        }
      ]
    },
    {
      "cell_type": "markdown",
      "source": [
        "**14. Print the top-level keys of life.**"
      ],
      "metadata": {
        "id": "CnP7S_z6u3hW"
      }
    },
    {
      "cell_type": "code",
      "source": [
        "life.keys()"
      ],
      "metadata": {
        "colab": {
          "base_uri": "https://localhost:8080/"
        },
        "id": "xnSLUPHEu1vZ",
        "outputId": "0de8e9a1-9d4f-4dc6-93a4-78173f74a97c"
      },
      "execution_count": 26,
      "outputs": [
        {
          "output_type": "execute_result",
          "data": {
            "text/plain": [
              "dict_keys(['animals', 'plants', 'others'])"
            ]
          },
          "metadata": {},
          "execution_count": 26
        }
      ]
    },
    {
      "cell_type": "markdown",
      "source": [
        "**15. Print the keys for life[&#39;animals&#39;].**"
      ],
      "metadata": {
        "id": "llKALR8NvGZq"
      }
    },
    {
      "cell_type": "code",
      "source": [
        "life['animals'].keys()"
      ],
      "metadata": {
        "colab": {
          "base_uri": "https://localhost:8080/"
        },
        "id": "vZyVghUhvFPf",
        "outputId": "ab392cd8-3231-491f-a10d-699790f1f0d9"
      },
      "execution_count": 27,
      "outputs": [
        {
          "output_type": "execute_result",
          "data": {
            "text/plain": [
              "dict_keys(['cats', 'octopi', 'emus'])"
            ]
          },
          "metadata": {},
          "execution_count": 27
        }
      ]
    },
    {
      "cell_type": "markdown",
      "source": [
        "**16. Print the values for life[&#39;animals&#39;][&#39;cats&#39;]**"
      ],
      "metadata": {
        "id": "Er4PIKmevT6S"
      }
    },
    {
      "cell_type": "code",
      "source": [
        "life['animals']['cats']"
      ],
      "metadata": {
        "colab": {
          "base_uri": "https://localhost:8080/"
        },
        "id": "7R7eGw1mvQGg",
        "outputId": "be5a7d0e-c53a-4836-fe51-236b36d16139"
      },
      "execution_count": 28,
      "outputs": [
        {
          "output_type": "execute_result",
          "data": {
            "text/plain": [
              "['Henri', 'Grumpy', 'Lucy']"
            ]
          },
          "metadata": {},
          "execution_count": 28
        }
      ]
    }
  ]
}