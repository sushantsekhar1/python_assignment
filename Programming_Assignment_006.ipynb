{
  "nbformat": 4,
  "nbformat_minor": 0,
  "metadata": {
    "colab": {
      "provenance": [],
      "authorship_tag": "ABX9TyNjsMYHQ03cH/93uRSfpoge",
      "include_colab_link": true
    },
    "kernelspec": {
      "name": "python3",
      "display_name": "Python 3"
    },
    "language_info": {
      "name": "python"
    }
  },
  "cells": [
    {
      "cell_type": "markdown",
      "metadata": {
        "id": "view-in-github",
        "colab_type": "text"
      },
      "source": [
        "<a href=\"https://colab.research.google.com/github/sushantsekhar1/python_assignment/blob/python_assignment/Programming_Assignment_006.ipynb\" target=\"_parent\"><img src=\"https://colab.research.google.com/assets/colab-badge.svg\" alt=\"Open In Colab\"/></a>"
      ]
    },
    {
      "cell_type": "markdown",
      "source": [
        "**1. Write a Python Program to Display Fibonacci Sequence Using Recursion?**"
      ],
      "metadata": {
        "id": "LzJJkit2uItp"
      }
    },
    {
      "cell_type": "code",
      "execution_count": 4,
      "metadata": {
        "colab": {
          "base_uri": "https://localhost:8080/"
        },
        "id": "f7-gNJW1uFMU",
        "outputId": "d9c940f2-a321-4d15-d684-e12cfcd17476"
      },
      "outputs": [
        {
          "output_type": "stream",
          "name": "stdout",
          "text": [
            "Enter the Value you want to print Fibonacci Sequence: 12\n",
            "Fibonacci Sequence\n",
            "0\n",
            "1\n",
            "1\n",
            "2\n",
            "3\n",
            "5\n",
            "8\n",
            "13\n",
            "21\n",
            "34\n",
            "55\n",
            "89\n"
          ]
        }
      ],
      "source": [
        "def recu_fibonacci(val):\n",
        "  if val <= 1:\n",
        "    return val\n",
        "  else:\n",
        "    return (recu_fibonacci (val-1) + recu_fibonacci (val-2))\n",
        "\n",
        "num1 = int(input(\"Enter the Value you want to print Fibonacci Sequence: \"))\n",
        "\n",
        "if num1 <= 0:\n",
        "  print(\"Invalid Input\")\n",
        "else:\n",
        "  print(\"Fibonacci Sequence\")\n",
        "  for i in range(num1):\n",
        "    print(f\"{recu_fibonacci(i)}\")\n"
      ]
    },
    {
      "cell_type": "markdown",
      "source": [
        "**2. Write a Python Program to Find Factorial of Number Using Recursion?**"
      ],
      "metadata": {
        "id": "OdQC-iYnww_D"
      }
    },
    {
      "cell_type": "code",
      "source": [
        "def recursion_factorial(val):\n",
        "  if val == 0:\n",
        "    return 1\n",
        "  elif val < 0:\n",
        "    print(\"Invalid Data\")\n",
        "  else:\n",
        "    return val * recursion_factorial(val-1)\n",
        "\n",
        "\n",
        "val = int(input(\"Enter the value you want to print Factorial: \"))\n",
        "print(f\"The Factorial Value is: {recursion_factorial(val)}\")"
      ],
      "metadata": {
        "colab": {
          "base_uri": "https://localhost:8080/"
        },
        "id": "8B6uQ3eOwQCN",
        "outputId": "05042173-498d-4f89-f5ce-0e4217de3f6f"
      },
      "execution_count": 1,
      "outputs": [
        {
          "output_type": "stream",
          "name": "stdout",
          "text": [
            "Enter the value you want to print Factorial: 6\n",
            "The Factorial Value is: 720\n"
          ]
        }
      ]
    },
    {
      "cell_type": "markdown",
      "source": [
        "**3. Write a Python Program to calculate your Body Mass Index?**"
      ],
      "metadata": {
        "id": "G5h5oW1U07wk"
      }
    },
    {
      "cell_type": "code",
      "source": [
        "def bmi(hei,wei):\n",
        "  return hei/(wei/100)**2\n",
        "\n",
        "hei = float(input(\"Enter the Height: \"))\n",
        "wei = float(input(\"Enter the Weight: \"))\n",
        "\n",
        "print(\"Welcome TO BMI Calculator\")\n",
        "\n",
        "the_BMI = bmi(hei,wei)\n",
        "print(\"Your BMI is:\", the_BMI)\n",
        "\n",
        "if the_BMI <= 18.5:\n",
        "  print(\"Oops! You are underweight\")\n",
        "elif the_BMI <= 24.9:\n",
        "  print(\"Nice! You are healthy\")\n",
        "elif the_BMI <29.9:\n",
        "    print(\"Oops! You are Overweight\")\n",
        "else:\n",
        "  print(\"Invalid Data\")"
      ],
      "metadata": {
        "colab": {
          "base_uri": "https://localhost:8080/"
        },
        "id": "aliE8VJ8zZEs",
        "outputId": "f898dad7-d1fc-4b4f-e069-9950f6e4ec9a"
      },
      "execution_count": 9,
      "outputs": [
        {
          "output_type": "stream",
          "name": "stdout",
          "text": [
            "Enter the Height: 75\n",
            "Enter the Weight: 176\n",
            "Welcome TO BMI Calculator\n",
            "Your BMI is: 24.212293388429753\n",
            "Nice! You are healthy\n"
          ]
        }
      ]
    },
    {
      "cell_type": "code",
      "source": [],
      "metadata": {
        "id": "HAk__fC_33On"
      },
      "execution_count": null,
      "outputs": []
    },
    {
      "cell_type": "markdown",
      "source": [
        "**4. Write a Python Program to calculate the natural logarithm of any number?**"
      ],
      "metadata": {
        "id": "jzrkHLKF67b6"
      }
    },
    {
      "cell_type": "code",
      "source": [
        "import math\n",
        "num = int(input(\"Enter the Number you want to calculate Logarithm: \"))\n",
        "ans = math.log(num)\n",
        "\n",
        "print(f\"The Value of Logarithm is: {ans}\")"
      ],
      "metadata": {
        "colab": {
          "base_uri": "https://localhost:8080/"
        },
        "id": "6dL8NX0A6-4V",
        "outputId": "79771eec-e771-42c1-8b97-932a077141fb"
      },
      "execution_count": 1,
      "outputs": [
        {
          "output_type": "stream",
          "name": "stdout",
          "text": [
            "Enter the Number you want to calculate Logarithm: 5\n",
            "The Value of Logarithm is: 1.6094379124341003\n"
          ]
        }
      ]
    },
    {
      "cell_type": "markdown",
      "source": [
        "**5. Write a Python Program for cube sum of first n natural numbers?**"
      ],
      "metadata": {
        "id": "pADGXtZm8Qv3"
      }
    },
    {
      "cell_type": "code",
      "source": [
        "def cube_sum(num):\n",
        "  sum =0\n",
        "  for i in range(1, num+1):\n",
        "    sum += pow(i,3)\n",
        "  return sum\n",
        "\n",
        "num = int(input(\"Enter the Last Number you want to print it: \"))\n",
        "print(f\"The Cube Sum of First n Natural Number: {cube_sum(num)}\")\n"
      ],
      "metadata": {
        "colab": {
          "base_uri": "https://localhost:8080/"
        },
        "id": "sLfMfjsA8GfM",
        "outputId": "23cfd5cd-23e7-4614-8537-8d4f75f05887"
      },
      "execution_count": 8,
      "outputs": [
        {
          "output_type": "stream",
          "name": "stdout",
          "text": [
            "Enter the Last Number you want to print it: 5\n",
            "The Cube Sum of First n Natural Number: 225\n"
          ]
        }
      ]
    }
  ]
}