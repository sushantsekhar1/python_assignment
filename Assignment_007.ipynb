{
  "nbformat": 4,
  "nbformat_minor": 0,
  "metadata": {
    "colab": {
      "provenance": [],
      "authorship_tag": "ABX9TyMSuxUsqbdMvay2evd8CjYV",
      "include_colab_link": true
    },
    "kernelspec": {
      "name": "python3",
      "display_name": "Python 3"
    },
    "language_info": {
      "name": "python"
    }
  },
  "cells": [
    {
      "cell_type": "markdown",
      "metadata": {
        "id": "view-in-github",
        "colab_type": "text"
      },
      "source": [
        "<a href=\"https://colab.research.google.com/github/sushantsekhar1/python_assignment/blob/python_basic/Assignment_007.ipynb\" target=\"_parent\"><img src=\"https://colab.research.google.com/assets/colab-badge.svg\" alt=\"Open In Colab\"/></a>"
      ]
    },
    {
      "cell_type": "code",
      "execution_count": null,
      "metadata": {
        "id": "TE7qQYF0Gq_H"
      },
      "outputs": [],
      "source": []
    },
    {
      "cell_type": "markdown",
      "source": [
        "# **PYTHON - 7**"
      ],
      "metadata": {
        "id": "1ExeolJvGudb"
      }
    },
    {
      "cell_type": "markdown",
      "source": [
        "**1. What is the name of the feature responsible for generating Regex objects?**"
      ],
      "metadata": {
        "id": "pf6BfURxG206"
      }
    },
    {
      "cell_type": "code",
      "source": [
        "import re\n",
        "re.compile(\"String\") # The re.compile return the regex object"
      ],
      "metadata": {
        "colab": {
          "base_uri": "https://localhost:8080/"
        },
        "id": "29zLzeZRG2H_",
        "outputId": "67bcaba3-d253-4c28-bebf-57d81ac409a7"
      },
      "execution_count": 1,
      "outputs": [
        {
          "output_type": "execute_result",
          "data": {
            "text/plain": [
              "re.compile(r'String', re.UNICODE)"
            ]
          },
          "metadata": {},
          "execution_count": 1
        }
      ]
    },
    {
      "cell_type": "markdown",
      "source": [
        "**2. Why do raw strings often appear in Regex objects?**"
      ],
      "metadata": {
        "id": "FFSqIZNvKV_o"
      }
    },
    {
      "cell_type": "markdown",
      "source": [
        "```\n",
        "The raw strings often apperar in Regex object because they allows to specify pattern that may contains backslashes  without having to escape them\n",
        "```"
      ],
      "metadata": {
        "id": "MG4jnbF4KvWM"
      }
    },
    {
      "cell_type": "markdown",
      "source": [
        "**3. What is the return value of the search() method?**"
      ],
      "metadata": {
        "id": "NGFjijKNLo7O"
      }
    },
    {
      "cell_type": "markdown",
      "source": [
        "```\n",
        "The search() method search a string for a specific value, and return the position if it is match.\n",
        "The search value can be string and regular expression, This method return -1 if no any match found\n",
        "```"
      ],
      "metadata": {
        "id": "rP1XgfAwL7ow"
      }
    },
    {
      "cell_type": "markdown",
      "source": [
        "**4. From a Match item, how do you get the actual strings that match the pattern?**"
      ],
      "metadata": {
        "id": "QVnJjYuLM_Yd"
      }
    },
    {
      "cell_type": "code",
      "source": [
        "phoneNumRegex = re.compile(r'\\d\\d\\d-\\d\\d\\d-\\d\\d\\d')\n",
        "mo = phoneNumRegex.search('My Number is 234-567-689')\n",
        "print('My Number is : ' + mo.group())\n",
        "#Calling the matchingobject.group() will return the String."
      ],
      "metadata": {
        "colab": {
          "base_uri": "https://localhost:8080/"
        },
        "id": "0ikoaHCROU6f",
        "outputId": "4e0198ea-d996-4517-8f23-5be31d62b5da"
      },
      "execution_count": null,
      "outputs": [
        {
          "output_type": "stream",
          "name": "stdout",
          "text": [
            "My Number is : 234-567-689\n"
          ]
        }
      ]
    },
    {
      "cell_type": "markdown",
      "source": [
        "**5. In the regex which created from the r&#39;(\\d\\d\\d)-(\\d\\d\\d-\\d\\d\\d\\d)&#39;, what does group zero cover?\n",
        "Group 2? Group 1?**"
      ],
      "metadata": {
        "id": "LCwI2BCQQt4o"
      }
    },
    {
      "cell_type": "code",
      "source": [
        "phoneNumRegex = re.compile(r'(\\d\\d\\d)-(\\d\\d\\d-\\d\\d\\d\\d)')\n",
        "mo = phoneNumRegex.search('My Number is 234-567-6892')\n",
        "mo.group(1)"
      ],
      "metadata": {
        "colab": {
          "base_uri": "https://localhost:8080/",
          "height": 35
        },
        "id": "2SFUai6qQVEX",
        "outputId": "aabf2641-c103-45b5-ef26-5afbb49f0d5c"
      },
      "execution_count": null,
      "outputs": [
        {
          "output_type": "execute_result",
          "data": {
            "text/plain": [
              "'234'"
            ],
            "application/vnd.google.colaboratory.intrinsic+json": {
              "type": "string"
            }
          },
          "metadata": {},
          "execution_count": 6
        }
      ]
    },
    {
      "cell_type": "code",
      "source": [
        "mo.group(2)"
      ],
      "metadata": {
        "colab": {
          "base_uri": "https://localhost:8080/",
          "height": 35
        },
        "id": "Z4NNhK7sRQ9E",
        "outputId": "c3e9fed3-a701-490a-cd4b-317f18871c83"
      },
      "execution_count": null,
      "outputs": [
        {
          "output_type": "execute_result",
          "data": {
            "text/plain": [
              "'567-6892'"
            ],
            "application/vnd.google.colaboratory.intrinsic+json": {
              "type": "string"
            }
          },
          "metadata": {},
          "execution_count": 7
        }
      ]
    },
    {
      "cell_type": "code",
      "source": [
        "mo.group(0)"
      ],
      "metadata": {
        "colab": {
          "base_uri": "https://localhost:8080/",
          "height": 35
        },
        "id": "X4QOLHYYRsfe",
        "outputId": "86ba2673-a9d6-4c0e-d66f-026fa99bfb75"
      },
      "execution_count": null,
      "outputs": [
        {
          "output_type": "execute_result",
          "data": {
            "text/plain": [
              "'234-567-6892'"
            ],
            "application/vnd.google.colaboratory.intrinsic+json": {
              "type": "string"
            }
          },
          "metadata": {},
          "execution_count": 8
        }
      ]
    },
    {
      "cell_type": "markdown",
      "source": [
        "**6. In standard expression syntax, parentheses and intervals have distinct meanings. How can you tell\n",
        "a regex that you want it to fit real parentheses and periods?**"
      ],
      "metadata": {
        "id": "7BXg-rirR2um"
      }
    },
    {
      "cell_type": "markdown",
      "source": [
        "```\n",
        "Periods and Parenthesis can be escaped with a backslash:\n",
        "\\., \\(, and \\).\n",
        "```"
      ],
      "metadata": {
        "id": "rWBMq_-WTYhh"
      }
    },
    {
      "cell_type": "markdown",
      "source": [
        "**7. The findall() method returns a string list or a list of string tuples. What causes it to return one of\n",
        "the two options?**"
      ],
      "metadata": {
        "id": "m4NOXloMUz2y"
      }
    },
    {
      "cell_type": "markdown",
      "source": [
        "```\n",
        "It is depending  on weather pattern contains any capturing group, if the pattern does not contains any capturing group the findall() method returns a list of strings. If the pattern contains one or more capturing groups, the findall() method returns a list of tuples.\n",
        "```"
      ],
      "metadata": {
        "id": "qrETr0_NVSBO"
      }
    },
    {
      "cell_type": "markdown",
      "source": [
        "**8. In standard expressions, what does the | character mean?**"
      ],
      "metadata": {
        "id": "zYzjKtSwWE0b"
      }
    },
    {
      "cell_type": "markdown",
      "source": [
        "```\n",
        "The | character means Pipe. This Signifies matching either or between two group.You can use anywhere you want to match one of many expressions.\n",
        "\n",
        "For Example: The regex expression is r'Cricket/Football' will match either 'Cricket' and 'Football'.\n",
        "\n",
        "When both Cricket and Football occure in the searched string, the first occurance is matching text is returned as the Matched object.\n",
        "```\n"
      ],
      "metadata": {
        "id": "kS7O07oenpM7"
      }
    },
    {
      "cell_type": "code",
      "source": [
        "sportRegex = re.compile(r'Cricket|Football')\n",
        "s1 = sportRegex.search('Cricket and Football')\n",
        "s1.group(0)"
      ],
      "metadata": {
        "colab": {
          "base_uri": "https://localhost:8080/",
          "height": 35
        },
        "id": "ZKmqkG-Ij63B",
        "outputId": "d030a377-32bc-4ecc-fc62-e0bcbf693823"
      },
      "execution_count": null,
      "outputs": [
        {
          "output_type": "execute_result",
          "data": {
            "text/plain": [
              "'Cricket'"
            ],
            "application/vnd.google.colaboratory.intrinsic+json": {
              "type": "string"
            }
          },
          "metadata": {},
          "execution_count": 6
        }
      ]
    },
    {
      "cell_type": "code",
      "source": [
        "s2 = sportRegex.search('Football and Cricket')\n",
        "s2.group()"
      ],
      "metadata": {
        "colab": {
          "base_uri": "https://localhost:8080/",
          "height": 35
        },
        "id": "vEE2w5RbRviL",
        "outputId": "a45d12be-75b2-471e-8151-3e60fa16cf2d"
      },
      "execution_count": null,
      "outputs": [
        {
          "output_type": "execute_result",
          "data": {
            "text/plain": [
              "'Football'"
            ],
            "application/vnd.google.colaboratory.intrinsic+json": {
              "type": "string"
            }
          },
          "metadata": {},
          "execution_count": 8
        }
      ]
    },
    {
      "cell_type": "markdown",
      "source": [
        "**9. In regular expressions, what does the ? character stand for?**"
      ],
      "metadata": {
        "id": "ieOdaNdbk5Mr"
      }
    },
    {
      "cell_type": "markdown",
      "source": [
        "```\n",
        "The ? Question Character either means \"match zero or one of the preceding group\".\n",
        "```"
      ],
      "metadata": {
        "id": "E1kuFK-UCKca"
      }
    },
    {
      "cell_type": "code",
      "source": [
        "catRegex = re.compile(r'Cat(wo)?Cats')\n",
        "mo1 = catRegex.search('The Advanture of CatCats')\n",
        "mo1.group()"
      ],
      "metadata": {
        "colab": {
          "base_uri": "https://localhost:8080/",
          "height": 35
        },
        "id": "JDfTAnntkyY0",
        "outputId": "587a3474-397c-47b5-f372-cce76ca03c1c"
      },
      "execution_count": null,
      "outputs": [
        {
          "output_type": "execute_result",
          "data": {
            "text/plain": [
              "'CatCats'"
            ],
            "application/vnd.google.colaboratory.intrinsic+json": {
              "type": "string"
            }
          },
          "metadata": {},
          "execution_count": 6
        }
      ]
    },
    {
      "cell_type": "code",
      "source": [
        "mo2 = catRegex.search('The Advanture of CatwoCats')\n",
        "mo2.group()"
      ],
      "metadata": {
        "colab": {
          "base_uri": "https://localhost:8080/",
          "height": 35
        },
        "id": "Wp158kirDou_",
        "outputId": "be2a9127-d114-4de8-a9a7-6882cbfed95a"
      },
      "execution_count": null,
      "outputs": [
        {
          "output_type": "execute_result",
          "data": {
            "text/plain": [
              "'CatwoCats'"
            ],
            "application/vnd.google.colaboratory.intrinsic+json": {
              "type": "string"
            }
          },
          "metadata": {},
          "execution_count": 7
        }
      ]
    },
    {
      "cell_type": "markdown",
      "source": [
        "**10.In regular expressions, what is the difference between the + and * characters?**"
      ],
      "metadata": {
        "id": "KZLucOXMFFBN"
      }
    },
    {
      "cell_type": "markdown",
      "source": [
        "```\n",
        "The + matches one or more.\n",
        "The * matches zero or more.\n",
        "```"
      ],
      "metadata": {
        "id": "MHKWhZCuFNL4"
      }
    },
    {
      "cell_type": "markdown",
      "source": [
        "**11. What is the difference between {4} and {4,5} in regular expression?**"
      ],
      "metadata": {
        "id": "c_S_nJ8PFeWR"
      }
    },
    {
      "cell_type": "markdown",
      "source": [
        "```\n",
        "The main Difference between {4} an d(4,5} in regular expression is that {4} matches exactly 4 Character and {4,5} matches 4 or 5 Characters.\n",
        "```"
      ],
      "metadata": {
        "id": "-1p703zRH456"
      }
    },
    {
      "cell_type": "markdown",
      "source": [
        "**12. What do you mean by the \\d, \\w, and \\s shorthand character classes signify in regular\n",
        "expressions?**"
      ],
      "metadata": {
        "id": "wNkwn82oIhSw"
      }
    },
    {
      "cell_type": "markdown",
      "source": [
        "```\n",
        "\\d -> It matches single digit Character. The Digit Character are the number 0 to 9.\n",
        "\\w -> It matches single word Character. Word Character are letter A to Z or a to z, the digit 0 to 9, and the underscore character (_).\n",
        "\\s -> It matches single whitespace Characters. Whitespace will be space, tab, newline,etc.\n",
        "```"
      ],
      "metadata": {
        "id": "I79-fZ8CI02p"
      }
    },
    {
      "cell_type": "markdown",
      "source": [
        "**13. What do means by \\D, \\W, and \\S shorthand character classes signify in regular expressions?**"
      ],
      "metadata": {
        "id": "whL6x8bMKQAL"
      }
    },
    {
      "cell_type": "markdown",
      "source": [
        "```\n",
        "\\D -> Matches non single-digit character.\n",
        "\\W -> Matches non single-word character.\n",
        "\\S -> Matches non single-whitespace character.\n",
        "```"
      ],
      "metadata": {
        "id": "bGNtwFeOQQEx"
      }
    },
    {
      "cell_type": "markdown",
      "source": [
        "**14. What is the difference between .* ? and .*  ?**"
      ],
      "metadata": {
        "id": "SXs5Eqt4tOcT"
      }
    },
    {
      "cell_type": "markdown",
      "source": [
        "```\n",
        "The regular expression '.*'will match any string of any length.\n",
        "The regular expression '.*?' will match any string of any length, but will only match as many character as necessary to satify the rest of the expression.\n",
        "```\n"
      ],
      "metadata": {
        "id": "yjFDUdIQuSQt"
      }
    },
    {
      "cell_type": "markdown",
      "source": [
        "**15. What is the syntax for matching both numbers and lowercase letters with a character class?**"
      ],
      "metadata": {
        "id": "15t-pqB9yDHZ"
      }
    },
    {
      "cell_type": "markdown",
      "source": [
        "```\n",
        "Either [0-9a-z] or [a-z0-9]\n",
        "```"
      ],
      "metadata": {
        "id": "Bln2aQ0rt370"
      }
    },
    {
      "cell_type": "code",
      "source": [
        "reg1 = re.compile(r'[0-9a-z]')\n",
        "\n",
        "mo1 = reg1.search('100 times Reading a book')\n",
        "mo1.group()"
      ],
      "metadata": {
        "colab": {
          "base_uri": "https://localhost:8080/",
          "height": 35
        },
        "id": "2kMDyecsxnst",
        "outputId": "f47f0d46-6d36-430d-9d3d-cb16a7238fd4"
      },
      "execution_count": null,
      "outputs": [
        {
          "output_type": "execute_result",
          "data": {
            "text/plain": [
              "'1'"
            ],
            "application/vnd.google.colaboratory.intrinsic+json": {
              "type": "string"
            }
          },
          "metadata": {},
          "execution_count": 13
        }
      ]
    },
    {
      "cell_type": "code",
      "source": [
        "reg2 = re.compile(r'[a-z0-9]')\n",
        "mo2 = reg2.search('i am reading 100 books')\n",
        "mo2.group()"
      ],
      "metadata": {
        "colab": {
          "base_uri": "https://localhost:8080/",
          "height": 35
        },
        "id": "srqdn4-eupsT",
        "outputId": "13dba7a8-a19f-49d1-cde2-8fa39a7b7e06"
      },
      "execution_count": null,
      "outputs": [
        {
          "output_type": "execute_result",
          "data": {
            "text/plain": [
              "'i'"
            ],
            "application/vnd.google.colaboratory.intrinsic+json": {
              "type": "string"
            }
          },
          "metadata": {},
          "execution_count": 16
        }
      ]
    },
    {
      "cell_type": "markdown",
      "source": [
        "**16. What is the procedure for making a normal expression in regax case insensitive?**"
      ],
      "metadata": {
        "id": "jSa_dmcavi12"
      }
    },
    {
      "cell_type": "markdown",
      "source": [
        "```\n",
        "Passing re.I or re.IGNOURCASE as the second argument to re.compile() will making the matching case insensitive.\n",
        "```"
      ],
      "metadata": {
        "id": "3Pd6GYRBwG-w"
      }
    },
    {
      "cell_type": "code",
      "source": [
        "caseinsens = re.compile(r'machine', re.I)\n",
        "caseinsens.search('Machine Learning is a part of data science').group()\n"
      ],
      "metadata": {
        "colab": {
          "base_uri": "https://localhost:8080/",
          "height": 35
        },
        "id": "rVWxTmGpvClQ",
        "outputId": "36f9e27b-9486-4a6e-9a5f-d67838a686a9"
      },
      "execution_count": null,
      "outputs": [
        {
          "output_type": "execute_result",
          "data": {
            "text/plain": [
              "'Machine'"
            ],
            "application/vnd.google.colaboratory.intrinsic+json": {
              "type": "string"
            }
          },
          "metadata": {},
          "execution_count": 18
        }
      ]
    },
    {
      "cell_type": "code",
      "source": [
        "caseinsens.search('MACHINE is Learning').group()"
      ],
      "metadata": {
        "colab": {
          "base_uri": "https://localhost:8080/",
          "height": 35
        },
        "id": "q0X4F0UnxDtI",
        "outputId": "3147380b-228f-4e67-91fc-53a564bf1a6b"
      },
      "execution_count": null,
      "outputs": [
        {
          "output_type": "execute_result",
          "data": {
            "text/plain": [
              "'MACHINE'"
            ],
            "application/vnd.google.colaboratory.intrinsic+json": {
              "type": "string"
            }
          },
          "metadata": {},
          "execution_count": 19
        }
      ]
    },
    {
      "cell_type": "markdown",
      "source": [
        "**17. What does the . character normally match? What does it match if re.DOTALL is passed as 2nd argument in re.compile()?**"
      ],
      "metadata": {
        "id": "oGcI-g8VxkRd"
      }
    },
    {
      "cell_type": "markdown",
      "source": [
        "```\n",
        "The dot character normally matchs any character except the newline charcter.\n",
        "The re.DOTALL is passed as a second argument in re.compile(), then the dot also matches the newlines characters.\n",
        "```"
      ],
      "metadata": {
        "id": "w-QLXGBWxsVO"
      }
    },
    {
      "cell_type": "markdown",
      "source": [
        "**18. If numReg = re.compile(r'\\d+'), what will numRegex.sub('X','11 drummers, 10 pipers, five rings, 4 hen') return?**"
      ],
      "metadata": {
        "id": "8yrgs_T2zEsX"
      }
    },
    {
      "cell_type": "code",
      "source": [
        "numReg = re.compile(r'\\d+')\n",
        "mo = numReg.sub('X','11 drummers, 10pipers, five rings, 4 hen')\n",
        "mo"
      ],
      "metadata": {
        "colab": {
          "base_uri": "https://localhost:8080/",
          "height": 35
        },
        "id": "ZTbwE6Amxizu",
        "outputId": "bf3bfb63-7931-4f57-ecee-048d39efc973"
      },
      "execution_count": null,
      "outputs": [
        {
          "output_type": "execute_result",
          "data": {
            "text/plain": [
              "'X drummers, Xpipers, five rings, X hen'"
            ],
            "application/vnd.google.colaboratory.intrinsic+json": {
              "type": "string"
            }
          },
          "metadata": {},
          "execution_count": 21
        }
      ]
    },
    {
      "cell_type": "markdown",
      "source": [
        "**19. What does passing re.VERBOSE as the 2nd argument to re.compile() allow to do?**"
      ],
      "metadata": {
        "id": "LwGm1FTg2KS1"
      }
    },
    {
      "cell_type": "markdown",
      "source": [
        "```\n",
        "The re.VERBOSE argument allows you to add whitespace and comment to the string passed to re.compile()\n",
        "```"
      ],
      "metadata": {
        "id": "u4uNSxBn2TIF"
      }
    },
    {
      "cell_type": "markdown",
      "source": [
        "**20. How would you write a regex that match a number with comma for every three digits? It must\n",
        "match the given following:**\n",
        "\n",
        "* '42'\n",
        "* '1,234'\n",
        "* '6,368,745'\n",
        "\n"
      ],
      "metadata": {
        "id": "JlxWSb_r2uyr"
      }
    },
    {
      "cell_type": "code",
      "source": [
        "reg1 = re.compile(r'^\\d{1,3}(,\\d{3})*$')\n",
        "mo1 = reg1.search('42')\n",
        "mo1.group()"
      ],
      "metadata": {
        "id": "-cMsaSp-15A8",
        "colab": {
          "base_uri": "https://localhost:8080/",
          "height": 35
        },
        "outputId": "f8d7d4f4-db0a-4f14-c74e-c7dcc6f718d3"
      },
      "execution_count": 8,
      "outputs": [
        {
          "output_type": "execute_result",
          "data": {
            "text/plain": [
              "'42'"
            ],
            "application/vnd.google.colaboratory.intrinsic+json": {
              "type": "string"
            }
          },
          "metadata": {},
          "execution_count": 8
        }
      ]
    },
    {
      "cell_type": "code",
      "source": [
        "reg1 = re.compile(r'^\\d{1,3}(,\\d{3})*$')\n",
        "mo1 = reg1.search('1,234')\n",
        "mo1.group()"
      ],
      "metadata": {
        "colab": {
          "base_uri": "https://localhost:8080/",
          "height": 35
        },
        "id": "6F8zaD3DOXm_",
        "outputId": "1b1eb8e5-39b8-46d5-c9e8-3ea3aa48eae1"
      },
      "execution_count": 9,
      "outputs": [
        {
          "output_type": "execute_result",
          "data": {
            "text/plain": [
              "'1,234'"
            ],
            "application/vnd.google.colaboratory.intrinsic+json": {
              "type": "string"
            }
          },
          "metadata": {},
          "execution_count": 9
        }
      ]
    },
    {
      "cell_type": "code",
      "source": [
        "reg1 = re.compile(r'^\\d{1,3}(,\\d{3})*$')\n",
        "mo1 = reg1.search('6,368,745')\n",
        "mo1.group()"
      ],
      "metadata": {
        "colab": {
          "base_uri": "https://localhost:8080/",
          "height": 35
        },
        "id": "qahzMPY1PGTZ",
        "outputId": "6d5be78c-c770-45ae-8d25-44dd60325e27"
      },
      "execution_count": 13,
      "outputs": [
        {
          "output_type": "execute_result",
          "data": {
            "text/plain": [
              "'6,368,745'"
            ],
            "application/vnd.google.colaboratory.intrinsic+json": {
              "type": "string"
            }
          },
          "metadata": {},
          "execution_count": 13
        }
      ]
    },
    {
      "cell_type": "markdown",
      "source": [
        "**21. How would you write a regex that matches the full name of someone whose last name is\n",
        "Watanabe? You can assume that the first name that comes before it will always be one word that\n",
        "begins with a capital letter. The regex must match the following:**"
      ],
      "metadata": {
        "id": "fGcM5fViPVwx"
      }
    },
    {
      "cell_type": "markdown",
      "source": [
        "* 'Haruto Watanabe'\n",
        "* 'Alice Watanabe&'\n",
        "* 'RoboCop Watanabe'"
      ],
      "metadata": {
        "id": "8jwhO7KEPX1E"
      }
    },
    {
      "cell_type": "code",
      "source": [
        "name = re.compile(r'[A-Z][a-z]*\\sWatanabe')\n",
        "reg1 = re.compile(r'^\\d{1,3}(,\\d{haruto Watanabe3})*$')\n",
        "mo1 = name.search('Haruto Watanabe')\n",
        "mo1.group()"
      ],
      "metadata": {
        "colab": {
          "base_uri": "https://localhost:8080/",
          "height": 35
        },
        "id": "XlcreQNUPKhL",
        "outputId": "078a80c6-3a72-4101-a0f7-5622c1e9d135"
      },
      "execution_count": 2,
      "outputs": [
        {
          "output_type": "execute_result",
          "data": {
            "text/plain": [
              "'Haruto Watanabe'"
            ],
            "application/vnd.google.colaboratory.intrinsic+json": {
              "type": "string"
            }
          },
          "metadata": {},
          "execution_count": 2
        }
      ]
    },
    {
      "cell_type": "code",
      "source": [
        "name = re.compile(r'[A-Z][a-z]*\\sWatanabe')\n",
        "reg1 = re.compile(r'^\\d{1,3}(,\\d{3})*$')\n",
        "mo1 = name.search('Alice Watanabe')\n",
        "mo1.group()"
      ],
      "metadata": {
        "colab": {
          "base_uri": "https://localhost:8080/",
          "height": 35
        },
        "id": "ZoSf5UlgR6pH",
        "outputId": "810f2164-a209-4faa-85a1-1fc70b66e428"
      },
      "execution_count": 3,
      "outputs": [
        {
          "output_type": "execute_result",
          "data": {
            "text/plain": [
              "'Alice Watanabe'"
            ],
            "application/vnd.google.colaboratory.intrinsic+json": {
              "type": "string"
            }
          },
          "metadata": {},
          "execution_count": 3
        }
      ]
    },
    {
      "cell_type": "code",
      "source": [
        "name = re.compile(r'[A-Z][a-z]*\\sWatanabe')\n",
        "reg1 = re.compile(r'^\\d{1,3}(,\\d{3})*$')\n",
        "mo1 = name.search('Robocop Watanabe')\n",
        "mo1.group()"
      ],
      "metadata": {
        "colab": {
          "base_uri": "https://localhost:8080/",
          "height": 35
        },
        "id": "7IvqrzX5R8Pk",
        "outputId": "895dd25e-9720-42d9-ce5d-e8b159051d3f"
      },
      "execution_count": 4,
      "outputs": [
        {
          "output_type": "execute_result",
          "data": {
            "text/plain": [
              "'Robocop Watanabe'"
            ],
            "application/vnd.google.colaboratory.intrinsic+json": {
              "type": "string"
            }
          },
          "metadata": {},
          "execution_count": 4
        }
      ]
    },
    {
      "cell_type": "markdown",
      "source": [
        "**22. How would you write a regex that matches a sentence where the first word is either Alice, Bob,or Carol; the second word is either eats, pets, or throws; the third word is apples, cats, or baseballs; and the sentence ends with a period? This regex should be case-insensitive. It must match the following:**"
      ],
      "metadata": {
        "id": "_iOweTbdSF6a"
      }
    },
    {
      "cell_type": "markdown",
      "source": [
        "* 'Alice eats apples.'\n",
        "* 'Bob pets cats.'\n",
        "* 'Carol throws baseballs.'\n",
        "* 'Alice throws Apples.'\n",
        "* 'BOB EATS CATS.'\n",
        "but not the following:\n",
        "* 'RoboCop eats apples.'\n",
        "* 'ALICE THROWS FOOTBALLS.'\n",
        "* 'Carol eats 7 cats.'"
      ],
      "metadata": {
        "id": "Wqtu2myBTYbm"
      }
    },
    {
      "cell_type": "code",
      "source": [
        "import re\n",
        "pattern = r\"^(Alice|Bob|Carol)\\s+(eats|pets|throws)\\s+(apples|cats|baseballs)\\.$\"\n",
        "sentences = [\n",
        "    \"Alice eats apples.\",\n",
        "    \"Bob pets cats.\",\n",
        "    \"Carol throws baseballs.\",\n",
        "    \"Alice throws Apples.\",\n",
        "    \"BOB EATS CATS.\",\n",
        "    \"RoboCop eats apples.\",\n",
        "    \"ALICE THROWS FOOTBALLS.\",\n",
        "    \"Carol eats 7 cats.\"]\n",
        "for sentence in sentences:\n",
        "    if re.match(pattern, sentence, re.IGNORECASE):\n",
        "        print(f\"Matched: {sentence}\")\n",
        "    else:\n",
        "        print(f\"Not matched: {sentence}\")\n"
      ],
      "metadata": {
        "colab": {
          "base_uri": "https://localhost:8080/"
        },
        "id": "oQoogGECSAka",
        "outputId": "07e65471-a5e6-4b89-cf33-0519c7fc0727"
      },
      "execution_count": 5,
      "outputs": [
        {
          "output_type": "stream",
          "name": "stdout",
          "text": [
            "Matched: Alice eats apples.\n",
            "Matched: Bob pets cats.\n",
            "Matched: Carol throws baseballs.\n",
            "Matched: Alice throws Apples.\n",
            "Matched: BOB EATS CATS.\n",
            "Not matched: RoboCop eats apples.\n",
            "Not matched: ALICE THROWS FOOTBALLS.\n",
            "Not matched: Carol eats 7 cats.\n"
          ]
        }
      ]
    },
    {
      "cell_type": "markdown",
      "source": [
        "##For pattern explation\n",
        "* ^ asserts the start of the string.\n",
        "* (Alice|Bob|Carol) matches one of the specified names: Alice, Bob, or Carol.\n",
        "* | represents the logical OR operator, allowing any of the names to be matched.\n",
        "* \\s+ matches one or more whitespace characters (spaces) between words.\n",
        "* \\s matches a single whitespace character.\n",
        "* + quantifier ensures that one or more whitespace characters are matched.\n",
        "* (eats|pets|throws) matches one of the specified actions: eats, pets, or throws.\n",
        "* Similarly to the names, the | operator allows any of the actions to be matched.\n",
        "* (apples|cats|baseballs) matches one of the specified objects: apples, cats, or baseballs.\n",
        "* Again, the | operator provides the choice between the objects.\n",
        "* \\. matches a period (.) character.\n",
        "* The period is escaped with a backslash to ensure it matches a literal period and doesn't act as a regex metacharacter.\n",
        "* $ asserts the end of the string."
      ],
      "metadata": {
        "id": "X7VXlabsTI1Y"
      }
    }
  ]
}