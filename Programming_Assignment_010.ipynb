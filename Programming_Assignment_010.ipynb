{
  "nbformat": 4,
  "nbformat_minor": 0,
  "metadata": {
    "colab": {
      "provenance": [],
      "authorship_tag": "ABX9TyPm/fBnbxD4qxfGaOxXyYDK",
      "include_colab_link": true
    },
    "kernelspec": {
      "name": "python3",
      "display_name": "Python 3"
    },
    "language_info": {
      "name": "python"
    }
  },
  "cells": [
    {
      "cell_type": "markdown",
      "metadata": {
        "id": "view-in-github",
        "colab_type": "text"
      },
      "source": [
        "<a href=\"https://colab.research.google.com/github/sushantsekhar1/python_assignment/blob/python_assignment/Programming_Assignment_010.ipynb\" target=\"_parent\"><img src=\"https://colab.research.google.com/assets/colab-badge.svg\" alt=\"Open In Colab\"/></a>"
      ]
    },
    {
      "cell_type": "markdown",
      "source": [
        "**1. Write a Python program to find sum of elements in list?**"
      ],
      "metadata": {
        "id": "DvYqWm40hWZL"
      }
    },
    {
      "cell_type": "code",
      "execution_count": 3,
      "metadata": {
        "colab": {
          "base_uri": "https://localhost:8080/"
        },
        "id": "mt-Zxc8ihTAp",
        "outputId": "9321d107-5385-474d-cd60-f4ea1f57c120"
      },
      "outputs": [
        {
          "output_type": "stream",
          "name": "stdout",
          "text": [
            "[2, 3, 4, 5]\n",
            "The Sum of element in the List: 14\n"
          ]
        }
      ],
      "source": [
        "def sum_of_list(list):\n",
        "  sum = 0\n",
        "  for i in range(len(list)):\n",
        "    sum += list[i]\n",
        "  return sum\n",
        "\n",
        "list = [2,3,4,5]\n",
        "print(list)\n",
        "print(f\"The Sum of element in the List: {sum_of_list(list)}\")\n"
      ]
    },
    {
      "cell_type": "markdown",
      "source": [
        "**2. Write a Python program to Multiply all numbers in the list?**"
      ],
      "metadata": {
        "id": "h9iKIc9Y9UrH"
      }
    },
    {
      "cell_type": "code",
      "source": [
        "def mul_of_list(list):\n",
        "  mul = 1\n",
        "  for i in range(len(list)):\n",
        "    mul *= list[i]\n",
        "  return mul\n",
        "\n",
        "list = [2,3,4,5]\n",
        "print(list)\n",
        "print(f\"The Sum of element in the List: {mul_of_list(list)}\")\n"
      ],
      "metadata": {
        "colab": {
          "base_uri": "https://localhost:8080/"
        },
        "id": "LW_eOKeI9WGG",
        "outputId": "d74c7715-4567-4fbf-a928-e335640b55f5"
      },
      "execution_count": 11,
      "outputs": [
        {
          "output_type": "stream",
          "name": "stdout",
          "text": [
            "[2, 3, 4, 5]\n",
            "The Sum of element in the List: 120\n"
          ]
        }
      ]
    },
    {
      "cell_type": "markdown",
      "source": [
        "**3. Write a Python program to find smallest number in a list?**"
      ],
      "metadata": {
        "id": "Q3SPtTTZ-Y9d"
      }
    },
    {
      "cell_type": "code",
      "source": [
        "def small_num(list):\n",
        "  small = list[0]\n",
        "  for i in list:\n",
        "    if i < small:\n",
        "      small = i\n",
        "  return small\n",
        "\n",
        "list = [4,5,2,1,7]\n",
        "print(list)\n",
        "print(f\"The Smallest Number in a List: {small_num(list)}\")"
      ],
      "metadata": {
        "colab": {
          "base_uri": "https://localhost:8080/"
        },
        "id": "opmPrf7v9iMR",
        "outputId": "a26ad3ff-eba2-4674-8b5c-3152b3ea2be2"
      },
      "execution_count": 14,
      "outputs": [
        {
          "output_type": "stream",
          "name": "stdout",
          "text": [
            "[4, 5, 2, 1, 7]\n",
            "The Smallest Number in a List: 1\n"
          ]
        }
      ]
    },
    {
      "cell_type": "markdown",
      "source": [
        "**4. Write a Python program to find largest number in a list?**"
      ],
      "metadata": {
        "id": "aLQt4j2pBJZX"
      }
    },
    {
      "cell_type": "code",
      "source": [
        "def largest_num(list):\n",
        "  large = list[0]\n",
        "  for i in list:\n",
        "    if i > large:\n",
        "      large = i\n",
        "  return large\n",
        "\n",
        "list = [4,5,2,1,7]\n",
        "print(list)\n",
        "print(f\"The Largest Number in a List: {largest_num(list)}\")"
      ],
      "metadata": {
        "colab": {
          "base_uri": "https://localhost:8080/"
        },
        "id": "Y4UYL28EAICd",
        "outputId": "378f17cc-bd01-4418-bb9d-6690ef8f66d5"
      },
      "execution_count": 16,
      "outputs": [
        {
          "output_type": "stream",
          "name": "stdout",
          "text": [
            "[4, 5, 2, 1, 7]\n",
            "The Largest Number in a List: 7\n"
          ]
        }
      ]
    },
    {
      "cell_type": "markdown",
      "source": [
        "**5. Write a Python program to find second largest number in a list?**"
      ],
      "metadata": {
        "id": "87-qogNTJGJE"
      }
    },
    {
      "cell_type": "code",
      "source": [
        "def second_largest(list):\n",
        "  list.sort()\n",
        "  return list[-2]\n",
        "\n",
        "li = []\n",
        "n = int(input(\"Enter the size of list: \"))\n",
        "for i in range(0, n):\n",
        "  a = int(input(\"Enter the element of list:\"))\n",
        "  li.append(a)\n",
        "print(f\"The Second Largest Number in the List: {second_largest(li)}\")\n"
      ],
      "metadata": {
        "colab": {
          "base_uri": "https://localhost:8080/"
        },
        "id": "AUn57y_1BleV",
        "outputId": "5ecbf213-b5fc-454d-f3a4-f488a447025a"
      },
      "execution_count": 4,
      "outputs": [
        {
          "output_type": "stream",
          "name": "stdout",
          "text": [
            "Enter the size of list: 5\n",
            "Enter the element of list:4\n",
            "Enter the element of list:5\n",
            "Enter the element of list:1\n",
            "Enter the element of list:7\n",
            "Enter the element of list:2\n",
            "The Second Largest Number in the List: 5\n"
          ]
        }
      ]
    },
    {
      "cell_type": "markdown",
      "source": [
        "**6. Write a Python program to find N largest elements from a list?**"
      ],
      "metadata": {
        "id": "1VdyX5hjMnZ5"
      }
    },
    {
      "cell_type": "code",
      "source": [
        "def second_largest(list, N):\n",
        "  list.sort()\n",
        "  return list[-N:]\n",
        "\n",
        "li = []\n",
        "n = int(input(\"Enter the size of list: \"))\n",
        "for i in range(0, n):\n",
        "  a = int(input(\"Enter the element of list:\"))\n",
        "  li.append(a)\n",
        "\n",
        "n  = int(input(\"Enter the N:\"))\n",
        "print(f\"{n} max element in the list: {li}\")\n",
        "print(f\"The N Largest Number in the List: {second_largest(li, n)}\")\n"
      ],
      "metadata": {
        "colab": {
          "base_uri": "https://localhost:8080/"
        },
        "id": "zyA-vrDkMq4D",
        "outputId": "51894a2c-79db-4a01-8f71-f60b61041cc2"
      },
      "execution_count": 9,
      "outputs": [
        {
          "output_type": "stream",
          "name": "stdout",
          "text": [
            "Enter the size of list: 5\n",
            "Enter the element of list:4\n",
            "Enter the element of list:6\n",
            "Enter the element of list:9\n",
            "Enter the element of list:7\n",
            "Enter the element of list:2\n",
            "Enter the N:2\n",
            "2 max element in the list: [4, 6, 9, 7, 2]\n",
            "The N Largest Number in the List: [7, 9]\n"
          ]
        }
      ]
    },
    {
      "cell_type": "markdown",
      "source": [
        "**7. Write a Python program to print even numbers in a list?**"
      ],
      "metadata": {
        "id": "p16tZTMmPOIJ"
      }
    },
    {
      "cell_type": "code",
      "source": [
        "def is_even(lis):\n",
        "  even  = []\n",
        "  for i in lis:\n",
        "    if i % 2 == 0:\n",
        "      even.append(i)\n",
        "  return even\n",
        "\n",
        "lis = []\n",
        "n = int(input(\"Enter the size of list: \"))\n",
        "for i in range(0, n):\n",
        "  a = int(input(\"Enter the element of list: \"))\n",
        "  lis.append(a)\n",
        "print(f\"Even Number: {is_even(lis)}\")\n"
      ],
      "metadata": {
        "colab": {
          "base_uri": "https://localhost:8080/"
        },
        "id": "MGvRniWJPiW3",
        "outputId": "e6dbfd0e-d239-41d0-ba18-9a737e2f24b9"
      },
      "execution_count": 1,
      "outputs": [
        {
          "output_type": "stream",
          "name": "stdout",
          "text": [
            "Enter the size of list: 7\n",
            "Enter the element of list: 2\n",
            "Enter the element of list: 4\n",
            "Enter the element of list: 3\n",
            "Enter the element of list: 77\n",
            "Enter the element of list: 56\n",
            "Enter the element of list: 45\n",
            "Enter the element of list: 34\n",
            "Even Number: [2, 4, 56, 34]\n"
          ]
        }
      ]
    },
    {
      "cell_type": "markdown",
      "source": [
        "**8. Write a Python program to print odd numbers in a List?**"
      ],
      "metadata": {
        "id": "J09H5iaHSht3"
      }
    },
    {
      "cell_type": "code",
      "source": [
        "def is_even(lis):\n",
        "  even  = []\n",
        "  for i in lis:\n",
        "    if i % 2 != 0:\n",
        "      even.append(i)\n",
        "  return even\n",
        "\n",
        "lis = []\n",
        "n = int(input(\"Enter the size of list: \"))\n",
        "for i in range(0, n):\n",
        "  a = int(input(\"Enter the element of list: \"))\n",
        "  lis.append(a)\n",
        "print(f\"Even Number: {is_even(lis)}\")\n"
      ],
      "metadata": {
        "colab": {
          "base_uri": "https://localhost:8080/"
        },
        "id": "XM2iyRcnSjaj",
        "outputId": "129e3437-dc3e-47fb-b7f1-3d555f91d537"
      },
      "execution_count": 2,
      "outputs": [
        {
          "output_type": "stream",
          "name": "stdout",
          "text": [
            "Enter the size of list: 7\n",
            "Enter the element of list: 2\n",
            "Enter the element of list: 5\n",
            "Enter the element of list: 67\n",
            "Enter the element of list: 4\n",
            "Enter the element of list: 54\n",
            "Enter the element of list: 1\n",
            "Enter the element of list: 99\n",
            "Even Number: [5, 67, 1, 99]\n"
          ]
        }
      ]
    },
    {
      "cell_type": "markdown",
      "source": [
        "**9. Write a Python program to Remove empty List from List?**"
      ],
      "metadata": {
        "id": "x2iK3i6CSy2E"
      }
    },
    {
      "cell_type": "code",
      "source": [
        "list = [[],[],'Red', 'Green', [2,4], [4,5,6],[]]\n",
        "print(f\"The Original List: {list}\")\n",
        "print(f\"After deleting the list: {[x for x in list if x]}\")"
      ],
      "metadata": {
        "colab": {
          "base_uri": "https://localhost:8080/"
        },
        "id": "0H6chTTHSnno",
        "outputId": "11b994a3-dd65-4619-a7d3-08ce0843fc5d"
      },
      "execution_count": 2,
      "outputs": [
        {
          "output_type": "stream",
          "name": "stdout",
          "text": [
            "The Original List: [[], [], 'Red', 'Green', [2, 4], [4, 5, 6], []]\n",
            "After deleting the list: ['Red', 'Green', [2, 4], [4, 5, 6]]\n"
          ]
        }
      ]
    },
    {
      "cell_type": "markdown",
      "source": [
        "**10. Write a Python program to Cloning or Copying a list?**"
      ],
      "metadata": {
        "id": "O8kj6S7rqiBE"
      }
    },
    {
      "cell_type": "code",
      "source": [
        "def cloning(list1):\n",
        "  list_copy = list1[:]\n",
        "  return list_copy\n",
        "\n",
        "list1 = []\n",
        "n = int(input(\"Enter the size of list: \"))\n",
        "for i in range(0, n):\n",
        "  a = int(input(\"Enter the element of List: \"))\n",
        "  list1.append(a)\n",
        "\n",
        "print(f\"Original List: {list1}\")\n",
        "print(f\"The Copying List is : {cloning(list1)}\")\n"
      ],
      "metadata": {
        "colab": {
          "base_uri": "https://localhost:8080/"
        },
        "id": "yl3SFgsLqKZE",
        "outputId": "704e92a2-8860-4846-dd1b-ff09abddc59d"
      },
      "execution_count": 2,
      "outputs": [
        {
          "output_type": "stream",
          "name": "stdout",
          "text": [
            "Enter the size of list: 5\n",
            "Enter the element of List: 23\n",
            "Enter the element of List: 66\n",
            "Enter the element of List: 99\n",
            "Enter the element of List: 1\n",
            "Enter the element of List: 7\n",
            "Original List: [23, 66, 99, 1, 7]\n",
            "The Copying List is : [23, 66, 99, 1, 7]\n"
          ]
        }
      ]
    },
    {
      "cell_type": "markdown",
      "source": [
        "**11. Write a Python program to Count occurrences of an element in a list?**"
      ],
      "metadata": {
        "id": "Q8bXT2ofuNHi"
      }
    },
    {
      "cell_type": "code",
      "source": [
        "def occur_list(list, c):\n",
        "  count = 0\n",
        "  for i in list:\n",
        "    if(i == c):\n",
        "      count += 1\n",
        "  return count\n",
        "\n",
        "list = []\n",
        "n = int(input(\"Enter the size of the List: \"))\n",
        "for i in  range(0, n):\n",
        "  a = int(input(\"Enter the element of the List: \"))\n",
        "  list.append(a)\n",
        "\n",
        "print(f\"Original List: {list}\")\n",
        "\n",
        "c = int(input(\"Enter the Element to be checked in the List: \"))\n",
        "print(f\"{c} has occured {occur_list(list, c)} times\")"
      ],
      "metadata": {
        "colab": {
          "base_uri": "https://localhost:8080/"
        },
        "id": "BcdGpoNLroYu",
        "outputId": "af87afe9-c5a5-4393-a53d-4f28405cb950"
      },
      "execution_count": 8,
      "outputs": [
        {
          "output_type": "stream",
          "name": "stdout",
          "text": [
            "Enter the size of the List: 6\n",
            "Enter the element of the List: 1\n",
            "Enter the element of the List: 4\n",
            "Enter the element of the List: 1\n",
            "Enter the element of the List: 8\n",
            "Enter the element of the List: 3\n",
            "Enter the element of the List: 1\n",
            "Original List: [1, 4, 1, 8, 3, 1]\n",
            "Enter the Element to be checked in the List: 1\n",
            "1 has occured 3 times\n"
          ]
        }
      ]
    },
    {
      "cell_type": "code",
      "source": [],
      "metadata": {
        "id": "qU8wWWbHwbw6"
      },
      "execution_count": null,
      "outputs": []
    }
  ]
}