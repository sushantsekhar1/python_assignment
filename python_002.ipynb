{
  "nbformat": 4,
  "nbformat_minor": 0,
  "metadata": {
    "colab": {
      "provenance": [],
      "authorship_tag": "ABX9TyPwqEGp5ZNBeqJyEXBhdBmN",
      "include_colab_link": true
    },
    "kernelspec": {
      "name": "python3",
      "display_name": "Python 3"
    },
    "language_info": {
      "name": "python"
    }
  },
  "cells": [
    {
      "cell_type": "markdown",
      "metadata": {
        "id": "view-in-github",
        "colab_type": "text"
      },
      "source": [
        "<a href=\"https://colab.research.google.com/github/sushantsekhar1/python_assignment/blob/python_assignment/python_002.ipynb\" target=\"_parent\"><img src=\"https://colab.research.google.com/assets/colab-badge.svg\" alt=\"Open In Colab\"/></a>"
      ]
    },
    {
      "cell_type": "markdown",
      "source": [
        "Write a Python program that accepts a string and calculate the number of digits and letters."
      ],
      "metadata": {
        "id": "rAJ5PfCzQABB"
      }
    },
    {
      "cell_type": "code",
      "execution_count": 5,
      "metadata": {
        "colab": {
          "base_uri": "https://localhost:8080/"
        },
        "id": "2rtwZ8G1P-uy",
        "outputId": "b2b86ff5-6e46-4176-9b96-02bea8a7c734"
      },
      "outputs": [
        {
          "output_type": "stream",
          "name": "stdout",
          "text": [
            "Enter the String: Qwer12ty45\n",
            "Digit: 4\n",
            "Letter: 6\n"
          ]
        }
      ],
      "source": [
        "# Taking input through user\n",
        "check = input(\"Enter the String: \")\n",
        "digit = 0\n",
        "alpha = 0\n",
        "# loop and condition checking\n",
        "for i in check:\n",
        "  if i.isdigit():\n",
        "    digit += 1\n",
        "  elif i.isalpha():\n",
        "    alpha += 1\n",
        "  else:\n",
        "    pass\n",
        "\n",
        "# Displaying how many letters and digits will be entered\n",
        "print(f\"Digit: {digit}\") \n",
        "print(f\"Letter: {alpha}\")"
      ]
    },
    {
      "cell_type": "code",
      "source": [],
      "metadata": {
        "id": "YmHSDr15SVX5"
      },
      "execution_count": null,
      "outputs": []
    }
  ]
}