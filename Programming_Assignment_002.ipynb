{
  "nbformat": 4,
  "nbformat_minor": 0,
  "metadata": {
    "colab": {
      "provenance": [],
      "authorship_tag": "ABX9TyOq/T9g0RhisE8O9w0c+6Wq",
      "include_colab_link": true
    },
    "kernelspec": {
      "name": "python3",
      "display_name": "Python 3"
    },
    "language_info": {
      "name": "python"
    }
  },
  "cells": [
    {
      "cell_type": "markdown",
      "metadata": {
        "id": "view-in-github",
        "colab_type": "text"
      },
      "source": [
        "<a href=\"https://colab.research.google.com/github/sushantsekhar1/python_assignment/blob/python_assignment/Programming_Assignment_002.ipynb\" target=\"_parent\"><img src=\"https://colab.research.google.com/assets/colab-badge.svg\" alt=\"Open In Colab\"/></a>"
      ]
    },
    {
      "cell_type": "markdown",
      "source": [
        "# **Programming Assignment_2**"
      ],
      "metadata": {
        "id": "eL1y7zBmLm5I"
      }
    },
    {
      "cell_type": "markdown",
      "source": [
        "**1. Write a Python program to convert kilometers to miles?**"
      ],
      "metadata": {
        "id": "J5Kkvg9LLsMd"
      }
    },
    {
      "cell_type": "code",
      "execution_count": 3,
      "metadata": {
        "colab": {
          "base_uri": "https://localhost:8080/"
        },
        "id": "2NnBaqJYLf5F",
        "outputId": "768f1f1f-c0bd-4657-9fc7-4c554a0db81d"
      },
      "outputs": [
        {
          "output_type": "stream",
          "name": "stdout",
          "text": [
            "Enter the Kilometer: 22.4\n",
            "The Conversion of Kilometers to Miles is 13.9104\n"
          ]
        }
      ],
      "source": [
        "kilo = float(input(\"Enter the Kilometer: \"))\n",
        "print(f\"The Conversion of Kilometers to Miles is {kilo * 0.621}\")"
      ]
    },
    {
      "cell_type": "markdown",
      "source": [
        "**2. Write a Python program to convert Celsius to Fahrenheit?**"
      ],
      "metadata": {
        "id": "gXw4OeBGNJQK"
      }
    },
    {
      "cell_type": "code",
      "source": [
        "cel = float(input(\"Enter the Celsius: \"))\n",
        "print(f\"The Conversion of Celsius to Fahrenheit is {(cel*1.8)+32}\")"
      ],
      "metadata": {
        "colab": {
          "base_uri": "https://localhost:8080/"
        },
        "id": "OlkpouI2NKZN",
        "outputId": "14d2b364-9f5b-43e8-e4ed-e47c639ceb4e"
      },
      "execution_count": 4,
      "outputs": [
        {
          "output_type": "stream",
          "name": "stdout",
          "text": [
            "Enter the Celsius: 22\n",
            "The Conversion of Celsius to Fahrenheit is 71.6\n"
          ]
        }
      ]
    },
    {
      "cell_type": "markdown",
      "source": [
        "**3. Write a Python program to display calendar?**"
      ],
      "metadata": {
        "id": "DERqEK6RN96c"
      }
    },
    {
      "cell_type": "code",
      "source": [
        "import calendar\n",
        "# Enter the month and year\n",
        "yy = int(input(\"Enter the Year: \"))\n",
        "mm  = int(input(\"Enter the Months: \"))\n",
        "\n",
        "#Display the Calendar\n",
        "print(calendar.month(yy,mm))"
      ],
      "metadata": {
        "colab": {
          "base_uri": "https://localhost:8080/"
        },
        "id": "DBeqOAQ7N2pd",
        "outputId": "448b6e82-42ae-4b13-a72a-fc541b064c80"
      },
      "execution_count": 6,
      "outputs": [
        {
          "output_type": "stream",
          "name": "stdout",
          "text": [
            "Enter the Year: 2023\n",
            "Enter the Months: 7\n",
            "     July 2023\n",
            "Mo Tu We Th Fr Sa Su\n",
            "                1  2\n",
            " 3  4  5  6  7  8  9\n",
            "10 11 12 13 14 15 16\n",
            "17 18 19 20 21 22 23\n",
            "24 25 26 27 28 29 30\n",
            "31\n",
            "\n"
          ]
        }
      ]
    },
    {
      "cell_type": "markdown",
      "source": [
        "**4. Write a Python program to solve quadratic equation?**"
      ],
      "metadata": {
        "id": "tT4Xyy2zPSOY"
      }
    },
    {
      "cell_type": "code",
      "source": [
        "from math import sqrt\n",
        "\n",
        "a = float(input(\"Enter the Coefficient of X^2: \"))\n",
        "b = float(input(\"Enter the Coefficient of X :\" ))\n",
        "c = float(input(\"Enter the Coefficient of constant: \"))\n",
        "\n",
        "d = b**2 - 4*a*c\n",
        "if d > 0:\n",
        "  x1 = (((-b) + sqrt(d)) / (2*a))\n",
        "  x2 = (((-b) - sqrt(d)) / (2*a))\n",
        "  print(f\"There are two roots is First Root: {x2} Second Root: {x1}\")\n",
        "elif d == 0:\n",
        "  x = (-b) / 2*a\n",
        "  print(f\"There is one root: {x}\")\n",
        "else:\n",
        "  print(f\"No roots, if d < 0\")\n"
      ],
      "metadata": {
        "colab": {
          "base_uri": "https://localhost:8080/"
        },
        "id": "cKxxYRarPCmZ",
        "outputId": "6c94f474-a489-465d-8584-fc64f9404974"
      },
      "execution_count": 11,
      "outputs": [
        {
          "output_type": "stream",
          "name": "stdout",
          "text": [
            "Enter the Coefficient of X^2: 1\n",
            "Enter the Coefficient of X :-11\n",
            "Enter the Coefficient of constant: 28\n",
            "There are two roots is First Root: 4.0 Second Root: 7.0\n"
          ]
        }
      ]
    },
    {
      "cell_type": "markdown",
      "source": [
        "**5. Write a Python program to swap two variables without temp variable?**"
      ],
      "metadata": {
        "id": "aHm98enQUbCW"
      }
    },
    {
      "cell_type": "code",
      "source": [
        "# Swappuing of Number without temp varaiable\n",
        "\n",
        "a = 4\n",
        "b = 5\n",
        "print(f\"Before Swapping Number A: {a} B: {b}\")\n",
        "\n",
        "a = a+b\n",
        "b = a-b\n",
        "a = a-b\n",
        "print(f\"After Swapping Number A: {a} B: {b}\")"
      ],
      "metadata": {
        "colab": {
          "base_uri": "https://localhost:8080/"
        },
        "id": "Yx-EyLO8Tcgu",
        "outputId": "4b636825-8198-43a9-c6eb-8dffc34ebafe"
      },
      "execution_count": 15,
      "outputs": [
        {
          "output_type": "stream",
          "name": "stdout",
          "text": [
            "Before Swapping Number A: 4 B: 5\n",
            "After Swapping Number A: 5 B: 4\n"
          ]
        }
      ]
    },
    {
      "cell_type": "code",
      "source": [],
      "metadata": {
        "id": "4YDkD5MhV5Du"
      },
      "execution_count": null,
      "outputs": []
    }
  ]
}