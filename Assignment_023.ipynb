{
  "nbformat": 4,
  "nbformat_minor": 0,
  "metadata": {
    "colab": {
      "provenance": [],
      "authorship_tag": "ABX9TyNuCQAp7HjiWlfzJ/1CPR0a",
      "include_colab_link": true
    },
    "kernelspec": {
      "name": "python3",
      "display_name": "Python 3"
    },
    "language_info": {
      "name": "python"
    }
  },
  "cells": [
    {
      "cell_type": "markdown",
      "metadata": {
        "id": "view-in-github",
        "colab_type": "text"
      },
      "source": [
        "<a href=\"https://colab.research.google.com/github/sushantsekhar1/python_assignment/blob/python_basic/Assignment_023.ipynb\" target=\"_parent\"><img src=\"https://colab.research.google.com/assets/colab-badge.svg\" alt=\"Open In Colab\"/></a>"
      ]
    },
    {
      "cell_type": "markdown",
      "source": [
        "#**PYTHON - 23**"
      ],
      "metadata": {
        "id": "msWP-GMVEpVn"
      }
    },
    {
      "cell_type": "markdown",
      "source": [
        "**1. What is the result of the code, and why?**\n",
        "```\n",
        ">>> def func(a, b=6, c=8):\n",
        " print(a, b, c)\n",
        ">>> func(1, 2)\n",
        "```"
      ],
      "metadata": {
        "id": "F1bmiFDVFJJe"
      }
    },
    {
      "cell_type": "code",
      "execution_count": 3,
      "metadata": {
        "colab": {
          "base_uri": "https://localhost:8080/"
        },
        "id": "_TpPGY7mEnFS",
        "outputId": "b2037cdd-2ba5-44c9-8a6f-c7274627b6f7"
      },
      "outputs": [
        {
          "output_type": "stream",
          "name": "stdout",
          "text": [
            "1 2 8\n"
          ]
        }
      ],
      "source": [
        "def func(a, b=6, c=8):\n",
        "  print(a, b, c)\n",
        "\n",
        "func(1,2)\n",
        "\n",
        "# This funtion is taking a positional argument and 2 keyword argument.\n",
        "# The b, and c, with default values of 6 and 8, When you call the function\n",
        "# func(1, 2), you're providing values for the first two parameters (a and b),\n",
        "# and the default value for the third parameter (c) will be used."
      ]
    },
    {
      "cell_type": "markdown",
      "source": [
        "**2. What is the result of this code, and why?**\n",
        "```\n",
        ">>> def func(a, b, c=5):\n",
        " print(a, b, c)\n",
        ">>> func(1, c=3, b=2)\n",
        "```"
      ],
      "metadata": {
        "id": "T_m0LWjfHcSS"
      }
    },
    {
      "cell_type": "code",
      "source": [
        "def func (a, b, c=5):\n",
        "  print(a, b, c)\n",
        "\n",
        "func(1, c=3, b=2)\n",
        "\n",
        "# The function func with three parameters: a, b, and c, where c has a default\n",
        "# value of 5. Then, you call the function func(1, c=3, b=2).\n",
        "\n",
        "# The print function is called with the values of a, b, and c, which are 1, 2,\n",
        "#  and 3, respectively."
      ],
      "metadata": {
        "colab": {
          "base_uri": "https://localhost:8080/"
        },
        "id": "Y2HFI2ZCFdxI",
        "outputId": "2c9a0e03-a16b-462f-a723-41bc83b010fc"
      },
      "execution_count": 6,
      "outputs": [
        {
          "output_type": "stream",
          "name": "stdout",
          "text": [
            "1 2 3\n"
          ]
        }
      ]
    },
    {
      "cell_type": "markdown",
      "source": [
        "**3. How about this code: what is its result, and why?**\n",
        "```\n",
        ">>> def func(a, *pargs):\n",
        "      print(a, pargs)\n",
        ">>> func(1, 2, 3)\n",
        "```"
      ],
      "metadata": {
        "id": "oPNHr6AJWD-k"
      }
    },
    {
      "cell_type": "code",
      "source": [
        "def func(a, *pargs):\n",
        "  print(a, pargs)\n",
        "func(1, 2, 3)\n",
        "# The return type of *args parameter is tuple,\n",
        "# where as **kargs will be dictionary."
      ],
      "metadata": {
        "colab": {
          "base_uri": "https://localhost:8080/"
        },
        "id": "hW-UNEjZH4xM",
        "outputId": "15a1d213-5cc3-450d-c7bf-adeef5ac3497"
      },
      "execution_count": 8,
      "outputs": [
        {
          "output_type": "stream",
          "name": "stdout",
          "text": [
            "1 (2, 3)\n"
          ]
        }
      ]
    },
    {
      "cell_type": "markdown",
      "source": [
        "**4. What does this code print, and why?**\n",
        "```\n",
        ">>> def func(a, **kargs):\n",
        "      print(a, kargs)\n",
        ">>> func(a=1, c=3, b=2)\n",
        "```"
      ],
      "metadata": {
        "id": "iwCgloZYXUG1"
      }
    },
    {
      "cell_type": "code",
      "source": [
        "def func(a,**kargs):\n",
        "  print(a, kargs)\n",
        "func(a=1, c=3, b=2)\n",
        "\n",
        "#The return type of  **kargs is  dictionary."
      ],
      "metadata": {
        "colab": {
          "base_uri": "https://localhost:8080/"
        },
        "id": "V0ItrFfOXGaz",
        "outputId": "17e9cfac-e76a-4aa4-b1ce-4cd87d411fa0"
      },
      "execution_count": 10,
      "outputs": [
        {
          "output_type": "stream",
          "name": "stdout",
          "text": [
            "1 {'c': 3, 'b': 2}\n"
          ]
        }
      ]
    },
    {
      "cell_type": "markdown",
      "source": [
        "**5. What gets printed by this, and explain?**\n",
        "```\n",
        ">>> def func(a, b, c=8, d=5):\n",
        "      print(a, b, c, d)\n",
        ">>> func(1, *(5, 6))\n",
        "```"
      ],
      "metadata": {
        "id": "LvApp2C1X496"
      }
    },
    {
      "cell_type": "code",
      "source": [
        "def func(a, b, c=8, d=5):\n",
        "  print(a, b, c, d)\n",
        "func(1, *(5,6))\n",
        "\n",
        "# '*' is the unpacking operator and are operators that unpack the values from iterable objects in Python. The single\n",
        "#    asterisk operator * can be used on any iterable that Python provides, while the double asterisk operator ** can only\n",
        "#   be used on dictionaries. In the example the value *(5,6) will be unpacked and will be assigned to b and c and passed\n",
        "#   as arguments, d =5 will taken by defaults are keyword arguments.\n"
      ],
      "metadata": {
        "colab": {
          "base_uri": "https://localhost:8080/"
        },
        "id": "2T02zsIaXvtr",
        "outputId": "8b5fb8d3-31b2-4834-d3ca-d6b2f7ab41fa"
      },
      "execution_count": 11,
      "outputs": [
        {
          "output_type": "stream",
          "name": "stdout",
          "text": [
            "1 5 6 5\n"
          ]
        }
      ]
    },
    {
      "cell_type": "markdown",
      "source": [
        "**6. what is the result of this, and explain?**\n",
        "```\n",
        ">>> def func(a, b, c): a = 2; b[0] = 'x'; c['a'] = 'y'\n",
        ">>> l=1; m=[1]; n={'a':0}\n",
        ">>> func(l, m, n)\n",
        ">>> l, m\n",
        "```"
      ],
      "metadata": {
        "id": "re6Xpg0wYukt"
      }
    },
    {
      "cell_type": "code",
      "source": [
        "def func(a, b, c): a = 2; b[0] = 'x'; c['a'] = 'y'\n",
        "l=1; m=[1]; n={'a':0}\n",
        "func(l, m, n)\n",
        "l,m\n",
        "\n",
        "# Ans. Here in the code, the list and dict are passed as argument, and those are mutable. Here the list l and parameter b point\n",
        "#to the same list in the memory location where as dict n and c point to the same memory location. Any updates to this\n",
        "#list will update in the memory location\n",
        "\n",
        "#l = 1 , integer values, immutable, m is list, mutable, n is dict, mutable."
      ],
      "metadata": {
        "colab": {
          "base_uri": "https://localhost:8080/"
        },
        "id": "bVl8uVDZYVl3",
        "outputId": "ce7c1fa9-5ab7-4429-c44c-c055dbe2d5d5"
      },
      "execution_count": 12,
      "outputs": [
        {
          "output_type": "execute_result",
          "data": {
            "text/plain": [
              "(1, ['x'])"
            ]
          },
          "metadata": {},
          "execution_count": 12
        }
      ]
    },
    {
      "cell_type": "code",
      "source": [],
      "metadata": {
        "id": "ajPm3a7TZLSj"
      },
      "execution_count": null,
      "outputs": []
    }
  ]
}