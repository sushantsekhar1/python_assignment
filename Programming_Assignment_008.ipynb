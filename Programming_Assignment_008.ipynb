{
  "nbformat": 4,
  "nbformat_minor": 0,
  "metadata": {
    "colab": {
      "provenance": [],
      "authorship_tag": "ABX9TyOYaqkO031UMvl2foQW5o1q",
      "include_colab_link": true
    },
    "kernelspec": {
      "name": "python3",
      "display_name": "Python 3"
    },
    "language_info": {
      "name": "python"
    }
  },
  "cells": [
    {
      "cell_type": "markdown",
      "metadata": {
        "id": "view-in-github",
        "colab_type": "text"
      },
      "source": [
        "<a href=\"https://colab.research.google.com/github/sushantsekhar1/python_assignment/blob/python_assignment/Programming_Assignment_008.ipynb\" target=\"_parent\"><img src=\"https://colab.research.google.com/assets/colab-badge.svg\" alt=\"Open In Colab\"/></a>"
      ]
    },
    {
      "cell_type": "markdown",
      "source": [
        "**1. Write a Python Program to Add Two Matrices?**"
      ],
      "metadata": {
        "id": "sod5IDMw-D-I"
      }
    },
    {
      "cell_type": "code",
      "execution_count": 3,
      "metadata": {
        "colab": {
          "base_uri": "https://localhost:8080/"
        },
        "id": "KwR0pziH-A2n",
        "outputId": "a14a9b77-fb15-4d7b-9b91-24c6dd4db6a2"
      },
      "outputs": [
        {
          "output_type": "stream",
          "name": "stdout",
          "text": [
            "The Sum of Two Matrices:\n",
            " [13, 7, 9]\n",
            " [19, 11, 14]\n",
            " [9, 38, 29]\n"
          ]
        }
      ],
      "source": [
        "x = [[1,2,3],[12,3,5],[5,6,7]]\n",
        "y = [[12,5,6],[7,8,9],[4,32,22]]\n",
        "\n",
        "result = [[0,0,0],[0,0,0],[0,0,0]]\n",
        "\n",
        "for i in range(len(x)):\n",
        "  for j in range(len(x[0])):\n",
        "    result[i][j] = x[i][j] + y[i][j]\n",
        "print(\"The Sum of Two Matrices:\")\n",
        "for r in result:\n",
        "  print(f\" {r}\")"
      ]
    },
    {
      "cell_type": "markdown",
      "source": [
        "**2. Write a Python Program to Multiply Two Matrices?**"
      ],
      "metadata": {
        "id": "wolhJCUL_fI6"
      }
    },
    {
      "cell_type": "code",
      "source": [
        "x = [[1,2,3],[12,3,5],[5,6,7]]\n",
        "y = [[12,5,6],[7,8,9],[4,32,22]]\n",
        "\n",
        "result = [[0,0,0],[0,0,0],[0,0,0]]\n",
        "\n",
        "for i in range(len(x)):\n",
        "  for j in range(len(x[0])):\n",
        "    result[i][j] = x[i][j] * y[i][j]\n",
        "print(\"The Multiply of Two Matrices:\")\n",
        "for r in result:\n",
        "  print(f\" {r}\")"
      ],
      "metadata": {
        "colab": {
          "base_uri": "https://localhost:8080/"
        },
        "id": "slYWH0At_Od3",
        "outputId": "cd0cec0a-0f0c-428d-bf23-bf05d8e70bc8"
      },
      "execution_count": 4,
      "outputs": [
        {
          "output_type": "stream",
          "name": "stdout",
          "text": [
            "The Multiply of Two Matrices:\n",
            " [12, 10, 18]\n",
            " [84, 24, 45]\n",
            " [20, 192, 154]\n"
          ]
        }
      ]
    },
    {
      "cell_type": "markdown",
      "source": [
        "**3. Write a Python Program to Transpose a Matrix?**"
      ],
      "metadata": {
        "id": "TFF4xSJU_qD8"
      }
    },
    {
      "cell_type": "code",
      "source": [
        "x = [[1,2,3],\n",
        "    [12,3,5],\n",
        "    [5,6,7]]\n",
        "\n",
        "result = [[0,0,0],[0,0,0],[0,0,0]]\n",
        "\n",
        "for i in range(len(x)):\n",
        "  for j in range(len(x[0])):\n",
        "    result[i][j] = x[j][i]\n",
        "print(\"The Transpose of Matrices:\")\n",
        "for r in result:\n",
        "  print(f\" {r}\")"
      ],
      "metadata": {
        "colab": {
          "base_uri": "https://localhost:8080/"
        },
        "id": "Xld7tsiv_lOx",
        "outputId": "54e2a3e9-eb74-4516-f02c-17e8042d1b5b"
      },
      "execution_count": 7,
      "outputs": [
        {
          "output_type": "stream",
          "name": "stdout",
          "text": [
            "The Transpose of Matrices:\n",
            " [1, 12, 5]\n",
            " [2, 3, 6]\n",
            " [3, 5, 7]\n"
          ]
        }
      ]
    },
    {
      "cell_type": "markdown",
      "source": [
        "***4. Write a Python Program to Sort Words in Alphabetic Order?**"
      ],
      "metadata": {
        "id": "BUjKvgYxARS4"
      }
    },
    {
      "cell_type": "code",
      "source": [
        "alpha = input(\"Enter the string:\")\n",
        "\n",
        "word = alpha.split(\" \")\n",
        "word.sort()\n",
        "\n",
        "for i in word:\n",
        "  print(i)"
      ],
      "metadata": {
        "colab": {
          "base_uri": "https://localhost:8080/"
        },
        "id": "AMIkFxXzAEUI",
        "outputId": "c79e9e59-5109-4679-fabd-bdd4d84887b1"
      },
      "execution_count": 13,
      "outputs": [
        {
          "output_type": "stream",
          "name": "stdout",
          "text": [
            "Enter the string:Python Program To Sort Words In Alphabetic Order\n",
            "Alphabetic\n",
            "In\n",
            "Order\n",
            "Program\n",
            "Python\n",
            "Sort\n",
            "To\n",
            "Words\n"
          ]
        }
      ]
    },
    {
      "cell_type": "markdown",
      "source": [
        "**5. Write a Python Program to Remove Punctuation From a String?**"
      ],
      "metadata": {
        "id": "Lh9UXfDLCeOu"
      }
    },
    {
      "cell_type": "code",
      "source": [
        "punctuation = '''!()-[]{};:'\"\\,<>./?@#$%^&*_~'''\n",
        "str1 = \"Hello!!!!!, Good --- Morning!$$.\"\n",
        "no_puct = \"\"\n",
        "for char in str1:\n",
        "  if char not in punctuation:\n",
        "    no_puct += char\n",
        "\n",
        "print(no_puct)"
      ],
      "metadata": {
        "colab": {
          "base_uri": "https://localhost:8080/"
        },
        "id": "9ifNhNQtBIue",
        "outputId": "78f9f46e-7766-4598-92a4-ce7ed3acb369"
      },
      "execution_count": 16,
      "outputs": [
        {
          "output_type": "stream",
          "name": "stdout",
          "text": [
            "Hello Good  Morning\n"
          ]
        }
      ]
    }
  ]
}