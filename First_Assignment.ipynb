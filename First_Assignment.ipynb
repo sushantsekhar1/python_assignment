{
  "nbformat": 4,
  "nbformat_minor": 0,
  "metadata": {
    "colab": {
      "provenance": [],
      "authorship_tag": "ABX9TyOQEvy1c/JuC3TVI/g3wXub",
      "include_colab_link": true
    },
    "kernelspec": {
      "name": "python3",
      "display_name": "Python 3"
    },
    "language_info": {
      "name": "python"
    }
  },
  "cells": [
    {
      "cell_type": "markdown",
      "metadata": {
        "id": "view-in-github",
        "colab_type": "text"
      },
      "source": [
        "<a href=\"https://colab.research.google.com/github/sushantsekhar1/python_assignment/blob/pre_placement/First_Assignment.ipynb\" target=\"_parent\"><img src=\"https://colab.research.google.com/assets/colab-badge.svg\" alt=\"Open In Colab\"/></a>"
      ]
    },
    {
      "cell_type": "markdown",
      "source": [
        "### Assignment - 01"
      ],
      "metadata": {
        "id": "-mcV5YwdVCa7"
      }
    },
    {
      "cell_type": "markdown",
      "source": [
        "```\n",
        "Q1.Given an array of integers nums and an integer target, return indices of the two numbers such that they add up to target.\n",
        "\n",
        "You may assume that each input would have exactly one solution, and you may not use the same element twice.\n",
        "\n",
        "You can return the answer in any order.\n",
        "\n",
        "**Example:**\n",
        "Input: nums = [2,7,11,15], target = 9\n",
        "Output0 [0,1]\n",
        "\n",
        "**Explanation:** Because nums[0] + nums[1] == 9, we return [0, 1]\n",
        "```"
      ],
      "metadata": {
        "id": "snnodJhwQvHH"
      }
    },
    {
      "cell_type": "code",
      "source": [
        "class Solution(object):\n",
        "    def twoSum(self, nums, target):\n",
        "        #Using Two pointers P1 and P2 to represent every possible pairs of the array.\n",
        "        for p1 in range(len(nums)):           \n",
        "             for p2 in range(p1+1, len(nums)): \n",
        "                #If one of those pairs add together equal to the target return the answer else return None.\n",
        "                 if nums[p1] + nums[p2] == target:    \n",
        "                    return [p1, p2]              \n",
        "        return 'None'                               "
      ],
      "metadata": {
        "id": "5S2BM_RpRF4h"
      },
      "execution_count": null,
      "outputs": []
    },
    {
      "cell_type": "code",
      "source": [
        "solution = Solution()\n",
        "nums = [2, 7, 11, 15]\n",
        "target = 9\n",
        "result = solution.twoSum(nums, target)\n",
        "print(result)\n"
      ],
      "metadata": {
        "colab": {
          "base_uri": "https://localhost:8080/"
        },
        "id": "6TSZWo7TfRWI",
        "outputId": "a86346eb-e1d0-483b-90e5-511e7b46a713"
      },
      "execution_count": null,
      "outputs": [
        {
          "output_type": "stream",
          "name": "stdout",
          "text": [
            "[0, 1]\n"
          ]
        }
      ]
    },
    {
      "cell_type": "markdown",
      "source": [
        "```\n",
        "Q2.Given an integer array nums and an integer val, remove all occurrences of val in nums in-place. The order of the elements may be changed. Then return the number of elements in nums which are not equal to val.\n",
        "\n",
        "Consider the number of elements in nums which are not equal to val be k, to get accepted, you need to do the following things:\n",
        "\n",
        "- Change the array nums such that the first k elements of nums contain the elements which are not equal to val. The remaining elements of nums are not important as well as the size of nums.\n",
        "- Return k.\n",
        "\n",
        "**Example :**\n",
        "Input: nums = [3,2,2,3], val = 3\n",
        "Output: 2, nums = [2,2,_*,_*]\n",
        "```"
      ],
      "metadata": {
        "id": "B6jXqRWffhcW"
      }
    },
    {
      "cell_type": "code",
      "source": [
        "def remove_Element(nums, val):\n",
        "    i = 0\n",
        "    j = 0\n",
        "\n",
        "    while j < len(nums):\n",
        "        if nums[j] != val:\n",
        "            nums[i] = nums[j]\n",
        "            i += 1\n",
        "        j += 1\n",
        "\n",
        "    return i\n"
      ],
      "metadata": {
        "id": "f-0rZhXKfwjm"
      },
      "execution_count": null,
      "outputs": []
    },
    {
      "cell_type": "code",
      "source": [
        "nums = [3, 2, 2, 3]\n",
        "val = 3\n",
        "\n",
        "result = remove_Element(nums, val)\n",
        "print(\"Output:\", result)\n",
        "print(\"nums:\", nums)\n"
      ],
      "metadata": {
        "colab": {
          "base_uri": "https://localhost:8080/"
        },
        "id": "FYbx479ZjA4R",
        "outputId": "da3bacc1-e175-41ec-8a35-91652c689f22"
      },
      "execution_count": null,
      "outputs": [
        {
          "output_type": "stream",
          "name": "stdout",
          "text": [
            "Output: 2\n",
            "nums: [2, 2, 2, 3]\n"
          ]
        }
      ]
    },
    {
      "cell_type": "markdown",
      "source": [
        "```\n",
        "Q3.Given a sorted array of distinct integers and a target value, return the index if the target is found. If not, return the index where it would be if it were inserted in order.\n",
        "\n",
        "You must write an algorithm with O(log n) runtime complexity.\n",
        "\n",
        "**Example 1:**\n",
        "Input: nums = [1,3,5,6], target = 5\n",
        "\n",
        "Output: 2\n",
        "```"
      ],
      "metadata": {
        "id": "fL3gtn68jLcR"
      }
    },
    {
      "cell_type": "code",
      "source": [
        "def search_Insert(nums,target):\n",
        "  left = 0\n",
        "  right = len(nums) - 1\n",
        "\n",
        "  while left <= right:\n",
        "    mid = (left+right)//2\n",
        "    if nums[mid] == target:\n",
        "      return mid\n",
        "    elif nums[mid] < target:\n",
        "      left = mid + 1\n",
        "    else:\n",
        "      right = mid - 1\n",
        "  return left"
      ],
      "metadata": {
        "id": "PfccftIajUeO"
      },
      "execution_count": null,
      "outputs": []
    },
    {
      "cell_type": "code",
      "source": [
        "nums = [1, 3, 5, 6]\n",
        "target = 5\n",
        "\n",
        "result = search_Insert(nums, target)\n",
        "print(\"Output:\", result)"
      ],
      "metadata": {
        "colab": {
          "base_uri": "https://localhost:8080/"
        },
        "id": "mO5lxmXWlQVt",
        "outputId": "fffa2b4e-e466-4c3f-c6eb-6d314b86c156"
      },
      "execution_count": null,
      "outputs": [
        {
          "output_type": "stream",
          "name": "stdout",
          "text": [
            "Output: 2\n"
          ]
        }
      ]
    },
    {
      "cell_type": "markdown",
      "source": [
        "```\n",
        "Step 1: Initilized the pointer left and right and it start from start and end of the array.\n",
        "\n",
        "Step 2: While left is less than equal to right we follow the followig conditions:\n",
        "           1. Calculate the middle index 'mid = (left+right)//2'\n",
        "           2. If the value at the middle index is equal to the target, return \n",
        "              the middle index.\n",
        "           3. If the value of middle index is greater than the target update right to mid - 1.\n",
        "           4. If the value of middle index is lesser than the target, update left to mid + 1\n",
        "Step 3: If the target is not found in the array, the left pointer will represent the index where the target would be inserted. and Return left.\n",
        "           \n",
        "\n",
        "\n",
        "\n"
      ],
      "metadata": {
        "id": "YpSXPD6MlNgo"
      }
    },
    {
      "cell_type": "markdown",
      "source": [
        "```\n",
        "Q4.You are given a large integer represented as an integer array digits, where each digits[i] is the ith digit of the integer. The digits are ordered from most significant to least significant in left-to-right order. The large integer does not contain any leading 0's.\n",
        "\n",
        "Increment the large integer by one and return the resulting array of digits.\n",
        "\n",
        "**Example 1:**\n",
        "Input: digits = [1,2,3]\n",
        "Output: [1,2,4]\n",
        "\n",
        "**Explanation:** The array represents the integer 123.\n",
        "\n",
        "Incrementing by one gives 123 + 1 = 124.\n",
        "Thus, the result should be [1,2,4].\n",
        "```"
      ],
      "metadata": {
        "id": "SzJUpfoO8e3U"
      }
    },
    {
      "cell_type": "code",
      "source": [
        "def larger_one(digits):\n",
        "  index = len(digits) -1\n",
        "\n",
        "  while (index >= 0 and index == 9):\n",
        "    digits[index] = 0\n",
        "    index -= 1\n",
        "\n",
        "  if (index < 0):\n",
        "    digits.insert(0,1)\n",
        "  else:\n",
        "    digits[index] += 1\n",
        "\n"
      ],
      "metadata": {
        "id": "pu86nolH8qCn"
      },
      "execution_count": null,
      "outputs": []
    },
    {
      "cell_type": "code",
      "source": [
        "digits = [1,2,3]\n",
        "larger_one(digits)\n",
        "for digit in digits:\n",
        "  print(digit, end = ' ')"
      ],
      "metadata": {
        "colab": {
          "base_uri": "https://localhost:8080/"
        },
        "id": "d-6q9sdE_jEz",
        "outputId": "0267cf9e-afc2-4352-dcf6-68ee49d5a9cf"
      },
      "execution_count": null,
      "outputs": [
        {
          "output_type": "stream",
          "name": "stdout",
          "text": [
            "1 2 4 "
          ]
        }
      ]
    },
    {
      "cell_type": "markdown",
      "source": [
        "```\n",
        "Q5. You are given two integer arrays nums1 and nums2, sorted in non-decreasing order, and two integers m and n, representing the number of elements in nums1 and nums2 respectively.\n",
        "\n",
        "Merge nums1 and nums2 into a single array sorted in non-decreasing order.\n",
        "\n",
        "The final sorted array should not be returned by the function, but instead be stored inside the array nums1. To accommodate this, nums1 has a length of m + n, where the first m elements denote the elements that should be merged, and the last n elements are set to 0 and should be ignored. nums2 has a length of n.\n",
        "\n",
        "**Example 1:**\n",
        "Input: nums1 = [1,2,3,0,0,0], m = 3, nums2 = [2,5,6], n = 3\n",
        "Output: [1,2,2,3,5,6]\n",
        "\n",
        "**Explanation:** The arrays we are merging are [1,2,3] and [2,5,6].\n",
        "The result of the merge is [1,2,2,3,5,6] with the underlined elements coming from nums1.\n",
        "```"
      ],
      "metadata": {
        "id": "BQnqzmC6Al2E"
      }
    },
    {
      "cell_type": "code",
      "source": [
        "def merge_number(num1, m, num2, n):\n",
        "  point1 = m-1\n",
        "  point2 = n-1\n",
        "\n",
        "  last_point = m + n -1\n",
        "\n",
        "  while point1 >= 0 and point2 >= 0:\n",
        "    if num1[point1] > num2[point2]:\n",
        "      num1[last_point] = num1[point1]\n",
        "      point1 -= 1\n",
        "    else:\n",
        "      num1[last_point] = num2[point2]\n",
        "      point2 -= 1\n",
        "    last_point -= 1\n",
        "\n",
        "  if point2 >= 0:\n",
        "    num1[:last_point + 1] = num2[:point1 + 1]      "
      ],
      "metadata": {
        "id": "GEj2dRsx_v40"
      },
      "execution_count": null,
      "outputs": []
    },
    {
      "cell_type": "code",
      "source": [
        "num1 = [1,2,3,0,0,0]\n",
        "m = 3\n",
        "num2 = [2,5,6]\n",
        "n = 3\n",
        "\n",
        "merge_number(num1, m, num2, n)\n",
        "print(num1)"
      ],
      "metadata": {
        "colab": {
          "base_uri": "https://localhost:8080/"
        },
        "id": "issndOlBI3BR",
        "outputId": "87d141a1-b5c1-4a41-a766-a8977cc152b9"
      },
      "execution_count": null,
      "outputs": [
        {
          "output_type": "stream",
          "name": "stdout",
          "text": [
            "[1, 2, 2, 3, 5, 6]\n"
          ]
        }
      ]
    },
    {
      "cell_type": "markdown",
      "source": [
        "```\n",
        "Q6. Given an integer array nums, return true if any value appears at least twice in the array, and return false if every element is distinct.\n",
        "\n",
        "**Example 1:**\n",
        "Input: nums = [1,2,3,1]\n",
        "\n",
        "Output: true\n",
        "```"
      ],
      "metadata": {
        "id": "S0reMowlKbPG"
      }
    },
    {
      "cell_type": "code",
      "source": [
        "def duplicate_value(digits):\n",
        "  for i in range(len(digits)):\n",
        "    for j in range(0, i):\n",
        "      if digits[i] == digits[j]:\n",
        "        return True\n",
        "  return False      "
      ],
      "metadata": {
        "id": "iKwBj-EJJNsR"
      },
      "execution_count": null,
      "outputs": []
    },
    {
      "cell_type": "code",
      "source": [
        "digits = [1, 2, 3, 1]\n",
        "result = duplicate_value(digits)\n",
        "print(result)"
      ],
      "metadata": {
        "colab": {
          "base_uri": "https://localhost:8080/"
        },
        "id": "G40qoER1L2fm",
        "outputId": "4323ca6c-b7e9-4d80-9e5a-1b56466c9307"
      },
      "execution_count": null,
      "outputs": [
        {
          "output_type": "stream",
          "name": "stdout",
          "text": [
            "True\n"
          ]
        }
      ]
    },
    {
      "cell_type": "markdown",
      "source": [
        "```\n",
        "Q7. Given an integer array nums, move all 0's to the end of it while maintaining the relative order of the nonzero elements.\n",
        "\n",
        "Note that you must do this in-place without making a copy of the array.\n",
        "\n",
        "**Example 1:**\n",
        "Input: nums = [0,1,0,3,12]\n",
        "Output: [1,3,12,0,0]\n",
        "```"
      ],
      "metadata": {
        "id": "vVLjTej_M5NJ"
      }
    },
    {
      "cell_type": "code",
      "source": [
        "def push_zero_to_end(arr, n):\n",
        "  \n",
        "  n = len(arr)\n",
        "  count = 0\n",
        "\n",
        "  for i in range(n):\n",
        "    if arr[i] != 0:\n",
        "      arr[count] = arr[i]\n",
        "      count += 1\n",
        "\n",
        "  while count < n:\n",
        "    arr[count] = 0\n",
        "    count += 1    "
      ],
      "metadata": {
        "id": "Uzl4C4TQNChz"
      },
      "execution_count": null,
      "outputs": []
    },
    {
      "cell_type": "code",
      "source": [
        "arr = [0, 1, 0, 3, 12]\n",
        "push_zero_to_end(arr, n)\n",
        "print(arr)"
      ],
      "metadata": {
        "colab": {
          "base_uri": "https://localhost:8080/"
        },
        "id": "pbrkhr7kOXFp",
        "outputId": "1715724f-b6bb-4b33-af46-34240a4f75aa"
      },
      "execution_count": null,
      "outputs": [
        {
          "output_type": "stream",
          "name": "stdout",
          "text": [
            "[1, 3, 12, 0, 0]\n"
          ]
        }
      ]
    },
    {
      "cell_type": "markdown",
      "source": [
        "```\n",
        "Q8. You have a set of integers s, which originally contains all the numbers from 1 to n. Unfortunately, due to some error, one of the numbers in s got duplicated to another number in the set, which results in repetition of one number and loss of another number.\n",
        "\n",
        "You are given an integer array nums representing the data status of this set after the error.\n",
        "\n",
        "Find the number that occurs twice and the number that is missing and return them in the form of an array.\n",
        "\n",
        "**Example 1:**\n",
        "Input: nums = [1,2,2,4]\n",
        "Output: [2,3]\n",
        "```"
      ],
      "metadata": {
        "id": "A1mpIW0UPAoo"
      }
    },
    {
      "cell_type": "code",
      "source": [
        "def missmatch_error(nums):\n",
        "    n = len(nums)\n",
        "    nums_set = set(nums)\n",
        "    duplicate = sum(nums) - sum(nums_set)\n",
        "    missing = (n * (n + 1) // 2) - sum(nums_set)\n",
        "    return [duplicate, missing]"
      ],
      "metadata": {
        "id": "ezfb971yUpbw"
      },
      "execution_count": null,
      "outputs": []
    },
    {
      "cell_type": "code",
      "source": [
        "nums = [1, 2, 2, 4]\n",
        "result = missmatch_error(nums)\n",
        "print(result)\n"
      ],
      "metadata": {
        "colab": {
          "base_uri": "https://localhost:8080/"
        },
        "id": "w6g5Lo9bRchj",
        "outputId": "da07dda7-f8b3-4c05-8ba7-e7e224c1423b"
      },
      "execution_count": null,
      "outputs": [
        {
          "output_type": "stream",
          "name": "stdout",
          "text": [
            "[2, 3]\n"
          ]
        }
      ]
    },
    {
      "cell_type": "code",
      "source": [],
      "metadata": {
        "id": "woTr1koRRt1P"
      },
      "execution_count": null,
      "outputs": []
    }
  ]
}