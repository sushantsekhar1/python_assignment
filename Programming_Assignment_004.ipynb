{
  "nbformat": 4,
  "nbformat_minor": 0,
  "metadata": {
    "colab": {
      "provenance": [],
      "authorship_tag": "ABX9TyOYi8nSb9p2rKckPsf3sI4b",
      "include_colab_link": true
    },
    "kernelspec": {
      "name": "python3",
      "display_name": "Python 3"
    },
    "language_info": {
      "name": "python"
    }
  },
  "cells": [
    {
      "cell_type": "markdown",
      "metadata": {
        "id": "view-in-github",
        "colab_type": "text"
      },
      "source": [
        "<a href=\"https://colab.research.google.com/github/sushantsekhar1/python_assignment/blob/python_assignment/Programming_Assignment_004.ipynb\" target=\"_parent\"><img src=\"https://colab.research.google.com/assets/colab-badge.svg\" alt=\"Open In Colab\"/></a>"
      ]
    },
    {
      "cell_type": "markdown",
      "source": [
        "## **Programming Assignment_4**"
      ],
      "metadata": {
        "id": "T2C1xJzMsyls"
      }
    },
    {
      "cell_type": "markdown",
      "source": [
        "**1. Write a Python Program to Find the Factorial of a Number?**"
      ],
      "metadata": {
        "id": "0vQX91JIs4Ek"
      }
    },
    {
      "cell_type": "code",
      "execution_count": 5,
      "metadata": {
        "colab": {
          "base_uri": "https://localhost:8080/"
        },
        "id": "8e1tbWKHstpQ",
        "outputId": "14b5bb27-4640-4b6b-8d01-bd50f0e1e164"
      },
      "outputs": [
        {
          "output_type": "stream",
          "name": "stdout",
          "text": [
            "Enter thre Number you wants to Print in Factorial:5\n",
            "The Factorial of 5 is 120\n"
          ]
        }
      ],
      "source": [
        "fact = int(input(\"Enter thre Number you wants to Print in Factorial:\"))\n",
        "facts = 1\n",
        "if fact < 0:\n",
        "  print(f\"Sorry, Factorial does'nt exist\")\n",
        "elif fact == 0:\n",
        "  print(\"The Factorial of 0 is 1\")\n",
        "else:\n",
        "  for i in range(1, fact+1):\n",
        "    facts = facts*i\n",
        "  print(f\"The Factorial of {fact} is {facts}\")"
      ]
    },
    {
      "cell_type": "markdown",
      "source": [
        "**2. Write a Python Program to Display the multiplication Table?**"
      ],
      "metadata": {
        "id": "rF8CBgDh4g30"
      }
    },
    {
      "cell_type": "code",
      "source": [
        "mul = int(input(\"Enter the number you want to Multiply: \"))\n",
        "for i in range(1,11):\n",
        "  print(f\"{mul} x {i} = {mul*i}\")"
      ],
      "metadata": {
        "colab": {
          "base_uri": "https://localhost:8080/"
        },
        "id": "WUHCProt3n98",
        "outputId": "6fbe9c54-ca71-47f9-8c44-fa12f676a973"
      },
      "execution_count": 7,
      "outputs": [
        {
          "output_type": "stream",
          "name": "stdout",
          "text": [
            "Enter the number you want to Multiply: 13\n",
            "13 x 1 = 13\n",
            "13 x 2 = 26\n",
            "13 x 3 = 39\n",
            "13 x 4 = 52\n",
            "13 x 5 = 65\n",
            "13 x 6 = 78\n",
            "13 x 7 = 91\n",
            "13 x 8 = 104\n",
            "13 x 9 = 117\n",
            "13 x 10 = 130\n"
          ]
        }
      ]
    },
    {
      "cell_type": "markdown",
      "source": [
        "**3. Write a Python Program to Print the Fibonacci sequence?**"
      ],
      "metadata": {
        "id": "vyqkDgX055ix"
      }
    },
    {
      "cell_type": "code",
      "source": [
        "num = 10\n",
        "n1, n2 = 0, 1\n",
        "print(\"Fibonacci Sequence: \", n1, n2, end = \" \")\n",
        "for i in range(2, num):\n",
        "  n3 = n1 + n2\n",
        "  n1 = n2\n",
        "  n2 = n3\n",
        "  print(n3, end = \" \")\n"
      ],
      "metadata": {
        "colab": {
          "base_uri": "https://localhost:8080/"
        },
        "id": "6Zl9PD055h-6",
        "outputId": "40b9b6e2-e886-405c-ba77-0d83391066c6"
      },
      "execution_count": 14,
      "outputs": [
        {
          "output_type": "stream",
          "name": "stdout",
          "text": [
            "Fibonacci Sequence:  0 1 1 2 3 5 8 13 21 34 "
          ]
        }
      ]
    },
    {
      "cell_type": "markdown",
      "source": [
        "**4. Write a Python Program to Check Armstrong Number?**"
      ],
      "metadata": {
        "id": "4wwJswcSZGTj"
      }
    },
    {
      "cell_type": "code",
      "source": [
        "num = int(input(\"Enter the Number: \"))\n",
        "sum = 0\n",
        "n1 = len(str(num))\n",
        "temp = num\n",
        "\n",
        "while temp > 0:\n",
        "  digit = temp % 10\n",
        "  sum += digit ** n1\n",
        "  temp //=10\n",
        "if num == sum:\n",
        "  print(f\"The Number is Armstrong Number:{num}\")\n",
        "else:\n",
        "  print(f\"The Number is not Armstrong Number:{num}\")"
      ],
      "metadata": {
        "colab": {
          "base_uri": "https://localhost:8080/"
        },
        "id": "KhGyYAZ5Y8NQ",
        "outputId": "4b415a07-7811-422e-8721-0ebf6c81e1a1"
      },
      "execution_count": 1,
      "outputs": [
        {
          "output_type": "stream",
          "name": "stdout",
          "text": [
            "Enter the Number: 153\n",
            "The Number is Armstrong Number:153\n"
          ]
        }
      ]
    },
    {
      "cell_type": "markdown",
      "source": [
        "**5. Write a Python Program to Find Armstrong Number in an Interval?**"
      ],
      "metadata": {
        "id": "ZzLK-T18efVn"
      }
    },
    {
      "cell_type": "code",
      "source": [
        "start = int(input(\"Enter the Start Point Interval in Armstrong Number: \"))\n",
        "end = int(input(\"Enter the End Point Interval in Armstrong Number: \"))\n",
        "\n",
        "for num in range(start,end+1):\n",
        "  sum = 0\n",
        "  n1 = len(str(num))\n",
        "  temp = num\n",
        "\n",
        "  while temp > 0:\n",
        "      digit = temp % 10\n",
        "      sum += digit ** n1\n",
        "      temp //= 10\n",
        "\n",
        "  if num == sum:\n",
        "      print(f\"Armstrong Number: {num}\")\n",
        "\n",
        "\n"
      ],
      "metadata": {
        "colab": {
          "base_uri": "https://localhost:8080/"
        },
        "id": "7qVcP8GYbZfK",
        "outputId": "b2b0552d-ad21-43a6-d498-95af44ac9249"
      },
      "execution_count": 20,
      "outputs": [
        {
          "output_type": "stream",
          "name": "stdout",
          "text": [
            "Enter the Start Point Interval in Armstrong Number: 100\n",
            "Enter the End Point Interval in Armstrong Number: 2000\n",
            "Armstrong Number: 153\n",
            "Armstrong Number: 370\n",
            "Armstrong Number: 371\n",
            "Armstrong Number: 407\n",
            "Armstrong Number: 1634\n"
          ]
        }
      ]
    },
    {
      "cell_type": "markdown",
      "source": [
        "**6. Write a Python Program to Find the Sum of Natural Numbers?**"
      ],
      "metadata": {
        "id": "ZrUOz8OVl7F-"
      }
    },
    {
      "cell_type": "code",
      "source": [
        "num = int(input(\"Enter the last number of Natural Number: \"))\n",
        "sum = 0\n",
        "for i in range(1, num+1):\n",
        "  sum += i\n",
        "\n",
        "print(f\"Sum of Natural Number :{sum}\")"
      ],
      "metadata": {
        "colab": {
          "base_uri": "https://localhost:8080/"
        },
        "id": "GwhG1siDj9i8",
        "outputId": "9da104ea-298f-4fcb-8f26-3c248a1e519c"
      },
      "execution_count": 24,
      "outputs": [
        {
          "output_type": "stream",
          "name": "stdout",
          "text": [
            "Enter the last number of Natural Number: 200\n",
            "Sum of Natural Number :20100\n"
          ]
        }
      ]
    }
  ]
}