{
  "nbformat": 4,
  "nbformat_minor": 0,
  "metadata": {
    "colab": {
      "provenance": [],
      "authorship_tag": "ABX9TyNVLs/QQ8O6GLoCXQ7nz7Hl",
      "include_colab_link": true
    },
    "kernelspec": {
      "name": "python3",
      "display_name": "Python 3"
    },
    "language_info": {
      "name": "python"
    }
  },
  "cells": [
    {
      "cell_type": "markdown",
      "metadata": {
        "id": "view-in-github",
        "colab_type": "text"
      },
      "source": [
        "<a href=\"https://colab.research.google.com/github/sushantsekhar1/python_assignment/blob/python_basic/Assignment_012.ipynb\" target=\"_parent\"><img src=\"https://colab.research.google.com/assets/colab-badge.svg\" alt=\"Open In Colab\"/></a>"
      ]
    },
    {
      "cell_type": "markdown",
      "source": [
        "# **PYTHON - 12**"
      ],
      "metadata": {
        "id": "7sfVReHGvzQn"
      }
    },
    {
      "cell_type": "markdown",
      "source": [
        "**1. In what modes should the PdfFileReader() and PdfFileWriter() File objects will be opened?**"
      ],
      "metadata": {
        "id": "xEhsX6xvv5Vk"
      }
    },
    {
      "cell_type": "markdown",
      "source": [
        "```\n",
        "\n",
        "The PdfFileReader() and PdfFileWriter() File objects should be opened in binary mode. This is because PDF files are binary files, and opening them in text mode will cause corruption.\n",
        "```"
      ],
      "metadata": {
        "id": "gtsCryEgwiFc"
      }
    },
    {
      "cell_type": "code",
      "source": [
        "!pip install PyPDF2"
      ],
      "metadata": {
        "colab": {
          "base_uri": "https://localhost:8080/"
        },
        "id": "Qo1aOfnGxc5L",
        "outputId": "fbdcfc5d-dab1-45a8-f7ad-266586e7f532"
      },
      "execution_count": 1,
      "outputs": [
        {
          "output_type": "stream",
          "name": "stdout",
          "text": [
            "Collecting PyPDF2\n",
            "  Downloading pypdf2-3.0.1-py3-none-any.whl (232 kB)\n",
            "\u001b[?25l     \u001b[90m━━━━━━━━━━━━━━━━━━━━━━━━━━━━━━━━━━━━━━━━\u001b[0m \u001b[32m0.0/232.6 kB\u001b[0m \u001b[31m?\u001b[0m eta \u001b[36m-:--:--\u001b[0m\r\u001b[2K     \u001b[91m━━━━━━━━━━━━━━━\u001b[0m\u001b[91m╸\u001b[0m\u001b[90m━━━━━━━━━━━━━━━━━━━━━━━━\u001b[0m \u001b[32m92.2/232.6 kB\u001b[0m \u001b[31m2.5 MB/s\u001b[0m eta \u001b[36m0:00:01\u001b[0m\r\u001b[2K     \u001b[90m━━━━━━━━━━━━━━━━━━━━━━━━━━━━━━━━━━━━━━━\u001b[0m \u001b[32m232.6/232.6 kB\u001b[0m \u001b[31m3.7 MB/s\u001b[0m eta \u001b[36m0:00:00\u001b[0m\n",
            "\u001b[?25hInstalling collected packages: PyPDF2\n",
            "Successfully installed PyPDF2-3.0.1\n"
          ]
        }
      ]
    },
    {
      "cell_type": "markdown",
      "source": [
        "**2. From a PdfFileReader object, how do you get a Page object for page 5?**"
      ],
      "metadata": {
        "id": "oRfLppbX2JSe"
      }
    },
    {
      "cell_type": "code",
      "execution_count": null,
      "metadata": {
        "id": "R6oR_nZFrabz"
      },
      "outputs": [],
      "source": [
        "import PyPDF2\n",
        "\n",
        "pdfFile = open('my_pdf.pdf', 'rb')\n",
        "pdfReader = PyPDF2.PdfFileReader(pdfFile)\n",
        "\n",
        "page5 = pdfReader.getPage(5)"
      ]
    },
    {
      "cell_type": "markdown",
      "source": [
        "**3. What PdfFileReader variable stores the number of pages in the PDF document?**"
      ],
      "metadata": {
        "id": "CIS9wJUwxC8f"
      }
    },
    {
      "cell_type": "code",
      "source": [
        "import PyPDF2\n",
        "\n",
        "pdfFile = open('my_pdf.pdf', 'rb')\n",
        "pdfReader = PyPDF2.PdfFileReader(pdfFile)\n",
        "\n",
        "numPages = pdfReader.numPages\n",
        "\n",
        "print(numPages)"
      ],
      "metadata": {
        "id": "UK85I9QUxLz7"
      },
      "execution_count": null,
      "outputs": []
    },
    {
      "cell_type": "markdown",
      "source": [
        "**4. If a PdfFileReader object’s PDF is encrypted with the password swordfish, what must you do\n",
        "before you can obtain Page objects from it?**"
      ],
      "metadata": {
        "id": "XsceGASlxoUe"
      }
    },
    {
      "cell_type": "markdown",
      "source": [
        "```\n",
        "\n",
        "If a PdfFileReader object's PDF is encrypted with the password swordfish, you must decrypt the PDF before you can obtain Page objects from it.\n",
        "```"
      ],
      "metadata": {
        "id": "5yu6Qr7yyBig"
      }
    },
    {
      "cell_type": "markdown",
      "source": [
        "**5. What methods do you use to rotate a page?**"
      ],
      "metadata": {
        "id": "alx7XKg9yG_i"
      }
    },
    {
      "cell_type": "markdown",
      "source": [
        "```\n",
        "There are two methods that you can use to rotate a page in Python:\n",
        "\n",
        "* The rotate() method of the PdfFileReader object.\n",
        "* The rotate() method of the Page object.\n",
        "\n",
        "For Example: pdfReader.rotate(90) line rotates all of the pages in the PDF file by 90 degrees.\n",
        "```"
      ],
      "metadata": {
        "id": "4dSBf4nky-7r"
      }
    },
    {
      "cell_type": "markdown",
      "source": [
        "**6. What is the difference between a Run object and a Paragraph object?**"
      ],
      "metadata": {
        "id": "swgIMm_9zS0P"
      }
    },
    {
      "cell_type": "markdown",
      "source": [
        "```\n",
        "A Run object is a sequence of text or other content in a PDF file. It can contain text, images, or other objects.\n",
        "\n",
        "A Paragraph object is a collection of Run objects. It represents a single paragraph of text in a PDF file.\n",
        "```"
      ],
      "metadata": {
        "id": "CB7b0NcIzk-V"
      }
    },
    {
      "cell_type": "markdown",
      "source": [
        "**7. How do you obtain a list of Paragraph objects for a Document object that’s stored in a variable\n",
        "named doc?**"
      ],
      "metadata": {
        "id": "WL09fWSlzpnt"
      }
    },
    {
      "cell_type": "code",
      "source": [
        "!pip install python-docx\n"
      ],
      "metadata": {
        "colab": {
          "base_uri": "https://localhost:8080/"
        },
        "id": "PjZUT3MLxsw2",
        "outputId": "871f8b97-e07a-4080-e991-8afbce5f8f2d"
      },
      "execution_count": 4,
      "outputs": [
        {
          "output_type": "stream",
          "name": "stdout",
          "text": [
            "Requirement already satisfied: python-docx in /usr/local/lib/python3.10/dist-packages (0.8.11)\n",
            "Requirement already satisfied: lxml>=2.3.2 in /usr/local/lib/python3.10/dist-packages (from python-docx) (4.9.3)\n"
          ]
        }
      ]
    },
    {
      "cell_type": "code",
      "source": [
        "import docx\n",
        "\n",
        "doc = docx.Document('abc.docx')\n",
        "\n",
        "for paragraph in doc.paragraphs:\n",
        "    print(paragraph.text)\n",
        "#By using doc.paragraphs"
      ],
      "metadata": {
        "id": "Wfp3-Q-j0ZVM"
      },
      "execution_count": null,
      "outputs": []
    },
    {
      "cell_type": "markdown",
      "source": [
        "**8. What type of object has bold, underline, italic, strike, and outline variables?**"
      ],
      "metadata": {
        "id": "PDvFPXXy0aXi"
      }
    },
    {
      "cell_type": "markdown",
      "source": [
        "```\n",
        "The Run object in Python-docx has bold, underline, italic, strike, and outline variables.\n",
        "```"
      ],
      "metadata": {
        "id": "Ioyqb9Eg0ueN"
      }
    },
    {
      "cell_type": "markdown",
      "source": [
        "**9. What is the difference between False, True, and None for the bold variable?**"
      ],
      "metadata": {
        "id": "a-eP6uJ30wyM"
      }
    },
    {
      "cell_type": "markdown",
      "source": [
        "```\n",
        "\n",
        "The bold variable in a Run object in Python-docx can have three values: False, True, and None.\n",
        "\n",
        "* False indicates that the text is not bold.\n",
        "* True indicates that the text is bold.\n",
        "* None indicates that the text has no bold formatting.\n",
        "```"
      ],
      "metadata": {
        "id": "n0dHLbuq0-XG"
      }
    },
    {
      "cell_type": "markdown",
      "source": [
        "**10. How do you create a Document object for a new Word document?**"
      ],
      "metadata": {
        "id": "hHDnD4TW1E7p"
      }
    },
    {
      "cell_type": "markdown",
      "source": [
        "```\n",
        "By Calling the docx.Document() function.\n",
        "```"
      ],
      "metadata": {
        "id": "i2JwWf8b1P1c"
      }
    },
    {
      "cell_type": "markdown",
      "source": [
        "**11.\n",
        "How do you add a paragraph with the text 'Hello, there!'' to a Document object stored in a variable named doc?**"
      ],
      "metadata": {
        "id": "qdOVHlzh1RqV"
      }
    },
    {
      "cell_type": "code",
      "source": [
        "import docx\n",
        "\n",
        "doc = docx.Document()\n",
        "\n",
        "paragraph = doc.add_paragraph()\n",
        "paragraph.text = \"Hello, there!\"\n",
        "\n",
        "doc.save('my_document.docx')"
      ],
      "metadata": {
        "id": "XlFpQlJo0gon"
      },
      "execution_count": null,
      "outputs": []
    },
    {
      "cell_type": "markdown",
      "source": [
        "**12. What integers represent the levels of headings available in Word documents?**"
      ],
      "metadata": {
        "id": "nRRpFyb81ral"
      }
    },
    {
      "cell_type": "markdown",
      "source": [
        "```\n",
        "In Word documents, the levels of headings available are represented by integers from 1 to 9. The integer 1 represents the highest level heading, and the integer 9 represents the lowest level heading.\n",
        "```"
      ],
      "metadata": {
        "id": "7le9xt6o155r"
      }
    }
  ]
}